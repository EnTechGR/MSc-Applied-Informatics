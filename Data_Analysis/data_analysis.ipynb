{
 "cells": [
  {
   "cell_type": "markdown",
   "metadata": {},
   "source": [
    "# Περιγραφή Δεδομένων"
   ]
  },
  {
   "cell_type": "markdown",
   "metadata": {},
   "source": [
    "Τα δεδομένα προέρχονται απο εκπομπές του συστήματος AIS, που αποτελεί μέσο αναγνώρισης πλοίων. Για την λήψη του χρησιμοποιήθηκε πηγή open source ενώ η περιοχή ενδιαφέροντος περιλαμβάνει την Μεσόγειο θάλασσα. Τα δεδομένα αντλήθηκαν στις 09-12-2023."
   ]
  },
  {
   "cell_type": "markdown",
   "metadata": {},
   "source": [
    "Αρχικά εισάγουμε τις βιβλιοθήκες εκείνες που θα μας βοηθήσουν στην ανάλυση των δεδομένων μας."
   ]
  },
  {
   "cell_type": "code",
   "execution_count": 1,
   "metadata": {},
   "outputs": [
    {
     "name": "stderr",
     "output_type": "stream",
     "text": [
      "/mnt/c/Users/marin/Documents/MSc-Applied-Informatics/OSINT/.venv/lib/python3.12/site-packages/movingpandas/__init__.py:41: UserWarning: Missing optional dependencies. To use the trajectory smoother classes please install Stone Soup (see https://stonesoup.readthedocs.io/en/latest/#installation).\n",
      "  warnings.warn(e.msg, UserWarning)\n"
     ]
    },
    {
     "data": {
      "text/html": [
       "<script type=\"esms-options\">{\"shimMode\": true}</script><style>*[data-root-id],\n",
       "*[data-root-id] > * {\n",
       "  box-sizing: border-box;\n",
       "  font-family: var(--jp-ui-font-family);\n",
       "  font-size: var(--jp-ui-font-size1);\n",
       "  color: var(--vscode-editor-foreground, var(--jp-ui-font-color1));\n",
       "}\n",
       "\n",
       "/* Override VSCode background color */\n",
       ".cell-output-ipywidget-background:has(\n",
       "  > .cell-output-ipywidget-background > .lm-Widget > *[data-root-id]\n",
       "),\n",
       ".cell-output-ipywidget-background:has(> .lm-Widget > *[data-root-id]) {\n",
       "  background-color: transparent !important;\n",
       "}\n",
       "</style>"
      ]
     },
     "metadata": {},
     "output_type": "display_data"
    },
    {
     "data": {
      "application/javascript": "(function(root) {\n  function now() {\n    return new Date();\n  }\n\n  const force = true;\n  const py_version = '3.7.3'.replace('rc', '-rc.').replace('.dev', '-dev.');\n  const reloading = false;\n  const Bokeh = root.Bokeh;\n\n  // Set a timeout for this load but only if we are not already initializing\n  if (typeof (root._bokeh_timeout) === \"undefined\" || (force || !root._bokeh_is_initializing)) {\n    root._bokeh_timeout = Date.now() + 5000;\n    root._bokeh_failed_load = false;\n  }\n\n  function run_callbacks() {\n    try {\n      root._bokeh_onload_callbacks.forEach(function(callback) {\n        if (callback != null)\n          callback();\n      });\n    } finally {\n      delete root._bokeh_onload_callbacks;\n    }\n    console.debug(\"Bokeh: all callbacks have finished\");\n  }\n\n  function load_libs(css_urls, js_urls, js_modules, js_exports, callback) {\n    if (css_urls == null) css_urls = [];\n    if (js_urls == null) js_urls = [];\n    if (js_modules == null) js_modules = [];\n    if (js_exports == null) js_exports = {};\n\n    root._bokeh_onload_callbacks.push(callback);\n\n    if (root._bokeh_is_loading > 0) {\n      // Don't load bokeh if it is still initializing\n      console.debug(\"Bokeh: BokehJS is being loaded, scheduling callback at\", now());\n      return null;\n    } else if (js_urls.length === 0 && js_modules.length === 0 && Object.keys(js_exports).length === 0) {\n      // There is nothing to load\n      run_callbacks();\n      return null;\n    }\n\n    function on_load() {\n      root._bokeh_is_loading--;\n      if (root._bokeh_is_loading === 0) {\n        console.debug(\"Bokeh: all BokehJS libraries/stylesheets loaded\");\n        run_callbacks()\n      }\n    }\n    window._bokeh_on_load = on_load\n\n    function on_error(e) {\n      const src_el = e.srcElement\n      console.error(\"failed to load \" + (src_el.href || src_el.src));\n    }\n\n    const skip = [];\n    if (window.requirejs) {\n      window.requirejs.config({'packages': {}, 'paths': {}, 'shim': {}});\n      root._bokeh_is_loading = css_urls.length + 0;\n    } else {\n      root._bokeh_is_loading = css_urls.length + js_urls.length + js_modules.length + Object.keys(js_exports).length;\n    }\n\n    const existing_stylesheets = []\n    const links = document.getElementsByTagName('link')\n    for (let i = 0; i < links.length; i++) {\n      const link = links[i]\n      if (link.href != null) {\n        existing_stylesheets.push(link.href)\n      }\n    }\n    for (let i = 0; i < css_urls.length; i++) {\n      const url = css_urls[i];\n      const escaped = encodeURI(url)\n      if (existing_stylesheets.indexOf(escaped) !== -1) {\n        on_load()\n        continue;\n      }\n      const element = document.createElement(\"link\");\n      element.onload = on_load;\n      element.onerror = on_error;\n      element.rel = \"stylesheet\";\n      element.type = \"text/css\";\n      element.href = url;\n      console.debug(\"Bokeh: injecting link tag for BokehJS stylesheet: \", url);\n      document.body.appendChild(element);\n    }    var existing_scripts = []\n    const scripts = document.getElementsByTagName('script')\n    for (let i = 0; i < scripts.length; i++) {\n      var script = scripts[i]\n      if (script.src != null) {\n        existing_scripts.push(script.src)\n      }\n    }\n    for (let i = 0; i < js_urls.length; i++) {\n      const url = js_urls[i];\n      const escaped = encodeURI(url)\n      if (skip.indexOf(escaped) !== -1 || existing_scripts.indexOf(escaped) !== -1) {\n        if (!window.requirejs) {\n          on_load();\n        }\n        continue;\n      }\n      const element = document.createElement('script');\n      element.onload = on_load;\n      element.onerror = on_error;\n      element.async = false;\n      element.src = url;\n      console.debug(\"Bokeh: injecting script tag for BokehJS library: \", url);\n      document.head.appendChild(element);\n    }\n    for (let i = 0; i < js_modules.length; i++) {\n      const url = js_modules[i];\n      const escaped = encodeURI(url)\n      if (skip.indexOf(escaped) !== -1 || existing_scripts.indexOf(escaped) !== -1) {\n        if (!window.requirejs) {\n          on_load();\n        }\n        continue;\n      }\n      var element = document.createElement('script');\n      element.onload = on_load;\n      element.onerror = on_error;\n      element.async = false;\n      element.src = url;\n      element.type = \"module\";\n      console.debug(\"Bokeh: injecting script tag for BokehJS library: \", url);\n      document.head.appendChild(element);\n    }\n    for (const name in js_exports) {\n      const url = js_exports[name];\n      const escaped = encodeURI(url)\n      if (skip.indexOf(escaped) >= 0 || root[name] != null) {\n        if (!window.requirejs) {\n          on_load();\n        }\n        continue;\n      }\n      var element = document.createElement('script');\n      element.onerror = on_error;\n      element.async = false;\n      element.type = \"module\";\n      console.debug(\"Bokeh: injecting script tag for BokehJS library: \", url);\n      element.textContent = `\n      import ${name} from \"${url}\"\n      window.${name} = ${name}\n      window._bokeh_on_load()\n      `\n      document.head.appendChild(element);\n    }\n    if (!js_urls.length && !js_modules.length) {\n      on_load()\n    }\n  };\n\n  function inject_raw_css(css) {\n    const element = document.createElement(\"style\");\n    element.appendChild(document.createTextNode(css));\n    document.body.appendChild(element);\n  }\n\n  const js_urls = [\"https://cdn.holoviz.org/panel/1.7.5/dist/bundled/reactiveesm/es-module-shims@^1.10.0/dist/es-module-shims.min.js\", \"https://cdn.bokeh.org/bokeh/release/bokeh-3.7.3.min.js\", \"https://cdn.bokeh.org/bokeh/release/bokeh-gl-3.7.3.min.js\", \"https://cdn.bokeh.org/bokeh/release/bokeh-widgets-3.7.3.min.js\", \"https://cdn.bokeh.org/bokeh/release/bokeh-tables-3.7.3.min.js\", \"https://cdn.holoviz.org/panel/1.7.5/dist/panel.min.js\"];\n  const js_modules = [];\n  const js_exports = {};\n  const css_urls = [];\n  const inline_js = [    function(Bokeh) {\n      Bokeh.set_log_level(\"info\");\n    },\nfunction(Bokeh) {} // ensure no trailing comma for IE\n  ];\n\n  function run_inline_js() {\n    if ((root.Bokeh !== undefined) || (force === true)) {\n      for (let i = 0; i < inline_js.length; i++) {\n        try {\n          inline_js[i].call(root, root.Bokeh);\n        } catch(e) {\n          if (!reloading) {\n            throw e;\n          }\n        }\n      }\n      // Cache old bokeh versions\n      if (Bokeh != undefined && !reloading) {\n        var NewBokeh = root.Bokeh;\n        if (Bokeh.versions === undefined) {\n          Bokeh.versions = new Map();\n        }\n        if (NewBokeh.version !== Bokeh.version) {\n          Bokeh.versions.set(NewBokeh.version, NewBokeh)\n        }\n        root.Bokeh = Bokeh;\n      }\n    } else if (Date.now() < root._bokeh_timeout) {\n      setTimeout(run_inline_js, 100);\n    } else if (!root._bokeh_failed_load) {\n      console.log(\"Bokeh: BokehJS failed to load within specified timeout.\");\n      root._bokeh_failed_load = true;\n    }\n    root._bokeh_is_initializing = false\n  }\n\n  function load_or_wait() {\n    // Implement a backoff loop that tries to ensure we do not load multiple\n    // versions of Bokeh and its dependencies at the same time.\n    // In recent versions we use the root._bokeh_is_initializing flag\n    // to determine whether there is an ongoing attempt to initialize\n    // bokeh, however for backward compatibility we also try to ensure\n    // that we do not start loading a newer (Panel>=1.0 and Bokeh>3) version\n    // before older versions are fully initialized.\n    if (root._bokeh_is_initializing && Date.now() > root._bokeh_timeout) {\n      // If the timeout and bokeh was not successfully loaded we reset\n      // everything and try loading again\n      root._bokeh_timeout = Date.now() + 5000;\n      root._bokeh_is_initializing = false;\n      root._bokeh_onload_callbacks = undefined;\n      root._bokeh_is_loading = 0\n      console.log(\"Bokeh: BokehJS was loaded multiple times but one version failed to initialize.\");\n      load_or_wait();\n    } else if (root._bokeh_is_initializing || (typeof root._bokeh_is_initializing === \"undefined\" && root._bokeh_onload_callbacks !== undefined)) {\n      setTimeout(load_or_wait, 100);\n    } else {\n      root._bokeh_is_initializing = true\n      root._bokeh_onload_callbacks = []\n      const bokeh_loaded = root.Bokeh != null && (root.Bokeh.version === py_version || (root.Bokeh.versions !== undefined && root.Bokeh.versions.has(py_version)));\n      if (!reloading && !bokeh_loaded) {\n        if (root.Bokeh) {\n          root.Bokeh = undefined;\n        }\n        console.debug(\"Bokeh: BokehJS not loaded, scheduling load and callback at\", now());\n      }\n      load_libs(css_urls, js_urls, js_modules, js_exports, function() {\n        console.debug(\"Bokeh: BokehJS plotting callback run at\", now());\n        run_inline_js();\n      });\n    }\n  }\n  // Give older versions of the autoload script a head-start to ensure\n  // they initialize before we start loading newer version.\n  setTimeout(load_or_wait, 100)\n}(window));",
      "application/vnd.holoviews_load.v0+json": ""
     },
     "metadata": {},
     "output_type": "display_data"
    },
    {
     "data": {
      "application/javascript": "\nif ((window.PyViz === undefined) || (window.PyViz instanceof HTMLElement)) {\n  window.PyViz = {comms: {}, comm_status:{}, kernels:{}, receivers: {}, plot_index: []}\n}\n\n\n    function JupyterCommManager() {\n    }\n\n    JupyterCommManager.prototype.register_target = function(plot_id, comm_id, msg_handler) {\n      if (window.comm_manager || ((window.Jupyter !== undefined) && (Jupyter.notebook.kernel != null))) {\n        var comm_manager = window.comm_manager || Jupyter.notebook.kernel.comm_manager;\n        comm_manager.register_target(comm_id, function(comm) {\n          comm.on_msg(msg_handler);\n        });\n      } else if ((plot_id in window.PyViz.kernels) && (window.PyViz.kernels[plot_id])) {\n        window.PyViz.kernels[plot_id].registerCommTarget(comm_id, function(comm) {\n          comm.onMsg = msg_handler;\n        });\n      } else if (typeof google != 'undefined' && google.colab.kernel != null) {\n        google.colab.kernel.comms.registerTarget(comm_id, (comm) => {\n          var messages = comm.messages[Symbol.asyncIterator]();\n          function processIteratorResult(result) {\n            var message = result.value;\n            var content = {data: message.data, comm_id};\n            var buffers = []\n            for (var buffer of message.buffers || []) {\n              buffers.push(new DataView(buffer))\n            }\n            var metadata = message.metadata || {};\n            var msg = {content, buffers, metadata}\n            msg_handler(msg);\n            return messages.next().then(processIteratorResult);\n          }\n          return messages.next().then(processIteratorResult);\n        })\n      }\n    }\n\n    JupyterCommManager.prototype.get_client_comm = function(plot_id, comm_id, msg_handler) {\n      if (comm_id in window.PyViz.comms) {\n        return window.PyViz.comms[comm_id];\n      } else if (window.comm_manager || ((window.Jupyter !== undefined) && (Jupyter.notebook.kernel != null))) {\n        var comm_manager = window.comm_manager || Jupyter.notebook.kernel.comm_manager;\n        var comm = comm_manager.new_comm(comm_id, {}, {}, {}, comm_id);\n        if (msg_handler) {\n          comm.on_msg(msg_handler);\n        }\n      } else if ((plot_id in window.PyViz.kernels) && (window.PyViz.kernels[plot_id])) {\n        var comm = window.PyViz.kernels[plot_id].connectToComm(comm_id);\n        let retries = 0;\n        const open = () => {\n          if (comm.active) {\n            comm.open();\n          } else if (retries > 3) {\n            console.warn('Comm target never activated')\n          } else {\n            retries += 1\n            setTimeout(open, 500)\n          }\n        }\n        if (comm.active) {\n          comm.open();\n        } else {\n          setTimeout(open, 500)\n        }\n        if (msg_handler) {\n          comm.onMsg = msg_handler;\n        }\n      } else if (typeof google != 'undefined' && google.colab.kernel != null) {\n        var comm_promise = google.colab.kernel.comms.open(comm_id)\n        comm_promise.then((comm) => {\n          window.PyViz.comms[comm_id] = comm;\n          if (msg_handler) {\n            var messages = comm.messages[Symbol.asyncIterator]();\n            function processIteratorResult(result) {\n              var message = result.value;\n              var content = {data: message.data};\n              var metadata = message.metadata || {comm_id};\n              var msg = {content, metadata}\n              msg_handler(msg);\n              return messages.next().then(processIteratorResult);\n            }\n            return messages.next().then(processIteratorResult);\n          }\n        })\n        var sendClosure = (data, metadata, buffers, disposeOnDone) => {\n          return comm_promise.then((comm) => {\n            comm.send(data, metadata, buffers, disposeOnDone);\n          });\n        };\n        var comm = {\n          send: sendClosure\n        };\n      }\n      window.PyViz.comms[comm_id] = comm;\n      return comm;\n    }\n    window.PyViz.comm_manager = new JupyterCommManager();\n    \n\n\nvar JS_MIME_TYPE = 'application/javascript';\nvar HTML_MIME_TYPE = 'text/html';\nvar EXEC_MIME_TYPE = 'application/vnd.holoviews_exec.v0+json';\nvar CLASS_NAME = 'output';\n\n/**\n * Render data to the DOM node\n */\nfunction render(props, node) {\n  var div = document.createElement(\"div\");\n  var script = document.createElement(\"script\");\n  node.appendChild(div);\n  node.appendChild(script);\n}\n\n/**\n * Handle when a new output is added\n */\nfunction handle_add_output(event, handle) {\n  var output_area = handle.output_area;\n  var output = handle.output;\n  if ((output.data == undefined) || (!output.data.hasOwnProperty(EXEC_MIME_TYPE))) {\n    return\n  }\n  var id = output.metadata[EXEC_MIME_TYPE][\"id\"];\n  var toinsert = output_area.element.find(\".\" + CLASS_NAME.split(' ')[0]);\n  if (id !== undefined) {\n    var nchildren = toinsert.length;\n    var html_node = toinsert[nchildren-1].children[0];\n    html_node.innerHTML = output.data[HTML_MIME_TYPE];\n    var scripts = [];\n    var nodelist = html_node.querySelectorAll(\"script\");\n    for (var i in nodelist) {\n      if (nodelist.hasOwnProperty(i)) {\n        scripts.push(nodelist[i])\n      }\n    }\n\n    scripts.forEach( function (oldScript) {\n      var newScript = document.createElement(\"script\");\n      var attrs = [];\n      var nodemap = oldScript.attributes;\n      for (var j in nodemap) {\n        if (nodemap.hasOwnProperty(j)) {\n          attrs.push(nodemap[j])\n        }\n      }\n      attrs.forEach(function(attr) { newScript.setAttribute(attr.name, attr.value) });\n      newScript.appendChild(document.createTextNode(oldScript.innerHTML));\n      oldScript.parentNode.replaceChild(newScript, oldScript);\n    });\n    if (JS_MIME_TYPE in output.data) {\n      toinsert[nchildren-1].children[1].textContent = output.data[JS_MIME_TYPE];\n    }\n    output_area._hv_plot_id = id;\n    if ((window.Bokeh !== undefined) && (id in Bokeh.index)) {\n      window.PyViz.plot_index[id] = Bokeh.index[id];\n    } else {\n      window.PyViz.plot_index[id] = null;\n    }\n  } else if (output.metadata[EXEC_MIME_TYPE][\"server_id\"] !== undefined) {\n    var bk_div = document.createElement(\"div\");\n    bk_div.innerHTML = output.data[HTML_MIME_TYPE];\n    var script_attrs = bk_div.children[0].attributes;\n    for (var i = 0; i < script_attrs.length; i++) {\n      toinsert[toinsert.length - 1].childNodes[1].setAttribute(script_attrs[i].name, script_attrs[i].value);\n    }\n    // store reference to server id on output_area\n    output_area._bokeh_server_id = output.metadata[EXEC_MIME_TYPE][\"server_id\"];\n  }\n}\n\n/**\n * Handle when an output is cleared or removed\n */\nfunction handle_clear_output(event, handle) {\n  var id = handle.cell.output_area._hv_plot_id;\n  var server_id = handle.cell.output_area._bokeh_server_id;\n  if (((id === undefined) || !(id in PyViz.plot_index)) && (server_id !== undefined)) { return; }\n  var comm = window.PyViz.comm_manager.get_client_comm(\"hv-extension-comm\", \"hv-extension-comm\", function () {});\n  if (server_id !== null) {\n    comm.send({event_type: 'server_delete', 'id': server_id});\n    return;\n  } else if (comm !== null) {\n    comm.send({event_type: 'delete', 'id': id});\n  }\n  delete PyViz.plot_index[id];\n  if ((window.Bokeh !== undefined) & (id in window.Bokeh.index)) {\n    var doc = window.Bokeh.index[id].model.document\n    doc.clear();\n    const i = window.Bokeh.documents.indexOf(doc);\n    if (i > -1) {\n      window.Bokeh.documents.splice(i, 1);\n    }\n  }\n}\n\n/**\n * Handle kernel restart event\n */\nfunction handle_kernel_cleanup(event, handle) {\n  delete PyViz.comms[\"hv-extension-comm\"];\n  window.PyViz.plot_index = {}\n}\n\n/**\n * Handle update_display_data messages\n */\nfunction handle_update_output(event, handle) {\n  handle_clear_output(event, {cell: {output_area: handle.output_area}})\n  handle_add_output(event, handle)\n}\n\nfunction register_renderer(events, OutputArea) {\n  function append_mime(data, metadata, element) {\n    // create a DOM node to render to\n    var toinsert = this.create_output_subarea(\n    metadata,\n    CLASS_NAME,\n    EXEC_MIME_TYPE\n    );\n    this.keyboard_manager.register_events(toinsert);\n    // Render to node\n    var props = {data: data, metadata: metadata[EXEC_MIME_TYPE]};\n    render(props, toinsert[0]);\n    element.append(toinsert);\n    return toinsert\n  }\n\n  events.on('output_added.OutputArea', handle_add_output);\n  events.on('output_updated.OutputArea', handle_update_output);\n  events.on('clear_output.CodeCell', handle_clear_output);\n  events.on('delete.Cell', handle_clear_output);\n  events.on('kernel_ready.Kernel', handle_kernel_cleanup);\n\n  OutputArea.prototype.register_mime_type(EXEC_MIME_TYPE, append_mime, {\n    safe: true,\n    index: 0\n  });\n}\n\nif (window.Jupyter !== undefined) {\n  try {\n    var events = require('base/js/events');\n    var OutputArea = require('notebook/js/outputarea').OutputArea;\n    if (OutputArea.prototype.mime_types().indexOf(EXEC_MIME_TYPE) == -1) {\n      register_renderer(events, OutputArea);\n    }\n  } catch(err) {\n  }\n}\n",
      "application/vnd.holoviews_load.v0+json": ""
     },
     "metadata": {},
     "output_type": "display_data"
    },
    {
     "data": {
      "application/vnd.holoviews_exec.v0+json": "",
      "text/html": [
       "<div id='de8e2f53-4140-483a-a9ae-e181423ed49e'>\n",
       "  <div id=\"edf67307-a8b4-45f3-87de-4ca0a9bf920c\" data-root-id=\"de8e2f53-4140-483a-a9ae-e181423ed49e\" style=\"display: contents;\"></div>\n",
       "</div>\n",
       "<script type=\"application/javascript\">(function(root) {\n",
       "  var docs_json = {\"60e74583-6b62-491d-ba2c-40a1fb177435\":{\"version\":\"3.7.3\",\"title\":\"Bokeh Application\",\"roots\":[{\"type\":\"object\",\"name\":\"panel.models.browser.BrowserInfo\",\"id\":\"de8e2f53-4140-483a-a9ae-e181423ed49e\"},{\"type\":\"object\",\"name\":\"panel.models.comm_manager.CommManager\",\"id\":\"708a4db1-b4db-46ab-b06a-3f6d05716bba\",\"attributes\":{\"plot_id\":\"de8e2f53-4140-483a-a9ae-e181423ed49e\",\"comm_id\":\"e9768f5dac724dcc9d68def45cd336d3\",\"client_comm_id\":\"c823ebecd28448f4a7b5506186dcd62d\"}}],\"defs\":[{\"type\":\"model\",\"name\":\"ReactiveHTML1\"},{\"type\":\"model\",\"name\":\"FlexBox1\",\"properties\":[{\"name\":\"align_content\",\"kind\":\"Any\",\"default\":\"flex-start\"},{\"name\":\"align_items\",\"kind\":\"Any\",\"default\":\"flex-start\"},{\"name\":\"flex_direction\",\"kind\":\"Any\",\"default\":\"row\"},{\"name\":\"flex_wrap\",\"kind\":\"Any\",\"default\":\"wrap\"},{\"name\":\"gap\",\"kind\":\"Any\",\"default\":\"\"},{\"name\":\"justify_content\",\"kind\":\"Any\",\"default\":\"flex-start\"}]},{\"type\":\"model\",\"name\":\"FloatPanel1\",\"properties\":[{\"name\":\"config\",\"kind\":\"Any\",\"default\":{\"type\":\"map\"}},{\"name\":\"contained\",\"kind\":\"Any\",\"default\":true},{\"name\":\"position\",\"kind\":\"Any\",\"default\":\"right-top\"},{\"name\":\"offsetx\",\"kind\":\"Any\",\"default\":null},{\"name\":\"offsety\",\"kind\":\"Any\",\"default\":null},{\"name\":\"theme\",\"kind\":\"Any\",\"default\":\"primary\"},{\"name\":\"status\",\"kind\":\"Any\",\"default\":\"normalized\"}]},{\"type\":\"model\",\"name\":\"GridStack1\",\"properties\":[{\"name\":\"ncols\",\"kind\":\"Any\",\"default\":null},{\"name\":\"nrows\",\"kind\":\"Any\",\"default\":null},{\"name\":\"allow_resize\",\"kind\":\"Any\",\"default\":true},{\"name\":\"allow_drag\",\"kind\":\"Any\",\"default\":true},{\"name\":\"state\",\"kind\":\"Any\",\"default\":[]}]},{\"type\":\"model\",\"name\":\"drag1\",\"properties\":[{\"name\":\"slider_width\",\"kind\":\"Any\",\"default\":5},{\"name\":\"slider_color\",\"kind\":\"Any\",\"default\":\"black\"},{\"name\":\"value\",\"kind\":\"Any\",\"default\":50}]},{\"type\":\"model\",\"name\":\"click1\",\"properties\":[{\"name\":\"terminal_output\",\"kind\":\"Any\",\"default\":\"\"},{\"name\":\"debug_name\",\"kind\":\"Any\",\"default\":\"\"},{\"name\":\"clears\",\"kind\":\"Any\",\"default\":0}]},{\"type\":\"model\",\"name\":\"ReactiveESM1\",\"properties\":[{\"name\":\"esm_constants\",\"kind\":\"Any\",\"default\":{\"type\":\"map\"}}]},{\"type\":\"model\",\"name\":\"JSComponent1\",\"properties\":[{\"name\":\"esm_constants\",\"kind\":\"Any\",\"default\":{\"type\":\"map\"}}]},{\"type\":\"model\",\"name\":\"ReactComponent1\",\"properties\":[{\"name\":\"use_shadow_dom\",\"kind\":\"Any\",\"default\":true},{\"name\":\"esm_constants\",\"kind\":\"Any\",\"default\":{\"type\":\"map\"}}]},{\"type\":\"model\",\"name\":\"AnyWidgetComponent1\",\"properties\":[{\"name\":\"use_shadow_dom\",\"kind\":\"Any\",\"default\":true},{\"name\":\"esm_constants\",\"kind\":\"Any\",\"default\":{\"type\":\"map\"}}]},{\"type\":\"model\",\"name\":\"FastWrapper1\",\"properties\":[{\"name\":\"object\",\"kind\":\"Any\",\"default\":null},{\"name\":\"style\",\"kind\":\"Any\",\"default\":null}]},{\"type\":\"model\",\"name\":\"NotificationArea1\",\"properties\":[{\"name\":\"js_events\",\"kind\":\"Any\",\"default\":{\"type\":\"map\"}},{\"name\":\"max_notifications\",\"kind\":\"Any\",\"default\":5},{\"name\":\"notifications\",\"kind\":\"Any\",\"default\":[]},{\"name\":\"position\",\"kind\":\"Any\",\"default\":\"bottom-right\"},{\"name\":\"_clear\",\"kind\":\"Any\",\"default\":0},{\"name\":\"types\",\"kind\":\"Any\",\"default\":[{\"type\":\"map\",\"entries\":[[\"type\",\"warning\"],[\"background\",\"#ffc107\"],[\"icon\",{\"type\":\"map\",\"entries\":[[\"className\",\"fas fa-exclamation-triangle\"],[\"tagName\",\"i\"],[\"color\",\"white\"]]}]]},{\"type\":\"map\",\"entries\":[[\"type\",\"info\"],[\"background\",\"#007bff\"],[\"icon\",{\"type\":\"map\",\"entries\":[[\"className\",\"fas fa-info-circle\"],[\"tagName\",\"i\"],[\"color\",\"white\"]]}]]}]}]},{\"type\":\"model\",\"name\":\"Notification\",\"properties\":[{\"name\":\"background\",\"kind\":\"Any\",\"default\":null},{\"name\":\"duration\",\"kind\":\"Any\",\"default\":3000},{\"name\":\"icon\",\"kind\":\"Any\",\"default\":null},{\"name\":\"message\",\"kind\":\"Any\",\"default\":\"\"},{\"name\":\"notification_type\",\"kind\":\"Any\",\"default\":null},{\"name\":\"_rendered\",\"kind\":\"Any\",\"default\":false},{\"name\":\"_destroyed\",\"kind\":\"Any\",\"default\":false}]},{\"type\":\"model\",\"name\":\"TemplateActions1\",\"properties\":[{\"name\":\"open_modal\",\"kind\":\"Any\",\"default\":0},{\"name\":\"close_modal\",\"kind\":\"Any\",\"default\":0}]},{\"type\":\"model\",\"name\":\"BootstrapTemplateActions1\",\"properties\":[{\"name\":\"open_modal\",\"kind\":\"Any\",\"default\":0},{\"name\":\"close_modal\",\"kind\":\"Any\",\"default\":0}]},{\"type\":\"model\",\"name\":\"TemplateEditor1\",\"properties\":[{\"name\":\"layout\",\"kind\":\"Any\",\"default\":[]}]},{\"type\":\"model\",\"name\":\"MaterialTemplateActions1\",\"properties\":[{\"name\":\"open_modal\",\"kind\":\"Any\",\"default\":0},{\"name\":\"close_modal\",\"kind\":\"Any\",\"default\":0}]},{\"type\":\"model\",\"name\":\"request_value1\",\"properties\":[{\"name\":\"fill\",\"kind\":\"Any\",\"default\":\"none\"},{\"name\":\"_synced\",\"kind\":\"Any\",\"default\":null},{\"name\":\"_request_sync\",\"kind\":\"Any\",\"default\":0}]},{\"type\":\"model\",\"name\":\"holoviews.plotting.bokeh.raster.HoverModel\",\"properties\":[{\"name\":\"xy\",\"kind\":\"Any\",\"default\":null},{\"name\":\"data\",\"kind\":\"Any\",\"default\":null}]}]}};\n",
       "  var render_items = [{\"docid\":\"60e74583-6b62-491d-ba2c-40a1fb177435\",\"roots\":{\"de8e2f53-4140-483a-a9ae-e181423ed49e\":\"edf67307-a8b4-45f3-87de-4ca0a9bf920c\"},\"root_ids\":[\"de8e2f53-4140-483a-a9ae-e181423ed49e\"]}];\n",
       "  var docs = Object.values(docs_json)\n",
       "  if (!docs) {\n",
       "    return\n",
       "  }\n",
       "  const py_version = docs[0].version.replace('rc', '-rc.').replace('.dev', '-dev.')\n",
       "  async function embed_document(root) {\n",
       "    var Bokeh = get_bokeh(root)\n",
       "    await Bokeh.embed.embed_items_notebook(docs_json, render_items);\n",
       "    for (const render_item of render_items) {\n",
       "      for (const root_id of render_item.root_ids) {\n",
       "\tconst id_el = document.getElementById(root_id)\n",
       "\tif (id_el.children.length && id_el.children[0].hasAttribute('data-root-id')) {\n",
       "\t  const root_el = id_el.children[0]\n",
       "\t  root_el.id = root_el.id + '-rendered'\n",
       "\t  for (const child of root_el.children) {\n",
       "            // Ensure JupyterLab does not capture keyboard shortcuts\n",
       "            // see: https://jupyterlab.readthedocs.io/en/4.1.x/extension/notebook.html#keyboard-interaction-model\n",
       "\t    child.setAttribute('data-lm-suppress-shortcuts', 'true')\n",
       "\t  }\n",
       "\t}\n",
       "      }\n",
       "    }\n",
       "  }\n",
       "  function get_bokeh(root) {\n",
       "    if (root.Bokeh === undefined) {\n",
       "      return null\n",
       "    } else if (root.Bokeh.version !== py_version) {\n",
       "      if (root.Bokeh.versions === undefined || !root.Bokeh.versions.has(py_version)) {\n",
       "\treturn null\n",
       "      }\n",
       "      return root.Bokeh.versions.get(py_version);\n",
       "    } else if (root.Bokeh.version === py_version) {\n",
       "      return root.Bokeh\n",
       "    }\n",
       "    return null\n",
       "  }\n",
       "  function is_loaded(root) {\n",
       "    var Bokeh = get_bokeh(root)\n",
       "    return (Bokeh != null && Bokeh.Panel !== undefined)\n",
       "  }\n",
       "  if (is_loaded(root)) {\n",
       "    embed_document(root);\n",
       "  } else {\n",
       "    var attempts = 0;\n",
       "    var timer = setInterval(function(root) {\n",
       "      if (is_loaded(root)) {\n",
       "        clearInterval(timer);\n",
       "        embed_document(root);\n",
       "      } else if (document.readyState == \"complete\") {\n",
       "        attempts++;\n",
       "        if (attempts > 200) {\n",
       "          clearInterval(timer);\n",
       "\t  var Bokeh = get_bokeh(root)\n",
       "\t  if (Bokeh == null || Bokeh.Panel == null) {\n",
       "            console.warn(\"Panel: ERROR: Unable to run Panel code because Bokeh or Panel library is missing\");\n",
       "\t  } else {\n",
       "\t    console.warn(\"Panel: WARNING: Attempting to render but not all required libraries could be resolved.\")\n",
       "\t    embed_document(root)\n",
       "\t  }\n",
       "        }\n",
       "      }\n",
       "    }, 25, root)\n",
       "  }\n",
       "})(window);</script>"
      ]
     },
     "metadata": {
      "application/vnd.holoviews_exec.v0+json": {
       "id": "de8e2f53-4140-483a-a9ae-e181423ed49e"
      }
     },
     "output_type": "display_data"
    }
   ],
   "source": [
    "import pandas as pd\n",
    "import numpy as np\n",
    "import matplotlib.pyplot as plt\n",
    "import dateutil.parser as parser\n",
    "import geopandas as gpd\n",
    "import movingpandas as mpd\n",
    "import shapely as shp\n",
    "from shapely.geometry import Point, LineString, Polygon\n",
    "from datetime import datetime, timedelta\n",
    "import hvplot.pandas\n",
    "from holoviews import opts, dim\n",
    "from geopandas import GeoDataFrame, read_file\n",
    "from os.path import exists\n",
    "from urllib.request import urlretrieve\n",
    "import seaborn as sns\n",
    "import plotly.express as px\n"
   ]
  },
  {
   "cell_type": "markdown",
   "metadata": {},
   "source": [
    "Στη συνέχεια κάνουμε εισαγωγή και μετατρέπουμε το .csv αρχείο μας σε pandas dataframe."
   ]
  },
  {
   "cell_type": "code",
   "execution_count": 2,
   "metadata": {},
   "outputs": [
    {
     "name": "stdout",
     "output_type": "stream",
     "text": [
      "Finished reading (1003, 16) lines of data\n"
     ]
    }
   ],
   "source": [
    "# Read csv file as a dataframe\n",
    "raw_ship_data = pd.read_csv('data.csv')\n",
    "print(f\"Finished reading {raw_ship_data.shape} lines of data\")"
   ]
  },
  {
   "cell_type": "markdown",
   "metadata": {},
   "source": [
    "Παρατηρούμε πως τα δεδομένα μας είναι ενάς πίνακας 1003Χ16 κελιών. Με μία ενδεικτική επιστροφή των δεδομένων παρακάτω μπορούμε να δούμε πώς είναι διαμορφωμένα."
   ]
  },
  {
   "cell_type": "code",
   "execution_count": 3,
   "metadata": {},
   "outputs": [
    {
     "data": {
      "text/html": [
       "<div>\n",
       "<style scoped>\n",
       "    .dataframe tbody tr th:only-of-type {\n",
       "        vertical-align: middle;\n",
       "    }\n",
       "\n",
       "    .dataframe tbody tr th {\n",
       "        vertical-align: top;\n",
       "    }\n",
       "\n",
       "    .dataframe thead th {\n",
       "        text-align: right;\n",
       "    }\n",
       "</style>\n",
       "<table border=\"1\" class=\"dataframe\">\n",
       "  <thead>\n",
       "    <tr style=\"text-align: right;\">\n",
       "      <th></th>\n",
       "      <th>time_utc</th>\n",
       "      <th>CallSign</th>\n",
       "      <th>ShipName</th>\n",
       "      <th>Type</th>\n",
       "      <th>ImoNumber</th>\n",
       "      <th>MMSI</th>\n",
       "      <th>latitude</th>\n",
       "      <th>longitude</th>\n",
       "      <th>Destination</th>\n",
       "      <th>FixType</th>\n",
       "      <th>Dimension A</th>\n",
       "      <th>Dimension B</th>\n",
       "      <th>Dimension C</th>\n",
       "      <th>Dimension D</th>\n",
       "      <th>MaximumStaticDraught</th>\n",
       "      <th>MessageID</th>\n",
       "    </tr>\n",
       "  </thead>\n",
       "  <tbody>\n",
       "    <tr>\n",
       "      <th>0</th>\n",
       "      <td>2023-12-09 08:05:51.944186364 +0000 UTC</td>\n",
       "      <td>IBRV</td>\n",
       "      <td>SEMINOLE</td>\n",
       "      <td>90</td>\n",
       "      <td>7645550</td>\n",
       "      <td>247274900</td>\n",
       "      <td>34.669683</td>\n",
       "      <td>33.058350</td>\n",
       "      <td>CYLMS</td>\n",
       "      <td>1</td>\n",
       "      <td>28</td>\n",
       "      <td>107</td>\n",
       "      <td>15</td>\n",
       "      <td>15</td>\n",
       "      <td>4.5</td>\n",
       "      <td>5</td>\n",
       "    </tr>\n",
       "    <tr>\n",
       "      <th>1</th>\n",
       "      <td>2023-12-09 08:05:54.203014122 +0000 UTC</td>\n",
       "      <td>5BLV2</td>\n",
       "      <td>EDT ZENON</td>\n",
       "      <td>52</td>\n",
       "      <td>9315977</td>\n",
       "      <td>212541000</td>\n",
       "      <td>34.645403</td>\n",
       "      <td>33.009685</td>\n",
       "      <td>LIMASSOL</td>\n",
       "      <td>1</td>\n",
       "      <td>7</td>\n",
       "      <td>21</td>\n",
       "      <td>2</td>\n",
       "      <td>7</td>\n",
       "      <td>2.4</td>\n",
       "      <td>5</td>\n",
       "    </tr>\n",
       "    <tr>\n",
       "      <th>2</th>\n",
       "      <td>2023-12-09 08:05:57.546130448 +0000 UTC</td>\n",
       "      <td>TCA5645</td>\n",
       "      <td>KOSOVAK</td>\n",
       "      <td>71</td>\n",
       "      <td>9211157</td>\n",
       "      <td>271047045</td>\n",
       "      <td>35.826203</td>\n",
       "      <td>29.005122</td>\n",
       "      <td>TRALI</td>\n",
       "      <td>1</td>\n",
       "      <td>138</td>\n",
       "      <td>20</td>\n",
       "      <td>20</td>\n",
       "      <td>4</td>\n",
       "      <td>10.0</td>\n",
       "      <td>5</td>\n",
       "    </tr>\n",
       "    <tr>\n",
       "      <th>3</th>\n",
       "      <td>2023-12-09 08:06:05.451479994 +0000 UTC</td>\n",
       "      <td>5BFB3</td>\n",
       "      <td>EDT LEON</td>\n",
       "      <td>91</td>\n",
       "      <td>9575400</td>\n",
       "      <td>209343000</td>\n",
       "      <td>34.645127</td>\n",
       "      <td>33.008998</td>\n",
       "      <td>LIMASSOL</td>\n",
       "      <td>0</td>\n",
       "      <td>18</td>\n",
       "      <td>32</td>\n",
       "      <td>5</td>\n",
       "      <td>5</td>\n",
       "      <td>2.4</td>\n",
       "      <td>5</td>\n",
       "    </tr>\n",
       "    <tr>\n",
       "      <th>4</th>\n",
       "      <td>2023-12-09 08:06:08.806450979 +0000 UTC</td>\n",
       "      <td>GDSA</td>\n",
       "      <td>NAVAL AUXILIARY A135</td>\n",
       "      <td>34</td>\n",
       "      <td>7822550</td>\n",
       "      <td>233303000</td>\n",
       "      <td>34.652447</td>\n",
       "      <td>33.016777</td>\n",
       "      <td>NaN</td>\n",
       "      <td>1</td>\n",
       "      <td>21</td>\n",
       "      <td>154</td>\n",
       "      <td>24</td>\n",
       "      <td>6</td>\n",
       "      <td>0.0</td>\n",
       "      <td>5</td>\n",
       "    </tr>\n",
       "  </tbody>\n",
       "</table>\n",
       "</div>"
      ],
      "text/plain": [
       "                                  time_utc CallSign              ShipName  \\\n",
       "0  2023-12-09 08:05:51.944186364 +0000 UTC     IBRV              SEMINOLE   \n",
       "1  2023-12-09 08:05:54.203014122 +0000 UTC    5BLV2             EDT ZENON   \n",
       "2  2023-12-09 08:05:57.546130448 +0000 UTC  TCA5645               KOSOVAK   \n",
       "3  2023-12-09 08:06:05.451479994 +0000 UTC    5BFB3              EDT LEON   \n",
       "4  2023-12-09 08:06:08.806450979 +0000 UTC     GDSA  NAVAL AUXILIARY A135   \n",
       "\n",
       "   Type  ImoNumber       MMSI   latitude  longitude Destination  FixType  \\\n",
       "0    90    7645550  247274900  34.669683  33.058350       CYLMS        1   \n",
       "1    52    9315977  212541000  34.645403  33.009685    LIMASSOL        1   \n",
       "2    71    9211157  271047045  35.826203  29.005122       TRALI        1   \n",
       "3    91    9575400  209343000  34.645127  33.008998    LIMASSOL        0   \n",
       "4    34    7822550  233303000  34.652447  33.016777         NaN        1   \n",
       "\n",
       "   Dimension A  Dimension B  Dimension C  Dimension D  MaximumStaticDraught  \\\n",
       "0           28          107           15           15                   4.5   \n",
       "1            7           21            2            7                   2.4   \n",
       "2          138           20           20            4                  10.0   \n",
       "3           18           32            5            5                   2.4   \n",
       "4           21          154           24            6                   0.0   \n",
       "\n",
       "   MessageID  \n",
       "0          5  \n",
       "1          5  \n",
       "2          5  \n",
       "3          5  \n",
       "4          5  "
      ]
     },
     "execution_count": 3,
     "metadata": {},
     "output_type": "execute_result"
    }
   ],
   "source": [
    "raw_ship_data.head()"
   ]
  },
  {
   "cell_type": "markdown",
   "metadata": {},
   "source": [
    "Αρχικά μας ενδιαφέρει να εντοπίσουμε τα είδη των δεδομένων στα οποία αναφέρεται κάθε στήλη, για τον λόγο αυτό επιστρέφουμε το όνομα κάθε στήλης."
   ]
  },
  {
   "cell_type": "code",
   "execution_count": 4,
   "metadata": {},
   "outputs": [
    {
     "name": "stdout",
     "output_type": "stream",
     "text": [
      "Index(['time_utc', 'CallSign', 'ShipName', 'Type', 'ImoNumber', 'MMSI',\n",
      "       'latitude', 'longitude', 'Destination', 'FixType', 'Dimension A',\n",
      "       'Dimension B', 'Dimension C', 'Dimension D', 'MaximumStaticDraught',\n",
      "       'MessageID'],\n",
      "      dtype='object')\n"
     ]
    }
   ],
   "source": [
    "# Rename the dataframe for processing reasons\n",
    "geo_raw_ship_data = raw_ship_data\n",
    "# Print the columns of our data\n",
    "print(raw_ship_data.columns)"
   ]
  },
  {
   "cell_type": "markdown",
   "metadata": {},
   "source": [
    "Ανατρέχοντας στην διεύθυνση <a href=\"https://en.wikipedia.org/wiki/Automatic_identification_system\" target=\"_blank\">AIS-Wikipedia</a> μπορούμε να δούμε τι ακριβώς περιλαμβάνει κάθε στήλη.\n"
   ]
  },
  {
   "cell_type": "markdown",
   "metadata": {},
   "source": [
    "Εξετάζοντας τα στοιχεία, επιθυμούμε να βρούμε κελιά του πίνακα στα οποία λείπουν δεδομένα."
   ]
  },
  {
   "cell_type": "code",
   "execution_count": 5,
   "metadata": {},
   "outputs": [
    {
     "name": "stdout",
     "output_type": "stream",
     "text": [
      "Any missing values: True\n",
      "null_counts_total: 81\n"
     ]
    }
   ],
   "source": [
    "# Print missing values\n",
    "print(\"Any missing values:\", geo_raw_ship_data.isnull().any().any())\n",
    "\n",
    "# Count missing values\n",
    "null_counts_total = geo_raw_ship_data.isnull().sum().sum()\n",
    "print(\"null_counts_total:\", null_counts_total)"
   ]
  },
  {
   "cell_type": "code",
   "execution_count": 6,
   "metadata": {},
   "outputs": [
    {
     "data": {
      "text/html": [
       "<div>\n",
       "<style scoped>\n",
       "    .dataframe tbody tr th:only-of-type {\n",
       "        vertical-align: middle;\n",
       "    }\n",
       "\n",
       "    .dataframe tbody tr th {\n",
       "        vertical-align: top;\n",
       "    }\n",
       "\n",
       "    .dataframe thead th {\n",
       "        text-align: right;\n",
       "    }\n",
       "</style>\n",
       "<table border=\"1\" class=\"dataframe\">\n",
       "  <thead>\n",
       "    <tr style=\"text-align: right;\">\n",
       "      <th></th>\n",
       "      <th>time_utc</th>\n",
       "      <th>CallSign</th>\n",
       "      <th>ShipName</th>\n",
       "      <th>Type</th>\n",
       "      <th>ImoNumber</th>\n",
       "      <th>MMSI</th>\n",
       "      <th>latitude</th>\n",
       "      <th>longitude</th>\n",
       "      <th>Destination</th>\n",
       "      <th>FixType</th>\n",
       "      <th>Dimension A</th>\n",
       "      <th>Dimension B</th>\n",
       "      <th>Dimension C</th>\n",
       "      <th>Dimension D</th>\n",
       "      <th>MaximumStaticDraught</th>\n",
       "      <th>MessageID</th>\n",
       "    </tr>\n",
       "  </thead>\n",
       "  <tbody>\n",
       "    <tr>\n",
       "      <th>4</th>\n",
       "      <td>2023-12-09 08:06:08.806450979 +0000 UTC</td>\n",
       "      <td>GDSA</td>\n",
       "      <td>NAVAL AUXILIARY A135</td>\n",
       "      <td>34</td>\n",
       "      <td>7822550</td>\n",
       "      <td>233303000</td>\n",
       "      <td>34.652447</td>\n",
       "      <td>33.016777</td>\n",
       "      <td>NaN</td>\n",
       "      <td>1</td>\n",
       "      <td>21</td>\n",
       "      <td>154</td>\n",
       "      <td>24</td>\n",
       "      <td>6</td>\n",
       "      <td>0.0</td>\n",
       "      <td>5</td>\n",
       "    </tr>\n",
       "    <tr>\n",
       "      <th>20</th>\n",
       "      <td>2023-12-09 08:07:43.529290641 +0000 UTC</td>\n",
       "      <td>NaN</td>\n",
       "      <td>ASHDOD PORT</td>\n",
       "      <td>0</td>\n",
       "      <td>0</td>\n",
       "      <td>4282000</td>\n",
       "      <td>31.831317</td>\n",
       "      <td>34.639927</td>\n",
       "      <td>NaN</td>\n",
       "      <td>0</td>\n",
       "      <td>0</td>\n",
       "      <td>236</td>\n",
       "      <td>0</td>\n",
       "      <td>32</td>\n",
       "      <td>0.0</td>\n",
       "      <td>5</td>\n",
       "    </tr>\n",
       "    <tr>\n",
       "      <th>32</th>\n",
       "      <td>2023-12-09 08:08:52.471973589 +0000 UTC</td>\n",
       "      <td>NaN</td>\n",
       "      <td>ASHDOD PORT</td>\n",
       "      <td>0</td>\n",
       "      <td>0</td>\n",
       "      <td>4282000</td>\n",
       "      <td>31.831242</td>\n",
       "      <td>34.639950</td>\n",
       "      <td>NaN</td>\n",
       "      <td>1</td>\n",
       "      <td>191</td>\n",
       "      <td>45</td>\n",
       "      <td>22</td>\n",
       "      <td>10</td>\n",
       "      <td>0.0</td>\n",
       "      <td>5</td>\n",
       "    </tr>\n",
       "    <tr>\n",
       "      <th>68</th>\n",
       "      <td>2023-12-09 08:12:54.22487949 +0000 UTC</td>\n",
       "      <td>P3CQ9</td>\n",
       "      <td>PETSAS I</td>\n",
       "      <td>0</td>\n",
       "      <td>0</td>\n",
       "      <td>209352000</td>\n",
       "      <td>34.664468</td>\n",
       "      <td>33.029690</td>\n",
       "      <td>NaN</td>\n",
       "      <td>15</td>\n",
       "      <td>0</td>\n",
       "      <td>0</td>\n",
       "      <td>0</td>\n",
       "      <td>0</td>\n",
       "      <td>0.0</td>\n",
       "      <td>5</td>\n",
       "    </tr>\n",
       "    <tr>\n",
       "      <th>77</th>\n",
       "      <td>2023-12-09 08:13:34.066695382 +0000 UTC</td>\n",
       "      <td>EAPC</td>\n",
       "      <td>EAPC CONTROL</td>\n",
       "      <td>0</td>\n",
       "      <td>0</td>\n",
       "      <td>428990000</td>\n",
       "      <td>31.642125</td>\n",
       "      <td>34.531130</td>\n",
       "      <td>NaN</td>\n",
       "      <td>1</td>\n",
       "      <td>0</td>\n",
       "      <td>0</td>\n",
       "      <td>0</td>\n",
       "      <td>0</td>\n",
       "      <td>0.0</td>\n",
       "      <td>5</td>\n",
       "    </tr>\n",
       "    <tr>\n",
       "      <th>...</th>\n",
       "      <td>...</td>\n",
       "      <td>...</td>\n",
       "      <td>...</td>\n",
       "      <td>...</td>\n",
       "      <td>...</td>\n",
       "      <td>...</td>\n",
       "      <td>...</td>\n",
       "      <td>...</td>\n",
       "      <td>...</td>\n",
       "      <td>...</td>\n",
       "      <td>...</td>\n",
       "      <td>...</td>\n",
       "      <td>...</td>\n",
       "      <td>...</td>\n",
       "      <td>...</td>\n",
       "      <td>...</td>\n",
       "    </tr>\n",
       "    <tr>\n",
       "      <th>936</th>\n",
       "      <td>2023-12-09 09:33:59.397178623 +0000 UTC</td>\n",
       "      <td>XCAN5</td>\n",
       "      <td>ADMIRAL</td>\n",
       "      <td>31</td>\n",
       "      <td>0</td>\n",
       "      <td>345050010</td>\n",
       "      <td>34.673365</td>\n",
       "      <td>33.066440</td>\n",
       "      <td>NaN</td>\n",
       "      <td>0</td>\n",
       "      <td>8</td>\n",
       "      <td>30</td>\n",
       "      <td>6</td>\n",
       "      <td>4</td>\n",
       "      <td>0.0</td>\n",
       "      <td>5</td>\n",
       "    </tr>\n",
       "    <tr>\n",
       "      <th>958</th>\n",
       "      <td>2023-12-09 09:36:10.766430451 +0000 UTC</td>\n",
       "      <td>GDSA</td>\n",
       "      <td>NAVAL AUXILIARY A135</td>\n",
       "      <td>34</td>\n",
       "      <td>7822550</td>\n",
       "      <td>233303000</td>\n",
       "      <td>34.652465</td>\n",
       "      <td>33.016780</td>\n",
       "      <td>NaN</td>\n",
       "      <td>1</td>\n",
       "      <td>21</td>\n",
       "      <td>154</td>\n",
       "      <td>24</td>\n",
       "      <td>6</td>\n",
       "      <td>0.0</td>\n",
       "      <td>5</td>\n",
       "    </tr>\n",
       "    <tr>\n",
       "      <th>967</th>\n",
       "      <td>2023-12-09 09:36:44.471522672 +0000 UTC</td>\n",
       "      <td>XCAN5</td>\n",
       "      <td>ADMIRAL</td>\n",
       "      <td>31</td>\n",
       "      <td>9421582</td>\n",
       "      <td>345050010</td>\n",
       "      <td>34.673347</td>\n",
       "      <td>33.066408</td>\n",
       "      <td>NaN</td>\n",
       "      <td>1</td>\n",
       "      <td>8</td>\n",
       "      <td>30</td>\n",
       "      <td>6</td>\n",
       "      <td>4</td>\n",
       "      <td>0.0</td>\n",
       "      <td>5</td>\n",
       "    </tr>\n",
       "    <tr>\n",
       "      <th>976</th>\n",
       "      <td>2023-12-09 09:37:31.104895846 +0000 UTC</td>\n",
       "      <td>EAPC</td>\n",
       "      <td>EAPC CONTROL</td>\n",
       "      <td>0</td>\n",
       "      <td>0</td>\n",
       "      <td>428990000</td>\n",
       "      <td>31.642107</td>\n",
       "      <td>34.531045</td>\n",
       "      <td>NaN</td>\n",
       "      <td>1</td>\n",
       "      <td>0</td>\n",
       "      <td>0</td>\n",
       "      <td>0</td>\n",
       "      <td>0</td>\n",
       "      <td>0.0</td>\n",
       "      <td>5</td>\n",
       "    </tr>\n",
       "    <tr>\n",
       "      <th>994</th>\n",
       "      <td>2023-12-09 09:39:00.66771184 +0000 UTC</td>\n",
       "      <td>NaN</td>\n",
       "      <td>ASHDOD PORT</td>\n",
       "      <td>0</td>\n",
       "      <td>0</td>\n",
       "      <td>4282000</td>\n",
       "      <td>31.831207</td>\n",
       "      <td>34.640012</td>\n",
       "      <td>NaN</td>\n",
       "      <td>1</td>\n",
       "      <td>191</td>\n",
       "      <td>45</td>\n",
       "      <td>22</td>\n",
       "      <td>10</td>\n",
       "      <td>0.0</td>\n",
       "      <td>5</td>\n",
       "    </tr>\n",
       "  </tbody>\n",
       "</table>\n",
       "<p>64 rows × 16 columns</p>\n",
       "</div>"
      ],
      "text/plain": [
       "                                    time_utc CallSign              ShipName  \\\n",
       "4    2023-12-09 08:06:08.806450979 +0000 UTC     GDSA  NAVAL AUXILIARY A135   \n",
       "20   2023-12-09 08:07:43.529290641 +0000 UTC      NaN           ASHDOD PORT   \n",
       "32   2023-12-09 08:08:52.471973589 +0000 UTC      NaN           ASHDOD PORT   \n",
       "68    2023-12-09 08:12:54.22487949 +0000 UTC    P3CQ9              PETSAS I   \n",
       "77   2023-12-09 08:13:34.066695382 +0000 UTC     EAPC          EAPC CONTROL   \n",
       "..                                       ...      ...                   ...   \n",
       "936  2023-12-09 09:33:59.397178623 +0000 UTC    XCAN5               ADMIRAL   \n",
       "958  2023-12-09 09:36:10.766430451 +0000 UTC     GDSA  NAVAL AUXILIARY A135   \n",
       "967  2023-12-09 09:36:44.471522672 +0000 UTC    XCAN5               ADMIRAL   \n",
       "976  2023-12-09 09:37:31.104895846 +0000 UTC     EAPC          EAPC CONTROL   \n",
       "994   2023-12-09 09:39:00.66771184 +0000 UTC      NaN           ASHDOD PORT   \n",
       "\n",
       "     Type  ImoNumber       MMSI   latitude  longitude Destination  FixType  \\\n",
       "4      34    7822550  233303000  34.652447  33.016777         NaN        1   \n",
       "20      0          0    4282000  31.831317  34.639927         NaN        0   \n",
       "32      0          0    4282000  31.831242  34.639950         NaN        1   \n",
       "68      0          0  209352000  34.664468  33.029690         NaN       15   \n",
       "77      0          0  428990000  31.642125  34.531130         NaN        1   \n",
       "..    ...        ...        ...        ...        ...         ...      ...   \n",
       "936    31          0  345050010  34.673365  33.066440         NaN        0   \n",
       "958    34    7822550  233303000  34.652465  33.016780         NaN        1   \n",
       "967    31    9421582  345050010  34.673347  33.066408         NaN        1   \n",
       "976     0          0  428990000  31.642107  34.531045         NaN        1   \n",
       "994     0          0    4282000  31.831207  34.640012         NaN        1   \n",
       "\n",
       "     Dimension A  Dimension B  Dimension C  Dimension D  MaximumStaticDraught  \\\n",
       "4             21          154           24            6                   0.0   \n",
       "20             0          236            0           32                   0.0   \n",
       "32           191           45           22           10                   0.0   \n",
       "68             0            0            0            0                   0.0   \n",
       "77             0            0            0            0                   0.0   \n",
       "..           ...          ...          ...          ...                   ...   \n",
       "936            8           30            6            4                   0.0   \n",
       "958           21          154           24            6                   0.0   \n",
       "967            8           30            6            4                   0.0   \n",
       "976            0            0            0            0                   0.0   \n",
       "994          191           45           22           10                   0.0   \n",
       "\n",
       "     MessageID  \n",
       "4            5  \n",
       "20           5  \n",
       "32           5  \n",
       "68           5  \n",
       "77           5  \n",
       "..         ...  \n",
       "936          5  \n",
       "958          5  \n",
       "967          5  \n",
       "976          5  \n",
       "994          5  \n",
       "\n",
       "[64 rows x 16 columns]"
      ]
     },
     "execution_count": 6,
     "metadata": {},
     "output_type": "execute_result"
    }
   ],
   "source": [
    "# Rows with at least one null value:\n",
    "geo_raw_ship_data[geo_raw_ship_data.isnull().any(axis=1)]"
   ]
  },
  {
   "cell_type": "markdown",
   "metadata": {},
   "source": [
    "Παρατηρώντας πως έχουμε δεδομένα που λείπουν εξετάζουμε σε ποιές στήλες υφίσταται αυτό."
   ]
  },
  {
   "cell_type": "code",
   "execution_count": 7,
   "metadata": {},
   "outputs": [
    {
     "name": "stdout",
     "output_type": "stream",
     "text": [
      "Null counts in each column:\n",
      "time_utc                 0\n",
      "CallSign                17\n",
      "ShipName                 0\n",
      "Type                     0\n",
      "ImoNumber                0\n",
      "MMSI                     0\n",
      "latitude                 0\n",
      "longitude                0\n",
      "Destination             64\n",
      "FixType                  0\n",
      "Dimension A              0\n",
      "Dimension B              0\n",
      "Dimension C              0\n",
      "Dimension D              0\n",
      "MaximumStaticDraught     0\n",
      "MessageID                0\n",
      "dtype: int64\n"
     ]
    }
   ],
   "source": [
    "#  Print dataframe null values in each column\n",
    "null_counts = geo_raw_ship_data.isnull().sum()\n",
    "print(\"Null counts in each column:\") \n",
    "print(null_counts)"
   ]
  },
  {
   "cell_type": "markdown",
   "metadata": {},
   "source": [
    "Επομένως οι στήλες για τις οποίες δεν έχουμε δεδομένα είναι \"callsign\" και \"destination\". Με τον τρόπο αυτό αντιλαμβανόμαστε πως μπορούμε να προχωρήσουμε στην περαιτέρω επεξεργασία των δεδομένων. "
   ]
  },
  {
   "cell_type": "markdown",
   "metadata": {},
   "source": [
    "Ξεκινώντας απο τη στήλη του χρόνου αρχικά θα χρειαστεί να την αναγνωρίσουμε σαν timestamp και να διορθώσουμε την μορφή ώστε η ακρίβεια να σταματάει στα δευτερόλεπτα."
   ]
  },
  {
   "cell_type": "code",
   "execution_count": 8,
   "metadata": {},
   "outputs": [
    {
     "data": {
      "text/html": [
       "<div>\n",
       "<style scoped>\n",
       "    .dataframe tbody tr th:only-of-type {\n",
       "        vertical-align: middle;\n",
       "    }\n",
       "\n",
       "    .dataframe tbody tr th {\n",
       "        vertical-align: top;\n",
       "    }\n",
       "\n",
       "    .dataframe thead th {\n",
       "        text-align: right;\n",
       "    }\n",
       "</style>\n",
       "<table border=\"1\" class=\"dataframe\">\n",
       "  <thead>\n",
       "    <tr style=\"text-align: right;\">\n",
       "      <th></th>\n",
       "      <th>time_utc</th>\n",
       "      <th>CallSign</th>\n",
       "      <th>ShipName</th>\n",
       "      <th>Type</th>\n",
       "      <th>ImoNumber</th>\n",
       "      <th>MMSI</th>\n",
       "      <th>latitude</th>\n",
       "      <th>longitude</th>\n",
       "      <th>Destination</th>\n",
       "      <th>FixType</th>\n",
       "      <th>Dimension A</th>\n",
       "      <th>Dimension B</th>\n",
       "      <th>Dimension C</th>\n",
       "      <th>Dimension D</th>\n",
       "      <th>MaximumStaticDraught</th>\n",
       "      <th>MessageID</th>\n",
       "    </tr>\n",
       "  </thead>\n",
       "  <tbody>\n",
       "    <tr>\n",
       "      <th>0</th>\n",
       "      <td>2023-12-09 08:05:51</td>\n",
       "      <td>IBRV</td>\n",
       "      <td>SEMINOLE</td>\n",
       "      <td>90</td>\n",
       "      <td>7645550</td>\n",
       "      <td>247274900</td>\n",
       "      <td>34.669683</td>\n",
       "      <td>33.058350</td>\n",
       "      <td>CYLMS</td>\n",
       "      <td>1</td>\n",
       "      <td>28</td>\n",
       "      <td>107</td>\n",
       "      <td>15</td>\n",
       "      <td>15</td>\n",
       "      <td>4.5</td>\n",
       "      <td>5</td>\n",
       "    </tr>\n",
       "    <tr>\n",
       "      <th>1</th>\n",
       "      <td>2023-12-09 08:05:54</td>\n",
       "      <td>5BLV2</td>\n",
       "      <td>EDT ZENON</td>\n",
       "      <td>52</td>\n",
       "      <td>9315977</td>\n",
       "      <td>212541000</td>\n",
       "      <td>34.645403</td>\n",
       "      <td>33.009685</td>\n",
       "      <td>LIMASSOL</td>\n",
       "      <td>1</td>\n",
       "      <td>7</td>\n",
       "      <td>21</td>\n",
       "      <td>2</td>\n",
       "      <td>7</td>\n",
       "      <td>2.4</td>\n",
       "      <td>5</td>\n",
       "    </tr>\n",
       "    <tr>\n",
       "      <th>2</th>\n",
       "      <td>2023-12-09 08:05:57</td>\n",
       "      <td>TCA5645</td>\n",
       "      <td>KOSOVAK</td>\n",
       "      <td>71</td>\n",
       "      <td>9211157</td>\n",
       "      <td>271047045</td>\n",
       "      <td>35.826203</td>\n",
       "      <td>29.005122</td>\n",
       "      <td>TRALI</td>\n",
       "      <td>1</td>\n",
       "      <td>138</td>\n",
       "      <td>20</td>\n",
       "      <td>20</td>\n",
       "      <td>4</td>\n",
       "      <td>10.0</td>\n",
       "      <td>5</td>\n",
       "    </tr>\n",
       "    <tr>\n",
       "      <th>3</th>\n",
       "      <td>2023-12-09 08:06:05</td>\n",
       "      <td>5BFB3</td>\n",
       "      <td>EDT LEON</td>\n",
       "      <td>91</td>\n",
       "      <td>9575400</td>\n",
       "      <td>209343000</td>\n",
       "      <td>34.645127</td>\n",
       "      <td>33.008998</td>\n",
       "      <td>LIMASSOL</td>\n",
       "      <td>0</td>\n",
       "      <td>18</td>\n",
       "      <td>32</td>\n",
       "      <td>5</td>\n",
       "      <td>5</td>\n",
       "      <td>2.4</td>\n",
       "      <td>5</td>\n",
       "    </tr>\n",
       "    <tr>\n",
       "      <th>4</th>\n",
       "      <td>2023-12-09 08:06:08</td>\n",
       "      <td>GDSA</td>\n",
       "      <td>NAVAL AUXILIARY A135</td>\n",
       "      <td>34</td>\n",
       "      <td>7822550</td>\n",
       "      <td>233303000</td>\n",
       "      <td>34.652447</td>\n",
       "      <td>33.016777</td>\n",
       "      <td>NaN</td>\n",
       "      <td>1</td>\n",
       "      <td>21</td>\n",
       "      <td>154</td>\n",
       "      <td>24</td>\n",
       "      <td>6</td>\n",
       "      <td>0.0</td>\n",
       "      <td>5</td>\n",
       "    </tr>\n",
       "  </tbody>\n",
       "</table>\n",
       "</div>"
      ],
      "text/plain": [
       "              time_utc CallSign              ShipName  Type  ImoNumber  \\\n",
       "0  2023-12-09 08:05:51     IBRV              SEMINOLE    90    7645550   \n",
       "1  2023-12-09 08:05:54    5BLV2             EDT ZENON    52    9315977   \n",
       "2  2023-12-09 08:05:57  TCA5645               KOSOVAK    71    9211157   \n",
       "3  2023-12-09 08:06:05    5BFB3              EDT LEON    91    9575400   \n",
       "4  2023-12-09 08:06:08     GDSA  NAVAL AUXILIARY A135    34    7822550   \n",
       "\n",
       "        MMSI   latitude  longitude Destination  FixType  Dimension A  \\\n",
       "0  247274900  34.669683  33.058350       CYLMS        1           28   \n",
       "1  212541000  34.645403  33.009685    LIMASSOL        1            7   \n",
       "2  271047045  35.826203  29.005122       TRALI        1          138   \n",
       "3  209343000  34.645127  33.008998    LIMASSOL        0           18   \n",
       "4  233303000  34.652447  33.016777         NaN        1           21   \n",
       "\n",
       "   Dimension B  Dimension C  Dimension D  MaximumStaticDraught  MessageID  \n",
       "0          107           15           15                   4.5          5  \n",
       "1           21            2            7                   2.4          5  \n",
       "2           20           20            4                  10.0          5  \n",
       "3           32            5            5                   2.4          5  \n",
       "4          154           24            6                   0.0          5  "
      ]
     },
     "execution_count": 8,
     "metadata": {},
     "output_type": "execute_result"
    }
   ],
   "source": [
    "#Parse time column as timestamp and reshape time format\n",
    "geo_raw_ship_data['time_utc'] = pd.to_datetime(geo_raw_ship_data['time_utc'], format='%Y-%m-%d %H:%M:%S.%f %z UTC')\n",
    "geo_raw_ship_data['time_utc'] = geo_raw_ship_data['time_utc'].dt.strftime(\"%Y-%m-%d %H:%M:%S\")\n",
    "geo_raw_ship_data.head()"
   ]
  },
  {
   "cell_type": "markdown",
   "metadata": {},
   "source": [
    "Υπολογίζουμε τη χρονική διάρκεια των δεδομένων μας."
   ]
  },
  {
   "cell_type": "code",
   "execution_count": 9,
   "metadata": {},
   "outputs": [
    {
     "name": "stdout",
     "output_type": "stream",
     "text": [
      "0 days 01:33:46\n"
     ]
    }
   ],
   "source": [
    "# Time delta\n",
    "geo_raw_ship_data['time_utc'] = pd.to_datetime(geo_raw_ship_data['time_utc'])\n",
    "last_index = len(geo_raw_ship_data) - 1\n",
    "time_delta = geo_raw_ship_data.loc[last_index, 'time_utc'] - geo_raw_ship_data.loc[0, 'time_utc'] \n",
    "print(time_delta)"
   ]
  },
  {
   "cell_type": "markdown",
   "metadata": {},
   "source": [
    "Στη συνέχεια θα μετατρέψουμε τις στήλες των συντεταγμένων σε μορφή τέτοια ώστε να είναι αξιοποιήσιμες για μετέπειτα απεικόνιση. Τα στοιχεία θα προστεθούν στο τέλος του πίνακα σαν στήλη με το όνομα \"geometry\"."
   ]
  },
  {
   "cell_type": "code",
   "execution_count": 10,
   "metadata": {},
   "outputs": [
    {
     "data": {
      "text/html": [
       "<div>\n",
       "<style scoped>\n",
       "    .dataframe tbody tr th:only-of-type {\n",
       "        vertical-align: middle;\n",
       "    }\n",
       "\n",
       "    .dataframe tbody tr th {\n",
       "        vertical-align: top;\n",
       "    }\n",
       "\n",
       "    .dataframe thead th {\n",
       "        text-align: right;\n",
       "    }\n",
       "</style>\n",
       "<table border=\"1\" class=\"dataframe\">\n",
       "  <thead>\n",
       "    <tr style=\"text-align: right;\">\n",
       "      <th></th>\n",
       "      <th>time_utc</th>\n",
       "      <th>CallSign</th>\n",
       "      <th>ShipName</th>\n",
       "      <th>Type</th>\n",
       "      <th>ImoNumber</th>\n",
       "      <th>MMSI</th>\n",
       "      <th>latitude</th>\n",
       "      <th>longitude</th>\n",
       "      <th>Destination</th>\n",
       "      <th>FixType</th>\n",
       "      <th>Dimension A</th>\n",
       "      <th>Dimension B</th>\n",
       "      <th>Dimension C</th>\n",
       "      <th>Dimension D</th>\n",
       "      <th>MaximumStaticDraught</th>\n",
       "      <th>MessageID</th>\n",
       "      <th>geometry</th>\n",
       "    </tr>\n",
       "  </thead>\n",
       "  <tbody>\n",
       "    <tr>\n",
       "      <th>0</th>\n",
       "      <td>2023-12-09 08:05:51</td>\n",
       "      <td>IBRV</td>\n",
       "      <td>SEMINOLE</td>\n",
       "      <td>90</td>\n",
       "      <td>7645550</td>\n",
       "      <td>247274900</td>\n",
       "      <td>34.669683</td>\n",
       "      <td>33.058350</td>\n",
       "      <td>CYLMS</td>\n",
       "      <td>1</td>\n",
       "      <td>28</td>\n",
       "      <td>107</td>\n",
       "      <td>15</td>\n",
       "      <td>15</td>\n",
       "      <td>4.5</td>\n",
       "      <td>5</td>\n",
       "      <td>POINT (33.05835 34.66968)</td>\n",
       "    </tr>\n",
       "    <tr>\n",
       "      <th>1</th>\n",
       "      <td>2023-12-09 08:05:54</td>\n",
       "      <td>5BLV2</td>\n",
       "      <td>EDT ZENON</td>\n",
       "      <td>52</td>\n",
       "      <td>9315977</td>\n",
       "      <td>212541000</td>\n",
       "      <td>34.645403</td>\n",
       "      <td>33.009685</td>\n",
       "      <td>LIMASSOL</td>\n",
       "      <td>1</td>\n",
       "      <td>7</td>\n",
       "      <td>21</td>\n",
       "      <td>2</td>\n",
       "      <td>7</td>\n",
       "      <td>2.4</td>\n",
       "      <td>5</td>\n",
       "      <td>POINT (33.00969 34.6454)</td>\n",
       "    </tr>\n",
       "    <tr>\n",
       "      <th>2</th>\n",
       "      <td>2023-12-09 08:05:57</td>\n",
       "      <td>TCA5645</td>\n",
       "      <td>KOSOVAK</td>\n",
       "      <td>71</td>\n",
       "      <td>9211157</td>\n",
       "      <td>271047045</td>\n",
       "      <td>35.826203</td>\n",
       "      <td>29.005122</td>\n",
       "      <td>TRALI</td>\n",
       "      <td>1</td>\n",
       "      <td>138</td>\n",
       "      <td>20</td>\n",
       "      <td>20</td>\n",
       "      <td>4</td>\n",
       "      <td>10.0</td>\n",
       "      <td>5</td>\n",
       "      <td>POINT (29.00512 35.8262)</td>\n",
       "    </tr>\n",
       "    <tr>\n",
       "      <th>3</th>\n",
       "      <td>2023-12-09 08:06:05</td>\n",
       "      <td>5BFB3</td>\n",
       "      <td>EDT LEON</td>\n",
       "      <td>91</td>\n",
       "      <td>9575400</td>\n",
       "      <td>209343000</td>\n",
       "      <td>34.645127</td>\n",
       "      <td>33.008998</td>\n",
       "      <td>LIMASSOL</td>\n",
       "      <td>0</td>\n",
       "      <td>18</td>\n",
       "      <td>32</td>\n",
       "      <td>5</td>\n",
       "      <td>5</td>\n",
       "      <td>2.4</td>\n",
       "      <td>5</td>\n",
       "      <td>POINT (33.009 34.64513)</td>\n",
       "    </tr>\n",
       "    <tr>\n",
       "      <th>4</th>\n",
       "      <td>2023-12-09 08:06:08</td>\n",
       "      <td>GDSA</td>\n",
       "      <td>NAVAL AUXILIARY A135</td>\n",
       "      <td>34</td>\n",
       "      <td>7822550</td>\n",
       "      <td>233303000</td>\n",
       "      <td>34.652447</td>\n",
       "      <td>33.016777</td>\n",
       "      <td>NaN</td>\n",
       "      <td>1</td>\n",
       "      <td>21</td>\n",
       "      <td>154</td>\n",
       "      <td>24</td>\n",
       "      <td>6</td>\n",
       "      <td>0.0</td>\n",
       "      <td>5</td>\n",
       "      <td>POINT (33.01678 34.65245)</td>\n",
       "    </tr>\n",
       "  </tbody>\n",
       "</table>\n",
       "</div>"
      ],
      "text/plain": [
       "             time_utc CallSign              ShipName  Type  ImoNumber  \\\n",
       "0 2023-12-09 08:05:51     IBRV              SEMINOLE    90    7645550   \n",
       "1 2023-12-09 08:05:54    5BLV2             EDT ZENON    52    9315977   \n",
       "2 2023-12-09 08:05:57  TCA5645               KOSOVAK    71    9211157   \n",
       "3 2023-12-09 08:06:05    5BFB3              EDT LEON    91    9575400   \n",
       "4 2023-12-09 08:06:08     GDSA  NAVAL AUXILIARY A135    34    7822550   \n",
       "\n",
       "        MMSI   latitude  longitude Destination  FixType  Dimension A  \\\n",
       "0  247274900  34.669683  33.058350       CYLMS        1           28   \n",
       "1  212541000  34.645403  33.009685    LIMASSOL        1            7   \n",
       "2  271047045  35.826203  29.005122       TRALI        1          138   \n",
       "3  209343000  34.645127  33.008998    LIMASSOL        0           18   \n",
       "4  233303000  34.652447  33.016777         NaN        1           21   \n",
       "\n",
       "   Dimension B  Dimension C  Dimension D  MaximumStaticDraught  MessageID  \\\n",
       "0          107           15           15                   4.5          5   \n",
       "1           21            2            7                   2.4          5   \n",
       "2           20           20            4                  10.0          5   \n",
       "3           32            5            5                   2.4          5   \n",
       "4          154           24            6                   0.0          5   \n",
       "\n",
       "                    geometry  \n",
       "0  POINT (33.05835 34.66968)  \n",
       "1   POINT (33.00969 34.6454)  \n",
       "2   POINT (29.00512 35.8262)  \n",
       "3    POINT (33.009 34.64513)  \n",
       "4  POINT (33.01678 34.65245)  "
      ]
     },
     "execution_count": 10,
     "metadata": {},
     "output_type": "execute_result"
    }
   ],
   "source": [
    "# Coordinates format to point format for plotting and visualization\n",
    "geo_raw_ship_data = gpd.GeoDataFrame(raw_ship_data, geometry=gpd.points_from_xy(raw_ship_data.longitude, raw_ship_data.latitude), crs=\"EPSG:4326\")\n",
    "geo_raw_ship_data.head()"
   ]
  },
  {
   "cell_type": "markdown",
   "metadata": {},
   "source": [
    "Επίσης θα προχωρήσουμε στην σύμπτυξη των στηλών που αναφέρονται στις διαστάσεις. Η παρακάτω εικόνα μας βοηθάει στο να κατανοήσουμε τον τρόπο με τον οποίο πρέπει να δουλέψουμε."
   ]
  },
  {
   "cell_type": "markdown",
   "metadata": {},
   "source": [
    "<img src=\"https://downloads.intercomcdn.com/i/o/231836738/65f938bcdca4618f076528ba/AIS_Shipboard_AIS_User_Manual_manual_L-3_Communications.gif?expires=1620129848&signature=990df0a70d131141035cdc7a3699a27029e7bc4b23f9fb51616ccef6c219a446\" />"
   ]
  },
  {
   "cell_type": "code",
   "execution_count": 11,
   "metadata": {},
   "outputs": [
    {
     "data": {
      "text/html": [
       "<div>\n",
       "<style scoped>\n",
       "    .dataframe tbody tr th:only-of-type {\n",
       "        vertical-align: middle;\n",
       "    }\n",
       "\n",
       "    .dataframe tbody tr th {\n",
       "        vertical-align: top;\n",
       "    }\n",
       "\n",
       "    .dataframe thead th {\n",
       "        text-align: right;\n",
       "    }\n",
       "</style>\n",
       "<table border=\"1\" class=\"dataframe\">\n",
       "  <thead>\n",
       "    <tr style=\"text-align: right;\">\n",
       "      <th></th>\n",
       "      <th>time_utc</th>\n",
       "      <th>CallSign</th>\n",
       "      <th>ShipName</th>\n",
       "      <th>Type</th>\n",
       "      <th>ImoNumber</th>\n",
       "      <th>MMSI</th>\n",
       "      <th>latitude</th>\n",
       "      <th>longitude</th>\n",
       "      <th>Destination</th>\n",
       "      <th>FixType</th>\n",
       "      <th>MaximumStaticDraught</th>\n",
       "      <th>MessageID</th>\n",
       "      <th>geometry</th>\n",
       "      <th>length</th>\n",
       "      <th>width</th>\n",
       "    </tr>\n",
       "  </thead>\n",
       "  <tbody>\n",
       "    <tr>\n",
       "      <th>0</th>\n",
       "      <td>2023-12-09 08:05:51</td>\n",
       "      <td>IBRV</td>\n",
       "      <td>SEMINOLE</td>\n",
       "      <td>90</td>\n",
       "      <td>7645550</td>\n",
       "      <td>247274900</td>\n",
       "      <td>34.669683</td>\n",
       "      <td>33.058350</td>\n",
       "      <td>CYLMS</td>\n",
       "      <td>1</td>\n",
       "      <td>4.5</td>\n",
       "      <td>5</td>\n",
       "      <td>POINT (33.05835 34.66968)</td>\n",
       "      <td>135</td>\n",
       "      <td>30</td>\n",
       "    </tr>\n",
       "    <tr>\n",
       "      <th>1</th>\n",
       "      <td>2023-12-09 08:05:54</td>\n",
       "      <td>5BLV2</td>\n",
       "      <td>EDT ZENON</td>\n",
       "      <td>52</td>\n",
       "      <td>9315977</td>\n",
       "      <td>212541000</td>\n",
       "      <td>34.645403</td>\n",
       "      <td>33.009685</td>\n",
       "      <td>LIMASSOL</td>\n",
       "      <td>1</td>\n",
       "      <td>2.4</td>\n",
       "      <td>5</td>\n",
       "      <td>POINT (33.00969 34.6454)</td>\n",
       "      <td>28</td>\n",
       "      <td>9</td>\n",
       "    </tr>\n",
       "    <tr>\n",
       "      <th>2</th>\n",
       "      <td>2023-12-09 08:05:57</td>\n",
       "      <td>TCA5645</td>\n",
       "      <td>KOSOVAK</td>\n",
       "      <td>71</td>\n",
       "      <td>9211157</td>\n",
       "      <td>271047045</td>\n",
       "      <td>35.826203</td>\n",
       "      <td>29.005122</td>\n",
       "      <td>TRALI</td>\n",
       "      <td>1</td>\n",
       "      <td>10.0</td>\n",
       "      <td>5</td>\n",
       "      <td>POINT (29.00512 35.8262)</td>\n",
       "      <td>158</td>\n",
       "      <td>24</td>\n",
       "    </tr>\n",
       "    <tr>\n",
       "      <th>3</th>\n",
       "      <td>2023-12-09 08:06:05</td>\n",
       "      <td>5BFB3</td>\n",
       "      <td>EDT LEON</td>\n",
       "      <td>91</td>\n",
       "      <td>9575400</td>\n",
       "      <td>209343000</td>\n",
       "      <td>34.645127</td>\n",
       "      <td>33.008998</td>\n",
       "      <td>LIMASSOL</td>\n",
       "      <td>0</td>\n",
       "      <td>2.4</td>\n",
       "      <td>5</td>\n",
       "      <td>POINT (33.009 34.64513)</td>\n",
       "      <td>50</td>\n",
       "      <td>10</td>\n",
       "    </tr>\n",
       "    <tr>\n",
       "      <th>4</th>\n",
       "      <td>2023-12-09 08:06:08</td>\n",
       "      <td>GDSA</td>\n",
       "      <td>NAVAL AUXILIARY A135</td>\n",
       "      <td>34</td>\n",
       "      <td>7822550</td>\n",
       "      <td>233303000</td>\n",
       "      <td>34.652447</td>\n",
       "      <td>33.016777</td>\n",
       "      <td>NaN</td>\n",
       "      <td>1</td>\n",
       "      <td>0.0</td>\n",
       "      <td>5</td>\n",
       "      <td>POINT (33.01678 34.65245)</td>\n",
       "      <td>175</td>\n",
       "      <td>30</td>\n",
       "    </tr>\n",
       "  </tbody>\n",
       "</table>\n",
       "</div>"
      ],
      "text/plain": [
       "             time_utc CallSign              ShipName  Type  ImoNumber  \\\n",
       "0 2023-12-09 08:05:51     IBRV              SEMINOLE    90    7645550   \n",
       "1 2023-12-09 08:05:54    5BLV2             EDT ZENON    52    9315977   \n",
       "2 2023-12-09 08:05:57  TCA5645               KOSOVAK    71    9211157   \n",
       "3 2023-12-09 08:06:05    5BFB3              EDT LEON    91    9575400   \n",
       "4 2023-12-09 08:06:08     GDSA  NAVAL AUXILIARY A135    34    7822550   \n",
       "\n",
       "        MMSI   latitude  longitude Destination  FixType  MaximumStaticDraught  \\\n",
       "0  247274900  34.669683  33.058350       CYLMS        1                   4.5   \n",
       "1  212541000  34.645403  33.009685    LIMASSOL        1                   2.4   \n",
       "2  271047045  35.826203  29.005122       TRALI        1                  10.0   \n",
       "3  209343000  34.645127  33.008998    LIMASSOL        0                   2.4   \n",
       "4  233303000  34.652447  33.016777         NaN        1                   0.0   \n",
       "\n",
       "   MessageID                   geometry  length  width  \n",
       "0          5  POINT (33.05835 34.66968)     135     30  \n",
       "1          5   POINT (33.00969 34.6454)      28      9  \n",
       "2          5   POINT (29.00512 35.8262)     158     24  \n",
       "3          5    POINT (33.009 34.64513)      50     10  \n",
       "4          5  POINT (33.01678 34.65245)     175     30  "
      ]
     },
     "execution_count": 11,
     "metadata": {},
     "output_type": "execute_result"
    }
   ],
   "source": [
    "# Collapsing dimension columns\n",
    "geo_raw_ship_data['length'] = (geo_raw_ship_data['Dimension A'] + geo_raw_ship_data['Dimension B'])\n",
    "geo_raw_ship_data['width'] = (geo_raw_ship_data['Dimension C'] + geo_raw_ship_data['Dimension D'])\n",
    "geo_raw_ship_data = geo_raw_ship_data.drop(columns=['Dimension A', 'Dimension B', 'Dimension C', 'Dimension D'])\n",
    "geo_raw_ship_data.head()"
   ]
  },
  {
   "cell_type": "markdown",
   "metadata": {},
   "source": [
    "Μετά τη σύμπτυξη  επιθυμούμε να εστιάσουμε στα δεδομένα αυτών των στηλών. Επομένως εντοπίζουμε αρχικά τις διαστάσεις με τιμή 0 και την κατηγορία του σκάφους που αυτή η συνθήκη ισχύει."
   ]
  },
  {
   "cell_type": "code",
   "execution_count": 12,
   "metadata": {},
   "outputs": [
    {
     "name": "stdout",
     "output_type": "stream",
     "text": [
      "[70 52  0]\n",
      "[70 52  0]\n"
     ]
    }
   ],
   "source": [
    "# Find the vessels with \"0\" values in their dimensions\n",
    "length_dimension = geo_raw_ship_data[(geo_raw_ship_data['length']==0)]\n",
    "width_dimension = geo_raw_ship_data[(geo_raw_ship_data['width']==0)]\n",
    "# Ship Types with 0 in length\n",
    "print(length_dimension['Type'].unique())\n",
    "# Ship Types with 0 in width\n",
    "print(width_dimension['Type'].unique())"
   ]
  },
  {
   "cell_type": "markdown",
   "metadata": {},
   "source": [
    "Επομένως οι κατηγορίες στις οποίες εντοπίζουμε τιμές 0 στις διαστάσεις είναι [ 70 = cargo, 52 = Tug, 0 = default ]"
   ]
  },
  {
   "cell_type": "markdown",
   "metadata": {},
   "source": [
    "Επομένως για καλύτερη διαχείριση των δεδομένων μας θα προχωρήσουμε στην αντικατάστασή τους με την μέση τιμή των υπόλοιπων εγγραφών της κατηγορίας. "
   ]
  },
  {
   "cell_type": "code",
   "execution_count": 13,
   "metadata": {},
   "outputs": [],
   "source": [
    "# Get all the ships that are of type cargo, tug, default\n",
    "cargo = geo_raw_ship_data[(geo_raw_ship_data['Type'] == 70)]\n",
    "tug = geo_raw_ship_data[(geo_raw_ship_data['Type'] == 52)]\n",
    "default = geo_raw_ship_data[(geo_raw_ship_data['Type'] == 0)]"
   ]
  },
  {
   "cell_type": "code",
   "execution_count": 14,
   "metadata": {},
   "outputs": [],
   "source": [
    "# Calculate the mean value of their dimensions\n",
    "cargo_mean_length = int(cargo['length'].mean())\n",
    "cargo_mean_width = int(cargo['width'].mean())\n",
    "\n",
    "tug_mean_length = int(tug['length'].mean())\n",
    "tug_mean_width = int(tug['width'].mean())\n",
    "\n",
    "default_mean_length = int(default['length'].mean())\n",
    "default_mean_width = int(default['width'].mean())"
   ]
  },
  {
   "cell_type": "code",
   "execution_count": 15,
   "metadata": {},
   "outputs": [],
   "source": [
    "# Replace the zero values with the mean value\n",
    "geo_raw_ship_data.loc[(geo_raw_ship_data['length'] == 0) & (geo_raw_ship_data['Type']==70), ['length']] = cargo_mean_length\n",
    "geo_raw_ship_data.loc[(geo_raw_ship_data['width'] == 0) & (geo_raw_ship_data['Type']==70), ['width']] = cargo_mean_width\n",
    "\n",
    "geo_raw_ship_data.loc[(geo_raw_ship_data['length'] == 0) & (geo_raw_ship_data['Type']==52), ['length']] = tug_mean_length\n",
    "geo_raw_ship_data.loc[(geo_raw_ship_data['width'] == 0) & (geo_raw_ship_data['Type']==52), ['width']] = tug_mean_width\n",
    "\n",
    "geo_raw_ship_data.loc[(geo_raw_ship_data['length'] == 0) & (geo_raw_ship_data['Type']==0), ['length']] = default_mean_length\n",
    "geo_raw_ship_data.loc[(geo_raw_ship_data['length'] == 0) & (geo_raw_ship_data['Type']==0), ['width']] = tug_mean_width"
   ]
  },
  {
   "cell_type": "markdown",
   "metadata": {},
   "source": [
    "Μετά την επεξεργασία των δεδομένων μας η νέα μορφή του είναι η εξής"
   ]
  },
  {
   "cell_type": "code",
   "execution_count": 16,
   "metadata": {},
   "outputs": [
    {
     "data": {
      "text/plain": [
       "(1003, 15)"
      ]
     },
     "execution_count": 16,
     "metadata": {},
     "output_type": "execute_result"
    }
   ],
   "source": [
    "# Get the shape of our dataframe\n",
    "geo_raw_ship_data.shape"
   ]
  },
  {
   "cell_type": "code",
   "execution_count": 17,
   "metadata": {},
   "outputs": [
    {
     "data": {
      "text/html": [
       "<div>\n",
       "<style scoped>\n",
       "    .dataframe tbody tr th:only-of-type {\n",
       "        vertical-align: middle;\n",
       "    }\n",
       "\n",
       "    .dataframe tbody tr th {\n",
       "        vertical-align: top;\n",
       "    }\n",
       "\n",
       "    .dataframe thead th {\n",
       "        text-align: right;\n",
       "    }\n",
       "</style>\n",
       "<table border=\"1\" class=\"dataframe\">\n",
       "  <thead>\n",
       "    <tr style=\"text-align: right;\">\n",
       "      <th></th>\n",
       "      <th>time_utc</th>\n",
       "      <th>CallSign</th>\n",
       "      <th>ShipName</th>\n",
       "      <th>Type</th>\n",
       "      <th>ImoNumber</th>\n",
       "      <th>MMSI</th>\n",
       "      <th>latitude</th>\n",
       "      <th>longitude</th>\n",
       "      <th>Destination</th>\n",
       "      <th>FixType</th>\n",
       "      <th>MaximumStaticDraught</th>\n",
       "      <th>MessageID</th>\n",
       "      <th>geometry</th>\n",
       "      <th>length</th>\n",
       "      <th>width</th>\n",
       "    </tr>\n",
       "  </thead>\n",
       "  <tbody>\n",
       "    <tr>\n",
       "      <th>0</th>\n",
       "      <td>2023-12-09 08:05:51</td>\n",
       "      <td>IBRV</td>\n",
       "      <td>SEMINOLE</td>\n",
       "      <td>90</td>\n",
       "      <td>7645550</td>\n",
       "      <td>247274900</td>\n",
       "      <td>34.669683</td>\n",
       "      <td>33.058350</td>\n",
       "      <td>CYLMS</td>\n",
       "      <td>1</td>\n",
       "      <td>4.5</td>\n",
       "      <td>5</td>\n",
       "      <td>POINT (33.05835 34.66968)</td>\n",
       "      <td>135</td>\n",
       "      <td>30</td>\n",
       "    </tr>\n",
       "    <tr>\n",
       "      <th>1</th>\n",
       "      <td>2023-12-09 08:05:54</td>\n",
       "      <td>5BLV2</td>\n",
       "      <td>EDT ZENON</td>\n",
       "      <td>52</td>\n",
       "      <td>9315977</td>\n",
       "      <td>212541000</td>\n",
       "      <td>34.645403</td>\n",
       "      <td>33.009685</td>\n",
       "      <td>LIMASSOL</td>\n",
       "      <td>1</td>\n",
       "      <td>2.4</td>\n",
       "      <td>5</td>\n",
       "      <td>POINT (33.00969 34.6454)</td>\n",
       "      <td>28</td>\n",
       "      <td>9</td>\n",
       "    </tr>\n",
       "    <tr>\n",
       "      <th>2</th>\n",
       "      <td>2023-12-09 08:05:57</td>\n",
       "      <td>TCA5645</td>\n",
       "      <td>KOSOVAK</td>\n",
       "      <td>71</td>\n",
       "      <td>9211157</td>\n",
       "      <td>271047045</td>\n",
       "      <td>35.826203</td>\n",
       "      <td>29.005122</td>\n",
       "      <td>TRALI</td>\n",
       "      <td>1</td>\n",
       "      <td>10.0</td>\n",
       "      <td>5</td>\n",
       "      <td>POINT (29.00512 35.8262)</td>\n",
       "      <td>158</td>\n",
       "      <td>24</td>\n",
       "    </tr>\n",
       "    <tr>\n",
       "      <th>3</th>\n",
       "      <td>2023-12-09 08:06:05</td>\n",
       "      <td>5BFB3</td>\n",
       "      <td>EDT LEON</td>\n",
       "      <td>91</td>\n",
       "      <td>9575400</td>\n",
       "      <td>209343000</td>\n",
       "      <td>34.645127</td>\n",
       "      <td>33.008998</td>\n",
       "      <td>LIMASSOL</td>\n",
       "      <td>0</td>\n",
       "      <td>2.4</td>\n",
       "      <td>5</td>\n",
       "      <td>POINT (33.009 34.64513)</td>\n",
       "      <td>50</td>\n",
       "      <td>10</td>\n",
       "    </tr>\n",
       "    <tr>\n",
       "      <th>4</th>\n",
       "      <td>2023-12-09 08:06:08</td>\n",
       "      <td>GDSA</td>\n",
       "      <td>NAVAL AUXILIARY A135</td>\n",
       "      <td>34</td>\n",
       "      <td>7822550</td>\n",
       "      <td>233303000</td>\n",
       "      <td>34.652447</td>\n",
       "      <td>33.016777</td>\n",
       "      <td>NaN</td>\n",
       "      <td>1</td>\n",
       "      <td>0.0</td>\n",
       "      <td>5</td>\n",
       "      <td>POINT (33.01678 34.65245)</td>\n",
       "      <td>175</td>\n",
       "      <td>30</td>\n",
       "    </tr>\n",
       "  </tbody>\n",
       "</table>\n",
       "</div>"
      ],
      "text/plain": [
       "             time_utc CallSign              ShipName  Type  ImoNumber  \\\n",
       "0 2023-12-09 08:05:51     IBRV              SEMINOLE    90    7645550   \n",
       "1 2023-12-09 08:05:54    5BLV2             EDT ZENON    52    9315977   \n",
       "2 2023-12-09 08:05:57  TCA5645               KOSOVAK    71    9211157   \n",
       "3 2023-12-09 08:06:05    5BFB3              EDT LEON    91    9575400   \n",
       "4 2023-12-09 08:06:08     GDSA  NAVAL AUXILIARY A135    34    7822550   \n",
       "\n",
       "        MMSI   latitude  longitude Destination  FixType  MaximumStaticDraught  \\\n",
       "0  247274900  34.669683  33.058350       CYLMS        1                   4.5   \n",
       "1  212541000  34.645403  33.009685    LIMASSOL        1                   2.4   \n",
       "2  271047045  35.826203  29.005122       TRALI        1                  10.0   \n",
       "3  209343000  34.645127  33.008998    LIMASSOL        0                   2.4   \n",
       "4  233303000  34.652447  33.016777         NaN        1                   0.0   \n",
       "\n",
       "   MessageID                   geometry  length  width  \n",
       "0          5  POINT (33.05835 34.66968)     135     30  \n",
       "1          5   POINT (33.00969 34.6454)      28      9  \n",
       "2          5   POINT (29.00512 35.8262)     158     24  \n",
       "3          5    POINT (33.009 34.64513)      50     10  \n",
       "4          5  POINT (33.01678 34.65245)     175     30  "
      ]
     },
     "execution_count": 17,
     "metadata": {},
     "output_type": "execute_result"
    }
   ],
   "source": [
    "geo_raw_ship_data.head()"
   ]
  },
  {
   "cell_type": "markdown",
   "metadata": {},
   "source": [
    "## Διαγράμματα"
   ]
  },
  {
   "cell_type": "markdown",
   "metadata": {},
   "source": [
    "Όπως αναφέραμε παραπάνω τα δεδομένα αποτελούνται απο χρονικά διακριτές εκπομπές πλοίων διάρκειας 01:33:00. Για να εξετάσουμε ποιοτικά τις εγγραφές θα απομονώσουμε τα πλοία σαν οντότητες σε έναν νέο dataframe."
   ]
  },
  {
   "cell_type": "code",
   "execution_count": 18,
   "metadata": {},
   "outputs": [
    {
     "data": {
      "text/plain": [
       "time_utc                909\n",
       "CallSign                 91\n",
       "ShipName                 91\n",
       "Type                     24\n",
       "ImoNumber                76\n",
       "MMSI                     92\n",
       "latitude                752\n",
       "longitude               742\n",
       "Destination              44\n",
       "FixType                   5\n",
       "MaximumStaticDraught     49\n",
       "MessageID                 1\n",
       "geometry                886\n",
       "length                   67\n",
       "width                    27\n",
       "dtype: int64"
      ]
     },
     "execution_count": 18,
     "metadata": {},
     "output_type": "execute_result"
    }
   ],
   "source": [
    "# Dataframe unique values overview\n",
    "geo_raw_ship_data.nunique()"
   ]
  },
  {
   "cell_type": "markdown",
   "metadata": {},
   "source": [
    "Επιστρέφοντας τις μοναδικές τιμές καταλήγουμε στο συμπέρασμα πως έχουμε 92 μοναδικά πλοία με αναφορά τον μοναδικό αριθμό MMSI. Παρακάτω επιστρέφουμε τον κωδικό MMSI καθενός απο αυτά."
   ]
  },
  {
   "cell_type": "code",
   "execution_count": 19,
   "metadata": {},
   "outputs": [
    {
     "name": "stdout",
     "output_type": "stream",
     "text": [
      "[  4282000 209005000 209166000 209343000 209352000 209492000 209511000\n",
      " 209969000 210282000 210330000 210588000 210595000 211920000 212212000\n",
      " 212230000 212319000 212541000 212717000 212858000 212872000 215013000\n",
      " 215209000 229447000 233303000 235090927 236723000 241776000 244810178\n",
      " 247274900 248823000 255806109 255977000 255979000 256060000 256081000\n",
      " 256251000 257073920 271044343 271047045 271051041 271052043 305299000\n",
      " 305384000 311000706 312349000 319222400 319234300 319287000 345050010\n",
      " 352002159 352002364 352002749 353822000 371343000 375369000 428000112\n",
      " 428000407 428007000 428009070 428045000 428066000 428068000 428990000\n",
      " 470763000 511100389 511100460 511100504 511100835 518998397 538002973\n",
      " 538003685 538007432 538009102 538009176 563112000 572705210 577171000\n",
      " 613226010 613871403 622113180 630001049 636014902 636015074 636019201\n",
      " 636021330 636021691 636022888 667001448 667001603 668116210 671290100\n",
      " 987170323]\n"
     ]
    }
   ],
   "source": [
    "# Find the number of unique ships inside of our table using as key the MMSI since it has no 0 values and it is an ID attribute\n",
    "print(np.sort(geo_raw_ship_data['MMSI'].unique()))"
   ]
  },
  {
   "cell_type": "markdown",
   "metadata": {},
   "source": [
    "Δημιουργούμε ένα νέο dataframe που θα περιλαμβάνει μόνο τα πλοία."
   ]
  },
  {
   "cell_type": "code",
   "execution_count": 20,
   "metadata": {},
   "outputs": [
    {
     "data": {
      "text/html": [
       "<div>\n",
       "<style scoped>\n",
       "    .dataframe tbody tr th:only-of-type {\n",
       "        vertical-align: middle;\n",
       "    }\n",
       "\n",
       "    .dataframe tbody tr th {\n",
       "        vertical-align: top;\n",
       "    }\n",
       "\n",
       "    .dataframe thead th {\n",
       "        text-align: right;\n",
       "    }\n",
       "</style>\n",
       "<table border=\"1\" class=\"dataframe\">\n",
       "  <thead>\n",
       "    <tr style=\"text-align: right;\">\n",
       "      <th></th>\n",
       "      <th>time_utc</th>\n",
       "      <th>CallSign</th>\n",
       "      <th>ShipName</th>\n",
       "      <th>Type</th>\n",
       "      <th>ImoNumber</th>\n",
       "      <th>MMSI</th>\n",
       "      <th>latitude</th>\n",
       "      <th>longitude</th>\n",
       "      <th>Destination</th>\n",
       "      <th>FixType</th>\n",
       "      <th>MaximumStaticDraught</th>\n",
       "      <th>MessageID</th>\n",
       "      <th>geometry</th>\n",
       "      <th>length</th>\n",
       "      <th>width</th>\n",
       "    </tr>\n",
       "  </thead>\n",
       "  <tbody>\n",
       "    <tr>\n",
       "      <th>0</th>\n",
       "      <td>2023-12-09 08:05:51</td>\n",
       "      <td>IBRV</td>\n",
       "      <td>SEMINOLE</td>\n",
       "      <td>90</td>\n",
       "      <td>7645550</td>\n",
       "      <td>247274900</td>\n",
       "      <td>34.669683</td>\n",
       "      <td>33.058350</td>\n",
       "      <td>CYLMS</td>\n",
       "      <td>1</td>\n",
       "      <td>4.5</td>\n",
       "      <td>5</td>\n",
       "      <td>POINT (33.05835 34.66968)</td>\n",
       "      <td>135</td>\n",
       "      <td>30</td>\n",
       "    </tr>\n",
       "    <tr>\n",
       "      <th>1</th>\n",
       "      <td>2023-12-09 08:05:54</td>\n",
       "      <td>5BLV2</td>\n",
       "      <td>EDT ZENON</td>\n",
       "      <td>52</td>\n",
       "      <td>9315977</td>\n",
       "      <td>212541000</td>\n",
       "      <td>34.645403</td>\n",
       "      <td>33.009685</td>\n",
       "      <td>LIMASSOL</td>\n",
       "      <td>1</td>\n",
       "      <td>2.4</td>\n",
       "      <td>5</td>\n",
       "      <td>POINT (33.00969 34.6454)</td>\n",
       "      <td>28</td>\n",
       "      <td>9</td>\n",
       "    </tr>\n",
       "    <tr>\n",
       "      <th>2</th>\n",
       "      <td>2023-12-09 08:05:57</td>\n",
       "      <td>TCA5645</td>\n",
       "      <td>KOSOVAK</td>\n",
       "      <td>71</td>\n",
       "      <td>9211157</td>\n",
       "      <td>271047045</td>\n",
       "      <td>35.826203</td>\n",
       "      <td>29.005122</td>\n",
       "      <td>TRALI</td>\n",
       "      <td>1</td>\n",
       "      <td>10.0</td>\n",
       "      <td>5</td>\n",
       "      <td>POINT (29.00512 35.8262)</td>\n",
       "      <td>158</td>\n",
       "      <td>24</td>\n",
       "    </tr>\n",
       "    <tr>\n",
       "      <th>3</th>\n",
       "      <td>2023-12-09 08:06:05</td>\n",
       "      <td>5BFB3</td>\n",
       "      <td>EDT LEON</td>\n",
       "      <td>91</td>\n",
       "      <td>9575400</td>\n",
       "      <td>209343000</td>\n",
       "      <td>34.645127</td>\n",
       "      <td>33.008998</td>\n",
       "      <td>LIMASSOL</td>\n",
       "      <td>0</td>\n",
       "      <td>2.4</td>\n",
       "      <td>5</td>\n",
       "      <td>POINT (33.009 34.64513)</td>\n",
       "      <td>50</td>\n",
       "      <td>10</td>\n",
       "    </tr>\n",
       "    <tr>\n",
       "      <th>4</th>\n",
       "      <td>2023-12-09 08:06:08</td>\n",
       "      <td>GDSA</td>\n",
       "      <td>NAVAL AUXILIARY A135</td>\n",
       "      <td>34</td>\n",
       "      <td>7822550</td>\n",
       "      <td>233303000</td>\n",
       "      <td>34.652447</td>\n",
       "      <td>33.016777</td>\n",
       "      <td>NaN</td>\n",
       "      <td>1</td>\n",
       "      <td>0.0</td>\n",
       "      <td>5</td>\n",
       "      <td>POINT (33.01678 34.65245)</td>\n",
       "      <td>175</td>\n",
       "      <td>30</td>\n",
       "    </tr>\n",
       "    <tr>\n",
       "      <th>...</th>\n",
       "      <td>...</td>\n",
       "      <td>...</td>\n",
       "      <td>...</td>\n",
       "      <td>...</td>\n",
       "      <td>...</td>\n",
       "      <td>...</td>\n",
       "      <td>...</td>\n",
       "      <td>...</td>\n",
       "      <td>...</td>\n",
       "      <td>...</td>\n",
       "      <td>...</td>\n",
       "      <td>...</td>\n",
       "      <td>...</td>\n",
       "      <td>...</td>\n",
       "      <td>...</td>\n",
       "    </tr>\n",
       "    <tr>\n",
       "      <th>659</th>\n",
       "      <td>2023-12-09 09:09:12</td>\n",
       "      <td>V7SN2</td>\n",
       "      <td>DANCHOR IX</td>\n",
       "      <td>99</td>\n",
       "      <td>9316787</td>\n",
       "      <td>538003685</td>\n",
       "      <td>32.814877</td>\n",
       "      <td>35.030665</td>\n",
       "      <td>NaN</td>\n",
       "      <td>1</td>\n",
       "      <td>2.1</td>\n",
       "      <td>5</td>\n",
       "      <td>POINT (35.03066 32.81488)</td>\n",
       "      <td>59</td>\n",
       "      <td>9</td>\n",
       "    </tr>\n",
       "    <tr>\n",
       "      <th>664</th>\n",
       "      <td>2023-12-09 09:09:29</td>\n",
       "      <td>3E3832</td>\n",
       "      <td>NOVA CORALIA</td>\n",
       "      <td>70</td>\n",
       "      <td>8918409</td>\n",
       "      <td>352002159</td>\n",
       "      <td>32.818160</td>\n",
       "      <td>35.016760</td>\n",
       "      <td>IL HFA</td>\n",
       "      <td>1</td>\n",
       "      <td>7.1</td>\n",
       "      <td>5</td>\n",
       "      <td>POINT (35.01676 32.81816)</td>\n",
       "      <td>119</td>\n",
       "      <td>18</td>\n",
       "    </tr>\n",
       "    <tr>\n",
       "      <th>668</th>\n",
       "      <td>2023-12-09 09:09:38</td>\n",
       "      <td>5BWY5</td>\n",
       "      <td>LEDRA EXPLORER</td>\n",
       "      <td>52</td>\n",
       "      <td>0</td>\n",
       "      <td>210330000</td>\n",
       "      <td>34.541397</td>\n",
       "      <td>33.239995</td>\n",
       "      <td>LIMASSOL CYPRUS</td>\n",
       "      <td>0</td>\n",
       "      <td>3.0</td>\n",
       "      <td>5</td>\n",
       "      <td>POINT (33.24 34.5414)</td>\n",
       "      <td>39</td>\n",
       "      <td>9</td>\n",
       "    </tr>\n",
       "    <tr>\n",
       "      <th>839</th>\n",
       "      <td>2023-12-09 09:25:02</td>\n",
       "      <td>V7A4413</td>\n",
       "      <td>STELLAR LADY</td>\n",
       "      <td>70</td>\n",
       "      <td>9574004</td>\n",
       "      <td>538009176</td>\n",
       "      <td>30.142940</td>\n",
       "      <td>32.569717</td>\n",
       "      <td>CANAKKALE</td>\n",
       "      <td>1</td>\n",
       "      <td>6.3</td>\n",
       "      <td>5</td>\n",
       "      <td>POINT (32.56972 30.14294)</td>\n",
       "      <td>183</td>\n",
       "      <td>32</td>\n",
       "    </tr>\n",
       "    <tr>\n",
       "      <th>981</th>\n",
       "      <td>2023-12-09 09:37:51</td>\n",
       "      <td>V2PW8</td>\n",
       "      <td>SUSAN BORCHARD</td>\n",
       "      <td>70</td>\n",
       "      <td>9231834</td>\n",
       "      <td>305299000</td>\n",
       "      <td>34.530198</td>\n",
       "      <td>32.865337</td>\n",
       "      <td>CYLMS</td>\n",
       "      <td>1</td>\n",
       "      <td>8.3</td>\n",
       "      <td>5</td>\n",
       "      <td>POINT (32.86534 34.5302)</td>\n",
       "      <td>134</td>\n",
       "      <td>22</td>\n",
       "    </tr>\n",
       "  </tbody>\n",
       "</table>\n",
       "<p>92 rows × 15 columns</p>\n",
       "</div>"
      ],
      "text/plain": [
       "               time_utc CallSign              ShipName  Type  ImoNumber  \\\n",
       "0   2023-12-09 08:05:51     IBRV              SEMINOLE    90    7645550   \n",
       "1   2023-12-09 08:05:54    5BLV2             EDT ZENON    52    9315977   \n",
       "2   2023-12-09 08:05:57  TCA5645               KOSOVAK    71    9211157   \n",
       "3   2023-12-09 08:06:05    5BFB3              EDT LEON    91    9575400   \n",
       "4   2023-12-09 08:06:08     GDSA  NAVAL AUXILIARY A135    34    7822550   \n",
       "..                  ...      ...                   ...   ...        ...   \n",
       "659 2023-12-09 09:09:12    V7SN2            DANCHOR IX    99    9316787   \n",
       "664 2023-12-09 09:09:29   3E3832          NOVA CORALIA    70    8918409   \n",
       "668 2023-12-09 09:09:38    5BWY5        LEDRA EXPLORER    52          0   \n",
       "839 2023-12-09 09:25:02  V7A4413          STELLAR LADY    70    9574004   \n",
       "981 2023-12-09 09:37:51    V2PW8        SUSAN BORCHARD    70    9231834   \n",
       "\n",
       "          MMSI   latitude  longitude      Destination  FixType  \\\n",
       "0    247274900  34.669683  33.058350            CYLMS        1   \n",
       "1    212541000  34.645403  33.009685         LIMASSOL        1   \n",
       "2    271047045  35.826203  29.005122            TRALI        1   \n",
       "3    209343000  34.645127  33.008998         LIMASSOL        0   \n",
       "4    233303000  34.652447  33.016777              NaN        1   \n",
       "..         ...        ...        ...              ...      ...   \n",
       "659  538003685  32.814877  35.030665              NaN        1   \n",
       "664  352002159  32.818160  35.016760           IL HFA        1   \n",
       "668  210330000  34.541397  33.239995  LIMASSOL CYPRUS        0   \n",
       "839  538009176  30.142940  32.569717        CANAKKALE        1   \n",
       "981  305299000  34.530198  32.865337            CYLMS        1   \n",
       "\n",
       "     MaximumStaticDraught  MessageID                   geometry  length  width  \n",
       "0                     4.5          5  POINT (33.05835 34.66968)     135     30  \n",
       "1                     2.4          5   POINT (33.00969 34.6454)      28      9  \n",
       "2                    10.0          5   POINT (29.00512 35.8262)     158     24  \n",
       "3                     2.4          5    POINT (33.009 34.64513)      50     10  \n",
       "4                     0.0          5  POINT (33.01678 34.65245)     175     30  \n",
       "..                    ...        ...                        ...     ...    ...  \n",
       "659                   2.1          5  POINT (35.03066 32.81488)      59      9  \n",
       "664                   7.1          5  POINT (35.01676 32.81816)     119     18  \n",
       "668                   3.0          5      POINT (33.24 34.5414)      39      9  \n",
       "839                   6.3          5  POINT (32.56972 30.14294)     183     32  \n",
       "981                   8.3          5   POINT (32.86534 34.5302)     134     22  \n",
       "\n",
       "[92 rows x 15 columns]"
      ]
     },
     "metadata": {},
     "output_type": "display_data"
    }
   ],
   "source": [
    "# Get a dataframe with only the single ships\n",
    "unique_ships = geo_raw_ship_data.drop_duplicates(subset=['MMSI'])\n",
    "display(unique_ships)"
   ]
  },
  {
   "cell_type": "markdown",
   "metadata": {},
   "source": [
    "Επεξεργαζόμαστε το νέο πίνακα με κριτήριο τον τύπο των πλοίων."
   ]
  },
  {
   "cell_type": "code",
   "execution_count": 21,
   "metadata": {},
   "outputs": [
    {
     "name": "stdout",
     "output_type": "stream",
     "text": [
      "[ 0 31 33 34 35 37 40 50 51 52 59 60 68 69 70 71 79 80 82 89 90 91 92 99]\n"
     ]
    }
   ],
   "source": [
    "# Find the different type of ships\n",
    "ship_type = unique_ships['Type'].unique()\n",
    "print(np.sort(ship_type))"
   ]
  },
  {
   "cell_type": "markdown",
   "metadata": {},
   "source": [
    "Κάθε τύπος πλοίου περιγράφεται παρακάτω."
   ]
  },
  {
   "cell_type": "markdown",
   "metadata": {},
   "source": [
    "<style>\n",
    "Shipso { border:1px solid #C0C0C0; border-collapse:collapse; padding:5px; }\n",
    "Shipsmo th { border:1px solid #C0C0C0; padding:5px; background:#F0F0F0;}Shipsemo td { border:1px solid #C0C0C0; padding:5px;}\n",
    "</style>\n",
    "\n",
    "<table class=\"Ships\">\n",
    "<thead>\n",
    "    <tr>\n",
    "        <th>Type</th>\n",
    "        <th>Description</th>\n",
    "    </tr>\n",
    "    </thead>\n",
    "    <tbody>\n",
    "    <tr>\n",
    "        <td>0</td>\n",
    "        <td>default</td>\n",
    "    </tr>\n",
    "    <tr>\n",
    "        <td>31</td>\n",
    "        <td>Towing</td>\n",
    "    </tr>\n",
    "    <tr>\n",
    "        <td>33</td>\n",
    "        <td>Dredging</td>\n",
    "    </tr>\n",
    "    <tr>\n",
    "        <td>34</td>\n",
    "        <td>Diving</td>\n",
    "    </tr>\n",
    "    <tr>\n",
    "        <td>35</td>\n",
    "        <td>Military</td>\n",
    "    </tr>\n",
    "    <tr>\n",
    "        <td>37</td>\n",
    "        <td>Pleasure</td>\n",
    "    </tr>\n",
    "    <tr>\n",
    "        <td>40</td>\n",
    "        <td>HighSpeedCraft (HSC)</td>\n",
    "    </tr>\n",
    "    <tr>\n",
    "        <td>50</td>\n",
    "        <td>Pilot</td>\n",
    "    </tr>\n",
    "    <tr>\n",
    "        <td>51</td>\n",
    "        <td>SAR</td>\n",
    "    </tr>\n",
    "    <tr>\n",
    "        <td>52</td>\n",
    "        <td>Tug</td>\n",
    "    </tr>\n",
    "    <tr>\n",
    "        <td>59</td>\n",
    "        <td>Noncombatant</td>\n",
    "    </tr>\n",
    "    <tr>\n",
    "        <td>60</td>\n",
    "        <td>Passenger</td>\n",
    "    </tr>\n",
    "    <tr>\n",
    "        <td>68</td>\n",
    "        <td>Passenger Reserved for future us</td>\n",
    "    </tr>\n",
    "    <tr>\n",
    "        <td>69</td>\n",
    "        <td>Passenger No additional information</td>\n",
    "    </tr>\n",
    "    <tr>\n",
    "        <td>70</td>\n",
    "        <td>Cargo all ships of this type</td>\n",
    "    </tr>\n",
    "    <tr>\n",
    "        <td>71</td>\n",
    "        <td>Cargo Hazardous category A</td>\n",
    "    </tr>\n",
    "    <tr>\n",
    "        <td>79</td>\n",
    "        <td>Cargo No additional information</td>\n",
    "    </tr>\n",
    "    <tr>\n",
    "        <td>80</td>\n",
    "        <td>Tanker all ships of this type</td>\n",
    "    </tr>\n",
    "    <tr>\n",
    "        <td>82</td>\n",
    "        <td>Tanker Hazardous category B</td>\n",
    "    </tr>\n",
    "    <tr>\n",
    "        <td>89</td>\n",
    "        <td>Tanker No additional information</td>\n",
    "    </tr>\n",
    "    <tr>\n",
    "        <td>90</td>\n",
    "        <td>Other Type all ships of this type</td>\n",
    "    </tr>\n",
    "    <tr>\n",
    "        <td>91</td>\n",
    "        <td>Other Type Hazardous category A</td>\n",
    "    </tr>\n",
    "    <tr>\n",
    "        <td>92</td>\n",
    "        <td>Other Type Hazardous category B</td>\n",
    "    </tr>\n",
    "    <tr>\n",
    "        <td>99</td>\n",
    "        <td>Other Type no additional information</td>\n",
    "    </tr>\n",
    "    </tbody>\n",
    "</table>"
   ]
  },
  {
   "cell_type": "markdown",
   "metadata": {},
   "source": [
    "Εάν παρατηρήσουμε καλύτερα τις κατηγορίες συμπεράινουμε πως μπορούμε να τις εντάξουμε σε πιο γενικές. Πιο ειδικά για τις κατηγορίες 60, 70, 80, 90. "
   ]
  },
  {
   "cell_type": "code",
   "execution_count": 22,
   "metadata": {},
   "outputs": [],
   "source": [
    "# Collapse vessel subcategories to categories\n",
    "unique_ships.loc[(unique_ships['Type'] == 71) | (unique_ships['Type'] == 79), 'Type'] = 70"
   ]
  },
  {
   "cell_type": "code",
   "execution_count": 23,
   "metadata": {},
   "outputs": [],
   "source": [
    "unique_ships.loc[(unique_ships['Type'] == 68) | (unique_ships['Type'] == 69), 'Type'] = 60"
   ]
  },
  {
   "cell_type": "code",
   "execution_count": 24,
   "metadata": {},
   "outputs": [],
   "source": [
    "unique_ships.loc[(unique_ships['Type'] == 82) | (unique_ships['Type'] == 89), 'Type'] = 80"
   ]
  },
  {
   "cell_type": "code",
   "execution_count": 25,
   "metadata": {},
   "outputs": [],
   "source": [
    "unique_ships.loc[(unique_ships['Type'] == 91) | (unique_ships['Type'] == 92) | (unique_ships['Type'] == 99), 'Type'] = 90"
   ]
  },
  {
   "cell_type": "code",
   "execution_count": 26,
   "metadata": {},
   "outputs": [
    {
     "data": {
      "text/html": [
       "<div>\n",
       "<style scoped>\n",
       "    .dataframe tbody tr th:only-of-type {\n",
       "        vertical-align: middle;\n",
       "    }\n",
       "\n",
       "    .dataframe tbody tr th {\n",
       "        vertical-align: top;\n",
       "    }\n",
       "\n",
       "    .dataframe thead th {\n",
       "        text-align: right;\n",
       "    }\n",
       "</style>\n",
       "<table border=\"1\" class=\"dataframe\">\n",
       "  <thead>\n",
       "    <tr style=\"text-align: right;\">\n",
       "      <th></th>\n",
       "      <th>time_utc</th>\n",
       "      <th>CallSign</th>\n",
       "      <th>ShipName</th>\n",
       "      <th>Type</th>\n",
       "      <th>ImoNumber</th>\n",
       "      <th>MMSI</th>\n",
       "      <th>latitude</th>\n",
       "      <th>longitude</th>\n",
       "      <th>Destination</th>\n",
       "      <th>FixType</th>\n",
       "      <th>MaximumStaticDraught</th>\n",
       "      <th>MessageID</th>\n",
       "      <th>geometry</th>\n",
       "      <th>length</th>\n",
       "      <th>width</th>\n",
       "    </tr>\n",
       "  </thead>\n",
       "  <tbody>\n",
       "    <tr>\n",
       "      <th>0</th>\n",
       "      <td>2023-12-09 08:05:51</td>\n",
       "      <td>IBRV</td>\n",
       "      <td>SEMINOLE</td>\n",
       "      <td>90</td>\n",
       "      <td>7645550</td>\n",
       "      <td>247274900</td>\n",
       "      <td>34.669683</td>\n",
       "      <td>33.058350</td>\n",
       "      <td>CYLMS</td>\n",
       "      <td>1</td>\n",
       "      <td>4.5</td>\n",
       "      <td>5</td>\n",
       "      <td>POINT (33.05835 34.66968)</td>\n",
       "      <td>135</td>\n",
       "      <td>30</td>\n",
       "    </tr>\n",
       "    <tr>\n",
       "      <th>1</th>\n",
       "      <td>2023-12-09 08:05:54</td>\n",
       "      <td>5BLV2</td>\n",
       "      <td>EDT ZENON</td>\n",
       "      <td>52</td>\n",
       "      <td>9315977</td>\n",
       "      <td>212541000</td>\n",
       "      <td>34.645403</td>\n",
       "      <td>33.009685</td>\n",
       "      <td>LIMASSOL</td>\n",
       "      <td>1</td>\n",
       "      <td>2.4</td>\n",
       "      <td>5</td>\n",
       "      <td>POINT (33.00969 34.6454)</td>\n",
       "      <td>28</td>\n",
       "      <td>9</td>\n",
       "    </tr>\n",
       "    <tr>\n",
       "      <th>2</th>\n",
       "      <td>2023-12-09 08:05:57</td>\n",
       "      <td>TCA5645</td>\n",
       "      <td>KOSOVAK</td>\n",
       "      <td>70</td>\n",
       "      <td>9211157</td>\n",
       "      <td>271047045</td>\n",
       "      <td>35.826203</td>\n",
       "      <td>29.005122</td>\n",
       "      <td>TRALI</td>\n",
       "      <td>1</td>\n",
       "      <td>10.0</td>\n",
       "      <td>5</td>\n",
       "      <td>POINT (29.00512 35.8262)</td>\n",
       "      <td>158</td>\n",
       "      <td>24</td>\n",
       "    </tr>\n",
       "    <tr>\n",
       "      <th>3</th>\n",
       "      <td>2023-12-09 08:06:05</td>\n",
       "      <td>5BFB3</td>\n",
       "      <td>EDT LEON</td>\n",
       "      <td>90</td>\n",
       "      <td>9575400</td>\n",
       "      <td>209343000</td>\n",
       "      <td>34.645127</td>\n",
       "      <td>33.008998</td>\n",
       "      <td>LIMASSOL</td>\n",
       "      <td>0</td>\n",
       "      <td>2.4</td>\n",
       "      <td>5</td>\n",
       "      <td>POINT (33.009 34.64513)</td>\n",
       "      <td>50</td>\n",
       "      <td>10</td>\n",
       "    </tr>\n",
       "    <tr>\n",
       "      <th>4</th>\n",
       "      <td>2023-12-09 08:06:08</td>\n",
       "      <td>GDSA</td>\n",
       "      <td>NAVAL AUXILIARY A135</td>\n",
       "      <td>34</td>\n",
       "      <td>7822550</td>\n",
       "      <td>233303000</td>\n",
       "      <td>34.652447</td>\n",
       "      <td>33.016777</td>\n",
       "      <td>NaN</td>\n",
       "      <td>1</td>\n",
       "      <td>0.0</td>\n",
       "      <td>5</td>\n",
       "      <td>POINT (33.01678 34.65245)</td>\n",
       "      <td>175</td>\n",
       "      <td>30</td>\n",
       "    </tr>\n",
       "  </tbody>\n",
       "</table>\n",
       "</div>"
      ],
      "text/plain": [
       "             time_utc CallSign              ShipName  Type  ImoNumber  \\\n",
       "0 2023-12-09 08:05:51     IBRV              SEMINOLE    90    7645550   \n",
       "1 2023-12-09 08:05:54    5BLV2             EDT ZENON    52    9315977   \n",
       "2 2023-12-09 08:05:57  TCA5645               KOSOVAK    70    9211157   \n",
       "3 2023-12-09 08:06:05    5BFB3              EDT LEON    90    9575400   \n",
       "4 2023-12-09 08:06:08     GDSA  NAVAL AUXILIARY A135    34    7822550   \n",
       "\n",
       "        MMSI   latitude  longitude Destination  FixType  MaximumStaticDraught  \\\n",
       "0  247274900  34.669683  33.058350       CYLMS        1                   4.5   \n",
       "1  212541000  34.645403  33.009685    LIMASSOL        1                   2.4   \n",
       "2  271047045  35.826203  29.005122       TRALI        1                  10.0   \n",
       "3  209343000  34.645127  33.008998    LIMASSOL        0                   2.4   \n",
       "4  233303000  34.652447  33.016777         NaN        1                   0.0   \n",
       "\n",
       "   MessageID                   geometry  length  width  \n",
       "0          5  POINT (33.05835 34.66968)     135     30  \n",
       "1          5   POINT (33.00969 34.6454)      28      9  \n",
       "2          5   POINT (29.00512 35.8262)     158     24  \n",
       "3          5    POINT (33.009 34.64513)      50     10  \n",
       "4          5  POINT (33.01678 34.65245)     175     30  "
      ]
     },
     "execution_count": 26,
     "metadata": {},
     "output_type": "execute_result"
    }
   ],
   "source": [
    "unique_ships.head()"
   ]
  },
  {
   "cell_type": "markdown",
   "metadata": {},
   "source": [
    "Εφόσον έχουμε πλεόν έναν πίνακα μόνο με τα πλοία μπορούμε να απεικονίσουμε ορισμένα διαγράμματα."
   ]
  },
  {
   "cell_type": "markdown",
   "metadata": {},
   "source": [
    "Αρχικά απεικονίζουμε το πλήθος των πλοίων ανα κατηγορία."
   ]
  },
  {
   "cell_type": "code",
   "execution_count": 27,
   "metadata": {},
   "outputs": [],
   "source": [
    "# Proportion of each vessel category in our dataset\n",
    "type_proportion = unique_ships['Type'].value_counts(normalize=True)"
   ]
  },
  {
   "cell_type": "code",
   "execution_count": 28,
   "metadata": {},
   "outputs": [
    {
     "data": {
      "image/png": "[encoded data removed]",
      "text/plain": [
       "<Figure size 640x480 with 1 Axes>"
      ]
     },
     "metadata": {},
     "output_type": "display_data"
    }
   ],
   "source": [
    "sns.barplot(x=type_proportion.index, y=type_proportion.values, hue=type_proportion.index, palette='rocket')\n",
    "plt.title('Vessel Type - Proportion')\n",
    "plt.xlabel('Vessel Type')\n",
    "plt.ylabel('Proportion')\n",
    "\n",
    "# Display the plot\n",
    "plt.show()"
   ]
  },
  {
   "cell_type": "markdown",
   "metadata": {},
   "source": [
    "Στη συνέχεια μας ενδιαφέρει να δούμε την κατηγορία του πομπού εκπομπής που χρησιμοποιεί κάθε σκάφος."
   ]
  },
  {
   "cell_type": "code",
   "execution_count": 29,
   "metadata": {},
   "outputs": [
    {
     "name": "stdout",
     "output_type": "stream",
     "text": [
      "[ 1  0 15  6  3]\n"
     ]
    }
   ],
   "source": [
    "# Find the different fix types provided\n",
    "fix_type = geo_raw_ship_data['FixType'].unique()\n",
    "print(fix_type)"
   ]
  },
  {
   "cell_type": "markdown",
   "metadata": {},
   "source": [
    "<style>\n",
    ".Fix { border:1px solid #C0C0C0; border-collapse:collapse; padding:5px; }\n",
    ".Fix th { border:1px solid #C0C0C0; padding:5px; background:#F0F0F0;}\n",
    ".Fix td { border:1px solid #C0C0C0; padding:5px;}\n",
    "</style>\n",
    "\n",
    "<table class=\"Fix\">\n",
    "<thead>\n",
    "    <tr>\n",
    "        <th>FixType</th>\n",
    "        <th>Description</th>\n",
    "    </tr>\n",
    "    </thead>\n",
    "    <tbody>\n",
    "    <tr>\n",
    "        <td>0</td>\n",
    "        <td>default</td>\n",
    "    </tr>\n",
    "    <tr>\n",
    "        <td>1</td>\n",
    "        <td>GPS</td>\n",
    "    </tr>\n",
    "    <tr>\n",
    "        <td>3</td>\n",
    "        <td>GPS + GLONASS</td>\n",
    "    </tr>\n",
    "    <tr>\n",
    "        <td>6</td>\n",
    "        <td>INS</td>\n",
    "    </tr>\n",
    "    <tr>\n",
    "        <td>15</td>\n",
    "        <td>internal GNSS</td>\n",
    "    </tr>       \n",
    "    </tbody>\n",
    "</table>INS\n",
    "15 = internal GNSS\n"
   ]
  },
  {
   "cell_type": "code",
   "execution_count": 30,
   "metadata": {},
   "outputs": [],
   "source": [
    "# Proportion of each vessel category in our dataset\n",
    "fixType_proportion = unique_ships['FixType'].value_counts(normalize=True)"
   ]
  },
  {
   "cell_type": "code",
   "execution_count": 31,
   "metadata": {},
   "outputs": [
    {
     "data": {
      "image/png": "[encoded data removed]",
      "text/plain": [
       "<Figure size 640x480 with 1 Axes>"
      ]
     },
     "metadata": {},
     "output_type": "display_data"
    }
   ],
   "source": [
    "sns.barplot(x=fixType_proportion.index, y=fixType_proportion.values, hue=fixType_proportion.index, palette='rocket')\n",
    "plt.title('Vessel Type - Proportion')\n",
    "plt.xlabel('Vessel Type')\n",
    "plt.ylabel('Proportion')\n",
    "\n",
    "# Display the plot\n",
    "plt.show()"
   ]
  },
  {
   "cell_type": "markdown",
   "metadata": {},
   "source": [
    "Για καλύτερη κατανόηση των δεδομένων μας θα δημιουργήσουμε ένα διαδραστικό διάγραμμα διασποράς που απεικονίζει στοιχεία σχετικά με το μέγεθος των πλοίων."
   ]
  },
  {
   "cell_type": "code",
   "execution_count": 32,
   "metadata": {},
   "outputs": [
    {
     "data": {
      "application/vnd.plotly.v1+json": {
       "config": {
        "plotlyServerURL": "https://plot.ly"
       },
       "data": [
        {
         "customdata": [
          [
           90,
           247274900,
           "SEMINOLE"
          ],
          [
           52,
           212541000,
           "EDT ZENON"
          ],
          [
           70,
           271047045,
           "KOSOVAK"
          ],
          [
           90,
           209343000,
           "EDT LEON"
          ],
          [
           34,
           233303000,
           "NAVAL AUXILIARY A135"
          ],
          [
           50,
           428009070,
           "PILOT B 2"
          ],
          [
           37,
           352002749,
           "BEOL"
          ],
          [
           70,
           538002973,
           "MILA"
          ],
          [
           80,
           212717000,
           "OLVIA"
          ],
          [
           37,
           256081000,
           "EXINITY"
          ],
          [
           37,
           248823000,
           "SEVANNA"
          ],
          [
           80,
           636022888,
           "ATLAS STAR"
          ],
          [
           52,
           212230000,
           "EDT ARGONAUT"
          ],
          [
           70,
           209511000,
           "AKRITAS"
          ],
          [
           80,
           636021691,
           "KRITI CAPTAIN"
          ],
          [
           80,
           636019201,
           "CHEM LITHIUM"
          ],
          [
           52,
           210588000,
           "LEDRA PRIDE"
          ],
          [
           90,
           319222400,
           "VICTORIOUS"
          ],
          [
           80,
           636015074,
           "IVORY RAY"
          ],
          [
           33,
           212212000,
           "EDT YAM"
          ],
          [
           0,
           4282000,
           "ASHDOD PORT"
          ],
          [
           90,
           244810178,
           "CONQUEST MB1"
          ],
          [
           70,
           215209000,
           "MV SEAVENUS"
          ],
          [
           70,
           353822000,
           "REGINA MED"
          ],
          [
           70,
           671290100,
           "SYMPHONY"
          ],
          [
           70,
           255806109,
           "MSC MASHA 3"
          ],
          [
           52,
           209005000,
           "EAS"
          ],
          [
           40,
           305384000,
           "IRIS"
          ],
          [
           52,
           255979000,
           "EDT AURORA"
          ],
          [
           70,
           371343000,
           "KAZIME ANA"
          ],
          [
           35,
           211920000,
           "UN WARSHIP F222"
          ],
          [
           70,
           375369000,
           "ZAYYAN K"
          ],
          [
           70,
           511100389,
           "BENIGANE"
          ],
          [
           80,
           235090927,
           "LERRIX"
          ],
          [
           70,
           667001448,
           "DEBBIE"
          ],
          [
           52,
           241776000,
           "CHRISTOS LV"
          ],
          [
           70,
           622113180,
           "EGY CROWN"
          ],
          [
           37,
           518998397,
           "TATIANA"
          ],
          [
           70,
           236723000,
           "SEASTAR VENTURE"
          ],
          [
           51,
           271044343,
           "KIYEM 5"
          ],
          [
           90,
           577171000,
           "DEMAREST TIDE"
          ],
          [
           70,
           511100835,
           "VASSILIKO"
          ],
          [
           90,
           538007432,
           "NOR NAOMI"
          ],
          [
           70,
           352002364,
           "MEDKON CANAKKALE"
          ],
          [
           52,
           428045000,
           "KESARIA"
          ],
          [
           0,
           511100504,
           "BAR DIVE 1"
          ],
          [
           70,
           613226010,
           "CORAL C"
          ],
          [
           0,
           572705210,
           "SOLARIS"
          ],
          [
           52,
           212872000,
           "P&O TROODOS"
          ],
          [
           90,
           319234300,
           "SUN"
          ],
          [
           59,
           212858000,
           "SKY"
          ],
          [
           52,
           255977000,
           "EDT AUGUSTA"
          ],
          [
           37,
           256060000,
           "LE VERSEAU"
          ],
          [
           52,
           428068000,
           "DANCHOR VI"
          ],
          [
           60,
           511100460,
           "SEA STAR LINDOS"
          ],
          [
           0,
           209352000,
           "PETSAS I"
          ],
          [
           52,
           209166000,
           "P&O KALYPSO"
          ],
          [
           70,
           538009102,
           "ENERGEAN STAR"
          ],
          [
           60,
           630001049,
           "SEA STAR TILOS"
          ],
          [
           0,
           428990000,
           "EAPC CONTROL"
          ],
          [
           80,
           636014902,
           "AEGEAS"
          ],
          [
           52,
           428000112,
           "MAORA 1"
          ],
          [
           52,
           257073920,
           "ISLAND VICTORY"
          ],
          [
           33,
           312349000,
           "HOLMA"
          ],
          [
           80,
           210595000,
           "ISLAND CHALLENGER"
          ],
          [
           52,
           428000407,
           "HADERA"
          ],
          [
           31,
           345050010,
           "ADMIRAL"
          ],
          [
           60,
           613871403,
           "ISKENDERUN"
          ],
          [
           52,
           636021330,
           "EDT ANDROMEDA"
          ],
          [
           80,
           563112000,
           "KILBURN"
          ],
          [
           60,
           271051041,
           "ADA 74"
          ],
          [
           31,
           987170323,
           "BARGE SERIFOS"
          ],
          [
           70,
           271052043,
           "MEDKON MIRA"
          ],
          [
           80,
           311000706,
           "IRINI"
          ],
          [
           80,
           229447000,
           "EMIRALP"
          ],
          [
           0,
           319287000,
           "TAMTEEN"
          ],
          [
           80,
           215013000,
           "DELTA SEA"
          ],
          [
           80,
           210282000,
           "ISLAND TRADER"
          ],
          [
           70,
           667001603,
           "URANUS L"
          ],
          [
           0,
           470763000,
           "ROAMING V"
          ],
          [
           70,
           668116210,
           "MORNES"
          ],
          [
           52,
           428007000,
           "AMATZIA II"
          ],
          [
           52,
           212319000,
           "VTS KERYNEIA"
          ],
          [
           52,
           209492000,
           "VTS AYIA MARINA"
          ],
          [
           52,
           428066000,
           "ELAD"
          ],
          [
           80,
           209969000,
           "IRIS"
          ],
          [
           80,
           256251000,
           "CHEMICAL MARINER"
          ],
          [
           90,
           538003685,
           "DANCHOR IX"
          ],
          [
           70,
           352002159,
           "NOVA CORALIA"
          ],
          [
           52,
           210330000,
           "LEDRA EXPLORER"
          ],
          [
           70,
           538009176,
           "STELLAR LADY"
          ],
          [
           70,
           305299000,
           "SUSAN BORCHARD"
          ]
         ],
         "hovertemplate": "length=%{x}<br>width=%{y}<br>Type=%{marker.color}<br>MMSI=%{customdata[1]}<br>ShipName=%{customdata[2]}<extra></extra>",
         "legendgroup": "",
         "marker": {
          "color": {
           "bdata": "WjRGWiIyJUZQJSVQNEZQUDRaUCEAWkZGRkY0KDRGI0ZGUEY0RiVGM1pGWkY0AEYANFo7NCU0PAA0RjwAUDQ0IVA0Hzw0UDwfRlBQAFBQRgBGNDQ0NFBQWkY0RkY=",
           "dtype": "i1"
          },
          "coloraxis": "coloraxis",
          "symbol": "circle"
         },
         "mode": "markers",
         "name": "",
         "orientation": "v",
         "showlegend": false,
         "type": "scatter",
         "x": {
          "bdata": "hwAcAJ4AMgCvABAAPAC+AGQAKAAqALcAKgBwALgAkwAqAFUAkgBMAOwAiAC+AGQAUQC4AD4AGAAgAHMAlgBRAIIANQBrADgAjABQALEAFwBYAH8AVgCBACAAFgBwACUAHgBiAFoAKQAoACAAJgBXABYAWAAjAFcAtgAhAHwAKABNAB8AJgB6ACkAeABgAEYAowBwAG4ANwBkAGEAUwAaAHQAHgAgABcAHwAyAIYAOwB3ACcAtwCGAA==",
          "dtype": "i2"
         },
         "xaxis": "x",
         "y": {
          "bdata": "HgkYCh4FCiASCQgbCREbGAoOGA8gJCARCx4NCAwQEw8UChAQMgwcBhMQFBUMBxEMCxIWCwoMCQALEwwAGwsZCQ4QChULFA8UFhIRChINHAYQCwwKDA4VCRIJIBY=",
          "dtype": "i1"
         },
         "yaxis": "y"
        }
       ],
       "layout": {
        "coloraxis": {
         "colorbar": {
          "title": {
           "text": "Type"
          }
         },
         "colorscale": [
          [
           0,
           "#0d0887"
          ],
          [
           0.1111111111111111,
           "#46039f"
          ],
          [
           0.2222222222222222,
           "#7201a8"
          ],
          [
           0.3333333333333333,
           "#9c179e"
          ],
          [
           0.4444444444444444,
           "#bd3786"
          ],
          [
           0.5555555555555556,
           "#d8576b"
          ],
          [
           0.6666666666666666,
           "#ed7953"
          ],
          [
           0.7777777777777778,
           "#fb9f3a"
          ],
          [
           0.8888888888888888,
           "#fdca26"
          ],
          [
           1,
           "#f0f921"
          ]
         ]
        },
        "legend": {
         "tracegroupgap": 0
        },
        "margin": {
         "t": 60
        },
        "template": {
         "data": {
          "bar": [
           {
            "error_x": {
             "color": "#2a3f5f"
            },
            "error_y": {
             "color": "#2a3f5f"
            },
            "marker": {
             "line": {
              "color": "#E5ECF6",
              "width": 0.5
             },
             "pattern": {
              "fillmode": "overlay",
              "size": 10,
              "solidity": 0.2
             }
            },
            "type": "bar"
           }
          ],
          "barpolar": [
           {
            "marker": {
             "line": {
              "color": "#E5ECF6",
              "width": 0.5
             },
             "pattern": {
              "fillmode": "overlay",
              "size": 10,
              "solidity": 0.2
             }
            },
            "type": "barpolar"
           }
          ],
          "carpet": [
           {
            "aaxis": {
             "endlinecolor": "#2a3f5f",
             "gridcolor": "white",
             "linecolor": "white",
             "minorgridcolor": "white",
             "startlinecolor": "#2a3f5f"
            },
            "baxis": {
             "endlinecolor": "#2a3f5f",
             "gridcolor": "white",
             "linecolor": "white",
             "minorgridcolor": "white",
             "startlinecolor": "#2a3f5f"
            },
            "type": "carpet"
           }
          ],
          "choropleth": [
           {
            "colorbar": {
             "outlinewidth": 0,
             "ticks": ""
            },
            "type": "choropleth"
           }
          ],
          "contour": [
           {
            "colorbar": {
             "outlinewidth": 0,
             "ticks": ""
            },
            "colorscale": [
             [
              0,
              "#0d0887"
             ],
             [
              0.1111111111111111,
              "#46039f"
             ],
             [
              0.2222222222222222,
              "#7201a8"
             ],
             [
              0.3333333333333333,
              "#9c179e"
             ],
             [
              0.4444444444444444,
              "#bd3786"
             ],
             [
              0.5555555555555556,
              "#d8576b"
             ],
             [
              0.6666666666666666,
              "#ed7953"
             ],
             [
              0.7777777777777778,
              "#fb9f3a"
             ],
             [
              0.8888888888888888,
              "#fdca26"
             ],
             [
              1,
              "#f0f921"
             ]
            ],
            "type": "contour"
           }
          ],
          "contourcarpet": [
           {
            "colorbar": {
             "outlinewidth": 0,
             "ticks": ""
            },
            "type": "contourcarpet"
           }
          ],
          "heatmap": [
           {
            "colorbar": {
             "outlinewidth": 0,
             "ticks": ""
            },
            "colorscale": [
             [
              0,
              "#0d0887"
             ],
             [
              0.1111111111111111,
              "#46039f"
             ],
             [
              0.2222222222222222,
              "#7201a8"
             ],
             [
              0.3333333333333333,
              "#9c179e"
             ],
             [
              0.4444444444444444,
              "#bd3786"
             ],
             [
              0.5555555555555556,
              "#d8576b"
             ],
             [
              0.6666666666666666,
              "#ed7953"
             ],
             [
              0.7777777777777778,
              "#fb9f3a"
             ],
             [
              0.8888888888888888,
              "#fdca26"
             ],
             [
              1,
              "#f0f921"
             ]
            ],
            "type": "heatmap"
           }
          ],
          "histogram": [
           {
            "marker": {
             "pattern": {
              "fillmode": "overlay",
              "size": 10,
              "solidity": 0.2
             }
            },
            "type": "histogram"
           }
          ],
          "histogram2d": [
           {
            "colorbar": {
             "outlinewidth": 0,
             "ticks": ""
            },
            "colorscale": [
             [
              0,
              "#0d0887"
             ],
             [
              0.1111111111111111,
              "#46039f"
             ],
             [
              0.2222222222222222,
              "#7201a8"
             ],
             [
              0.3333333333333333,
              "#9c179e"
             ],
             [
              0.4444444444444444,
              "#bd3786"
             ],
             [
              0.5555555555555556,
              "#d8576b"
             ],
             [
              0.6666666666666666,
              "#ed7953"
             ],
             [
              0.7777777777777778,
              "#fb9f3a"
             ],
             [
              0.8888888888888888,
              "#fdca26"
             ],
             [
              1,
              "#f0f921"
             ]
            ],
            "type": "histogram2d"
           }
          ],
          "histogram2dcontour": [
           {
            "colorbar": {
             "outlinewidth": 0,
             "ticks": ""
            },
            "colorscale": [
             [
              0,
              "#0d0887"
             ],
             [
              0.1111111111111111,
              "#46039f"
             ],
             [
              0.2222222222222222,
              "#7201a8"
             ],
             [
              0.3333333333333333,
              "#9c179e"
             ],
             [
              0.4444444444444444,
              "#bd3786"
             ],
             [
              0.5555555555555556,
              "#d8576b"
             ],
             [
              0.6666666666666666,
              "#ed7953"
             ],
             [
              0.7777777777777778,
              "#fb9f3a"
             ],
             [
              0.8888888888888888,
              "#fdca26"
             ],
             [
              1,
              "#f0f921"
             ]
            ],
            "type": "histogram2dcontour"
           }
          ],
          "mesh3d": [
           {
            "colorbar": {
             "outlinewidth": 0,
             "ticks": ""
            },
            "type": "mesh3d"
           }
          ],
          "parcoords": [
           {
            "line": {
             "colorbar": {
              "outlinewidth": 0,
              "ticks": ""
             }
            },
            "type": "parcoords"
           }
          ],
          "pie": [
           {
            "automargin": true,
            "type": "pie"
           }
          ],
          "scatter": [
           {
            "fillpattern": {
             "fillmode": "overlay",
             "size": 10,
             "solidity": 0.2
            },
            "type": "scatter"
           }
          ],
          "scatter3d": [
           {
            "line": {
             "colorbar": {
              "outlinewidth": 0,
              "ticks": ""
             }
            },
            "marker": {
             "colorbar": {
              "outlinewidth": 0,
              "ticks": ""
             }
            },
            "type": "scatter3d"
           }
          ],
          "scattercarpet": [
           {
            "marker": {
             "colorbar": {
              "outlinewidth": 0,
              "ticks": ""
             }
            },
            "type": "scattercarpet"
           }
          ],
          "scattergeo": [
           {
            "marker": {
             "colorbar": {
              "outlinewidth": 0,
              "ticks": ""
             }
            },
            "type": "scattergeo"
           }
          ],
          "scattergl": [
           {
            "marker": {
             "colorbar": {
              "outlinewidth": 0,
              "ticks": ""
             }
            },
            "type": "scattergl"
           }
          ],
          "scattermap": [
           {
            "marker": {
             "colorbar": {
              "outlinewidth": 0,
              "ticks": ""
             }
            },
            "type": "scattermap"
           }
          ],
          "scattermapbox": [
           {
            "marker": {
             "colorbar": {
              "outlinewidth": 0,
              "ticks": ""
             }
            },
            "type": "scattermapbox"
           }
          ],
          "scatterpolar": [
           {
            "marker": {
             "colorbar": {
              "outlinewidth": 0,
              "ticks": ""
             }
            },
            "type": "scatterpolar"
           }
          ],
          "scatterpolargl": [
           {
            "marker": {
             "colorbar": {
              "outlinewidth": 0,
              "ticks": ""
             }
            },
            "type": "scatterpolargl"
           }
          ],
          "scatterternary": [
           {
            "marker": {
             "colorbar": {
              "outlinewidth": 0,
              "ticks": ""
             }
            },
            "type": "scatterternary"
           }
          ],
          "surface": [
           {
            "colorbar": {
             "outlinewidth": 0,
             "ticks": ""
            },
            "colorscale": [
             [
              0,
              "#0d0887"
             ],
             [
              0.1111111111111111,
              "#46039f"
             ],
             [
              0.2222222222222222,
              "#7201a8"
             ],
             [
              0.3333333333333333,
              "#9c179e"
             ],
             [
              0.4444444444444444,
              "#bd3786"
             ],
             [
              0.5555555555555556,
              "#d8576b"
             ],
             [
              0.6666666666666666,
              "#ed7953"
             ],
             [
              0.7777777777777778,
              "#fb9f3a"
             ],
             [
              0.8888888888888888,
              "#fdca26"
             ],
             [
              1,
              "#f0f921"
             ]
            ],
            "type": "surface"
           }
          ],
          "table": [
           {
            "cells": {
             "fill": {
              "color": "#EBF0F8"
             },
             "line": {
              "color": "white"
             }
            },
            "header": {
             "fill": {
              "color": "#C8D4E3"
             },
             "line": {
              "color": "white"
             }
            },
            "type": "table"
           }
          ]
         },
         "layout": {
          "annotationdefaults": {
           "arrowcolor": "#2a3f5f",
           "arrowhead": 0,
           "arrowwidth": 1
          },
          "autotypenumbers": "strict",
          "coloraxis": {
           "colorbar": {
            "outlinewidth": 0,
            "ticks": ""
           }
          },
          "colorscale": {
           "diverging": [
            [
             0,
             "#8e0152"
            ],
            [
             0.1,
             "#c51b7d"
            ],
            [
             0.2,
             "#de77ae"
            ],
            [
             0.3,
             "#f1b6da"
            ],
            [
             0.4,
             "#fde0ef"
            ],
            [
             0.5,
             "#f7f7f7"
            ],
            [
             0.6,
             "#e6f5d0"
            ],
            [
             0.7,
             "#b8e186"
            ],
            [
             0.8,
             "#7fbc41"
            ],
            [
             0.9,
             "#4d9221"
            ],
            [
             1,
             "#276419"
            ]
           ],
           "sequential": [
            [
             0,
             "#0d0887"
            ],
            [
             0.1111111111111111,
             "#46039f"
            ],
            [
             0.2222222222222222,
             "#7201a8"
            ],
            [
             0.3333333333333333,
             "#9c179e"
            ],
            [
             0.4444444444444444,
             "#bd3786"
            ],
            [
             0.5555555555555556,
             "#d8576b"
            ],
            [
             0.6666666666666666,
             "#ed7953"
            ],
            [
             0.7777777777777778,
             "#fb9f3a"
            ],
            [
             0.8888888888888888,
             "#fdca26"
            ],
            [
             1,
             "#f0f921"
            ]
           ],
           "sequentialminus": [
            [
             0,
             "#0d0887"
            ],
            [
             0.1111111111111111,
             "#46039f"
            ],
            [
             0.2222222222222222,
             "#7201a8"
            ],
            [
             0.3333333333333333,
             "#9c179e"
            ],
            [
             0.4444444444444444,
             "#bd3786"
            ],
            [
             0.5555555555555556,
             "#d8576b"
            ],
            [
             0.6666666666666666,
             "#ed7953"
            ],
            [
             0.7777777777777778,
             "#fb9f3a"
            ],
            [
             0.8888888888888888,
             "#fdca26"
            ],
            [
             1,
             "#f0f921"
            ]
           ]
          },
          "colorway": [
           "#636efa",
           "#EF553B",
           "#00cc96",
           "#ab63fa",
           "#FFA15A",
           "#19d3f3",
           "#FF6692",
           "#B6E880",
           "#FF97FF",
           "#FECB52"
          ],
          "font": {
           "color": "#2a3f5f"
          },
          "geo": {
           "bgcolor": "white",
           "lakecolor": "white",
           "landcolor": "#E5ECF6",
           "showlakes": true,
           "showland": true,
           "subunitcolor": "white"
          },
          "hoverlabel": {
           "align": "left"
          },
          "hovermode": "closest",
          "mapbox": {
           "style": "light"
          },
          "paper_bgcolor": "white",
          "plot_bgcolor": "#E5ECF6",
          "polar": {
           "angularaxis": {
            "gridcolor": "white",
            "linecolor": "white",
            "ticks": ""
           },
           "bgcolor": "#E5ECF6",
           "radialaxis": {
            "gridcolor": "white",
            "linecolor": "white",
            "ticks": ""
           }
          },
          "scene": {
           "xaxis": {
            "backgroundcolor": "#E5ECF6",
            "gridcolor": "white",
            "gridwidth": 2,
            "linecolor": "white",
            "showbackground": true,
            "ticks": "",
            "zerolinecolor": "white"
           },
           "yaxis": {
            "backgroundcolor": "#E5ECF6",
            "gridcolor": "white",
            "gridwidth": 2,
            "linecolor": "white",
            "showbackground": true,
            "ticks": "",
            "zerolinecolor": "white"
           },
           "zaxis": {
            "backgroundcolor": "#E5ECF6",
            "gridcolor": "white",
            "gridwidth": 2,
            "linecolor": "white",
            "showbackground": true,
            "ticks": "",
            "zerolinecolor": "white"
           }
          },
          "shapedefaults": {
           "line": {
            "color": "#2a3f5f"
           }
          },
          "ternary": {
           "aaxis": {
            "gridcolor": "white",
            "linecolor": "white",
            "ticks": ""
           },
           "baxis": {
            "gridcolor": "white",
            "linecolor": "white",
            "ticks": ""
           },
           "bgcolor": "#E5ECF6",
           "caxis": {
            "gridcolor": "white",
            "linecolor": "white",
            "ticks": ""
           }
          },
          "title": {
           "x": 0.05
          },
          "xaxis": {
           "automargin": true,
           "gridcolor": "white",
           "linecolor": "white",
           "ticks": "",
           "title": {
            "standoff": 15
           },
           "zerolinecolor": "white",
           "zerolinewidth": 2
          },
          "yaxis": {
           "automargin": true,
           "gridcolor": "white",
           "linecolor": "white",
           "ticks": "",
           "title": {
            "standoff": 15
           },
           "zerolinecolor": "white",
           "zerolinewidth": 2
          }
         }
        },
        "title": {
         "text": "Interactive Scatter Plot of Vessel Dimensions"
        },
        "xaxis": {
         "anchor": "y",
         "domain": [
          0,
          1
         ],
         "title": {
          "text": "Length"
         }
        },
        "yaxis": {
         "anchor": "x",
         "domain": [
          0,
          1
         ],
         "title": {
          "text": "Width"
         }
        }
       }
      }
     },
     "metadata": {},
     "output_type": "display_data"
    }
   ],
   "source": [
    "fig = px.scatter(unique_ships, x='length', y='width', color='Type', hover_data=['Type', 'MMSI', 'ShipName'])\n",
    "\n",
    "# Customize the plot layout\n",
    "fig.update_layout(title='Interactive Scatter Plot of Vessel Dimensions',\n",
    "                  xaxis_title='Length',\n",
    "                  yaxis_title='Width')\n",
    "\n",
    "# Display the interactive plot\n",
    "fig.show()"
   ]
  },
  {
   "cell_type": "markdown",
   "metadata": {},
   "source": [
    "Επίσης απεικονίζουμε σε επόμενο διάγραμμα το εύρος που κυμάινεται το βύθισμα των σκαφών."
   ]
  },
  {
   "cell_type": "code",
   "execution_count": 33,
   "metadata": {},
   "outputs": [
    {
     "data": {
      "text/plain": [
       "Text(0, 0.5, 'Draught')"
      ]
     },
     "execution_count": 33,
     "metadata": {},
     "output_type": "execute_result"
    },
    {
     "data": {
      "image/png": "[encoded data removed]",
      "text/plain": [
       "<Figure size 640x480 with 1 Axes>"
      ]
     },
     "metadata": {},
     "output_type": "display_data"
    }
   ],
   "source": [
    "sns.violinplot(x='Type',y='MaximumStaticDraught', data=unique_ships,hue='Type', palette='Set1')\n",
    "plt.title('Violin Plot of Vessel Draught for All Ships')\n",
    "plt.ylabel('Draught')"
   ]
  },
  {
   "cell_type": "markdown",
   "metadata": {},
   "source": [
    "-International Maritime Organization (IMO) SHIP IDENTIFICATION NUMBER \n",
    "Αποτελεί μοναδικό κωδικό που ανατίθεται σε κάθε πλοίο. Αυτός ο αριθμός χρησιμοποιείται για την ταυτοποίηση και το παρακολούθηση των πλοίων σε διεθνές επίπεδο.\n"
   ]
  },
  {
   "cell_type": "markdown",
   "metadata": {},
   "source": [
    "Είτε πρόκειται για ένα μεγάλο φορτηγό πλοίο, ένα πλοίο επιβατών, ένα δεξαμενόπλοιο, \n",
    "είτε για ένα μικρότερο σκάφος, η ύπαρξη ενός μοναδικού αναγνωριστικού αριθμού συμβάλλει \n",
    "στην παρακολούθηση και διαχείριση των θαλάσσιων δραστηριοτήτων."
   ]
  },
  {
   "cell_type": "code",
   "execution_count": 34,
   "metadata": {},
   "outputs": [],
   "source": [
    "# variables for ships with or without IMO number \n",
    "\n",
    "# Get Ships with IMO number\n",
    "Ships_with_IMO_number = geo_raw_ship_data[raw_ship_data[\"ImoNumber\"] != 0]\n",
    "Total_number_Ships_with_IMO = (geo_raw_ship_data[\"ImoNumber\"] != 0).sum()\n",
    "\n",
    "# Get Ships without IMO number\n",
    "Ships_with_no_IMO_number = geo_raw_ship_data[geo_raw_ship_data[\"ImoNumber\"] == 0]\n",
    "Total_number_Ships_with_no_IMO = (geo_raw_ship_data[\"ImoNumber\"] == 0).sum()"
   ]
  },
  {
   "cell_type": "code",
   "execution_count": 35,
   "metadata": {},
   "outputs": [
    {
     "data": {
      "text/plain": [
       "24"
      ]
     },
     "execution_count": 35,
     "metadata": {},
     "output_type": "execute_result"
    }
   ],
   "source": [
    "# Get percentage of ships without IMO number\n",
    "Percentage_of_no_IMO_Ships = (\n",
    "    Total_number_Ships_with_no_IMO \n",
    "    /geo_raw_ship_data[\"ImoNumber\"].count()) * 100\n",
    "round(Percentage_of_no_IMO_Ships)"
   ]
  },
  {
   "cell_type": "markdown",
   "metadata": {},
   "source": [
    "24% το ποσοστό των πλοίων που δεν διαθέτουν ΙMO number"
   ]
  },
  {
   "cell_type": "markdown",
   "metadata": {},
   "source": [
    "Κατασκευή ενός γραφήματος διασποράς που θα περιέχει ως dataframe μονο τα πλοία εκείνα που δεν έχουν αριθμό IMO με σκοπό την οπτικοποίηση τους σε χάρτη, βάσει του γεωγραφικού μήκους και πλάτους.\n",
    "Scatter Plots on Mapbox in Python"
   ]
  },
  {
   "cell_type": "code",
   "execution_count": 36,
   "metadata": {},
   "outputs": [
    {
     "data": {
      "text/html": [
       "<div>\n",
       "<style scoped>\n",
       "    .dataframe tbody tr th:only-of-type {\n",
       "        vertical-align: middle;\n",
       "    }\n",
       "\n",
       "    .dataframe tbody tr th {\n",
       "        vertical-align: top;\n",
       "    }\n",
       "\n",
       "    .dataframe thead th {\n",
       "        text-align: right;\n",
       "    }\n",
       "</style>\n",
       "<table border=\"1\" class=\"dataframe\">\n",
       "  <thead>\n",
       "    <tr style=\"text-align: right;\">\n",
       "      <th></th>\n",
       "      <th>index</th>\n",
       "      <th>ImoNumber</th>\n",
       "      <th>latitude</th>\n",
       "      <th>longitude</th>\n",
       "      <th>Destination</th>\n",
       "    </tr>\n",
       "  </thead>\n",
       "  <tbody>\n",
       "    <tr>\n",
       "      <th>0</th>\n",
       "      <td>5</td>\n",
       "      <td>0</td>\n",
       "      <td>31.830750</td>\n",
       "      <td>34.641645</td>\n",
       "      <td>ASHDOD</td>\n",
       "    </tr>\n",
       "    <tr>\n",
       "      <th>1</th>\n",
       "      <td>9</td>\n",
       "      <td>0</td>\n",
       "      <td>34.665327</td>\n",
       "      <td>33.041782</td>\n",
       "      <td>LIMASSOL MARINA</td>\n",
       "    </tr>\n",
       "    <tr>\n",
       "      <th>2</th>\n",
       "      <td>10</td>\n",
       "      <td>0</td>\n",
       "      <td>34.665240</td>\n",
       "      <td>33.041335</td>\n",
       "      <td>LIMASSOL CYPRUS</td>\n",
       "    </tr>\n",
       "    <tr>\n",
       "      <th>3</th>\n",
       "      <td>20</td>\n",
       "      <td>0</td>\n",
       "      <td>31.831317</td>\n",
       "      <td>34.639927</td>\n",
       "      <td>NaN</td>\n",
       "    </tr>\n",
       "    <tr>\n",
       "      <th>4</th>\n",
       "      <td>21</td>\n",
       "      <td>0</td>\n",
       "      <td>34.645100</td>\n",
       "      <td>33.014250</td>\n",
       "      <td>LIMASSOL</td>\n",
       "    </tr>\n",
       "    <tr>\n",
       "      <th>...</th>\n",
       "      <td>...</td>\n",
       "      <td>...</td>\n",
       "      <td>...</td>\n",
       "      <td>...</td>\n",
       "      <td>...</td>\n",
       "    </tr>\n",
       "    <tr>\n",
       "      <th>231</th>\n",
       "      <td>991</td>\n",
       "      <td>0</td>\n",
       "      <td>34.646253</td>\n",
       "      <td>33.021863</td>\n",
       "      <td>LIMASSOL</td>\n",
       "    </tr>\n",
       "    <tr>\n",
       "      <th>232</th>\n",
       "      <td>993</td>\n",
       "      <td>0</td>\n",
       "      <td>34.453983</td>\n",
       "      <td>33.299383</td>\n",
       "      <td>-</td>\n",
       "    </tr>\n",
       "    <tr>\n",
       "      <th>233</th>\n",
       "      <td>994</td>\n",
       "      <td>0</td>\n",
       "      <td>31.831207</td>\n",
       "      <td>34.640012</td>\n",
       "      <td>NaN</td>\n",
       "    </tr>\n",
       "    <tr>\n",
       "      <th>234</th>\n",
       "      <td>996</td>\n",
       "      <td>0</td>\n",
       "      <td>34.670837</td>\n",
       "      <td>33.077082</td>\n",
       "      <td>HAIFA ISRAEL</td>\n",
       "    </tr>\n",
       "    <tr>\n",
       "      <th>235</th>\n",
       "      <td>1001</td>\n",
       "      <td>0</td>\n",
       "      <td>34.664870</td>\n",
       "      <td>33.040000</td>\n",
       "      <td>CYLMS</td>\n",
       "    </tr>\n",
       "  </tbody>\n",
       "</table>\n",
       "<p>236 rows × 5 columns</p>\n",
       "</div>"
      ],
      "text/plain": [
       "     index  ImoNumber   latitude  longitude      Destination\n",
       "0        5          0  31.830750  34.641645           ASHDOD\n",
       "1        9          0  34.665327  33.041782  LIMASSOL MARINA\n",
       "2       10          0  34.665240  33.041335  LIMASSOL CYPRUS\n",
       "3       20          0  31.831317  34.639927              NaN\n",
       "4       21          0  34.645100  33.014250         LIMASSOL\n",
       "..     ...        ...        ...        ...              ...\n",
       "231    991          0  34.646253  33.021863         LIMASSOL\n",
       "232    993          0  34.453983  33.299383                -\n",
       "233    994          0  31.831207  34.640012              NaN\n",
       "234    996          0  34.670837  33.077082     HAIFA ISRAEL\n",
       "235   1001          0  34.664870  33.040000            CYLMS\n",
       "\n",
       "[236 rows x 5 columns]"
      ]
     },
     "execution_count": 36,
     "metadata": {},
     "output_type": "execute_result"
    }
   ],
   "source": [
    "# Dataframe of ships with no Imo number, latitude & longitude\n",
    "Lat_Long_IMO = geo_raw_ship_data[['ImoNumber','latitude','longitude','Destination']]\n",
    "Lat_Long_of_no_IMO_Ships = Lat_Long_IMO[Lat_Long_IMO[\"ImoNumber\"] == 0].copy().reset_index()\n",
    "Lat_Long_of_no_IMO_Ships"
   ]
  },
  {
   "cell_type": "code",
   "execution_count": 37,
   "metadata": {},
   "outputs": [
    {
     "data": {
      "text/html": [
       "<div>\n",
       "<style scoped>\n",
       "    .dataframe tbody tr th:only-of-type {\n",
       "        vertical-align: middle;\n",
       "    }\n",
       "\n",
       "    .dataframe tbody tr th {\n",
       "        vertical-align: top;\n",
       "    }\n",
       "\n",
       "    .dataframe thead th {\n",
       "        text-align: right;\n",
       "    }\n",
       "</style>\n",
       "<table border=\"1\" class=\"dataframe\">\n",
       "  <thead>\n",
       "    <tr style=\"text-align: right;\">\n",
       "      <th></th>\n",
       "      <th>index</th>\n",
       "      <th>ImoNumber</th>\n",
       "      <th>latitude</th>\n",
       "      <th>longitude</th>\n",
       "      <th>Destination</th>\n",
       "    </tr>\n",
       "  </thead>\n",
       "  <tbody>\n",
       "    <tr>\n",
       "      <th>3</th>\n",
       "      <td>20</td>\n",
       "      <td>0</td>\n",
       "      <td>31.831317</td>\n",
       "      <td>34.639927</td>\n",
       "      <td>NaN</td>\n",
       "    </tr>\n",
       "    <tr>\n",
       "      <th>6</th>\n",
       "      <td>32</td>\n",
       "      <td>0</td>\n",
       "      <td>31.831242</td>\n",
       "      <td>34.639950</td>\n",
       "      <td>NaN</td>\n",
       "    </tr>\n",
       "    <tr>\n",
       "      <th>11</th>\n",
       "      <td>68</td>\n",
       "      <td>0</td>\n",
       "      <td>34.664468</td>\n",
       "      <td>33.029690</td>\n",
       "      <td>NaN</td>\n",
       "    </tr>\n",
       "    <tr>\n",
       "      <th>12</th>\n",
       "      <td>77</td>\n",
       "      <td>0</td>\n",
       "      <td>31.642125</td>\n",
       "      <td>34.531130</td>\n",
       "      <td>NaN</td>\n",
       "    </tr>\n",
       "    <tr>\n",
       "      <th>15</th>\n",
       "      <td>93</td>\n",
       "      <td>0</td>\n",
       "      <td>31.831232</td>\n",
       "      <td>34.639995</td>\n",
       "      <td>NaN</td>\n",
       "    </tr>\n",
       "  </tbody>\n",
       "</table>\n",
       "</div>"
      ],
      "text/plain": [
       "    index  ImoNumber   latitude  longitude Destination\n",
       "3      20          0  31.831317  34.639927         NaN\n",
       "6      32          0  31.831242  34.639950         NaN\n",
       "11     68          0  34.664468  33.029690         NaN\n",
       "12     77          0  31.642125  34.531130         NaN\n",
       "15     93          0  31.831232  34.639995         NaN"
      ]
     },
     "execution_count": 37,
     "metadata": {},
     "output_type": "execute_result"
    }
   ],
   "source": [
    "# Testing for Null values\n",
    "Null_entries = Lat_Long_of_no_IMO_Ships.isnull().any(axis=1)\n",
    "null_rows = Lat_Long_of_no_IMO_Ships[Null_entries]\n",
    "null_rows.head()"
   ]
  },
  {
   "cell_type": "code",
   "execution_count": 38,
   "metadata": {},
   "outputs": [
    {
     "data": {
      "application/vnd.plotly.v1+json": {
       "config": {
        "plotlyServerURL": "https://plot.ly"
       },
       "data": [
        {
         "geo": "geo",
         "hovertemplate": "latitude=%{lat}<br>longitude=%{lon}<extra></extra>",
         "lat": {
          "bdata": "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",
          "dtype": "f8"
         },
         "legendgroup": "",
         "lon": {
          "bdata": "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",
          "dtype": "f8"
         },
         "marker": {
          "color": "#636efa",
          "symbol": "circle"
         },
         "mode": "markers",
         "name": "",
         "showlegend": false,
         "type": "scattergeo"
        }
       ],
       "layout": {
        "geo": {
         "center": {},
         "domain": {
          "x": [
           0,
           1
          ],
          "y": [
           0,
           1
          ]
         }
        },
        "legend": {
         "tracegroupgap": 0
        },
        "margin": {
         "t": 60
        },
        "template": {
         "data": {
          "bar": [
           {
            "error_x": {
             "color": "#2a3f5f"
            },
            "error_y": {
             "color": "#2a3f5f"
            },
            "marker": {
             "line": {
              "color": "#E5ECF6",
              "width": 0.5
             },
             "pattern": {
              "fillmode": "overlay",
              "size": 10,
              "solidity": 0.2
             }
            },
            "type": "bar"
           }
          ],
          "barpolar": [
           {
            "marker": {
             "line": {
              "color": "#E5ECF6",
              "width": 0.5
             },
             "pattern": {
              "fillmode": "overlay",
              "size": 10,
              "solidity": 0.2
             }
            },
            "type": "barpolar"
           }
          ],
          "carpet": [
           {
            "aaxis": {
             "endlinecolor": "#2a3f5f",
             "gridcolor": "white",
             "linecolor": "white",
             "minorgridcolor": "white",
             "startlinecolor": "#2a3f5f"
            },
            "baxis": {
             "endlinecolor": "#2a3f5f",
             "gridcolor": "white",
             "linecolor": "white",
             "minorgridcolor": "white",
             "startlinecolor": "#2a3f5f"
            },
            "type": "carpet"
           }
          ],
          "choropleth": [
           {
            "colorbar": {
             "outlinewidth": 0,
             "ticks": ""
            },
            "type": "choropleth"
           }
          ],
          "contour": [
           {
            "colorbar": {
             "outlinewidth": 0,
             "ticks": ""
            },
            "colorscale": [
             [
              0,
              "#0d0887"
             ],
             [
              0.1111111111111111,
              "#46039f"
             ],
             [
              0.2222222222222222,
              "#7201a8"
             ],
             [
              0.3333333333333333,
              "#9c179e"
             ],
             [
              0.4444444444444444,
              "#bd3786"
             ],
             [
              0.5555555555555556,
              "#d8576b"
             ],
             [
              0.6666666666666666,
              "#ed7953"
             ],
             [
              0.7777777777777778,
              "#fb9f3a"
             ],
             [
              0.8888888888888888,
              "#fdca26"
             ],
             [
              1,
              "#f0f921"
             ]
            ],
            "type": "contour"
           }
          ],
          "contourcarpet": [
           {
            "colorbar": {
             "outlinewidth": 0,
             "ticks": ""
            },
            "type": "contourcarpet"
           }
          ],
          "heatmap": [
           {
            "colorbar": {
             "outlinewidth": 0,
             "ticks": ""
            },
            "colorscale": [
             [
              0,
              "#0d0887"
             ],
             [
              0.1111111111111111,
              "#46039f"
             ],
             [
              0.2222222222222222,
              "#7201a8"
             ],
             [
              0.3333333333333333,
              "#9c179e"
             ],
             [
              0.4444444444444444,
              "#bd3786"
             ],
             [
              0.5555555555555556,
              "#d8576b"
             ],
             [
              0.6666666666666666,
              "#ed7953"
             ],
             [
              0.7777777777777778,
              "#fb9f3a"
             ],
             [
              0.8888888888888888,
              "#fdca26"
             ],
             [
              1,
              "#f0f921"
             ]
            ],
            "type": "heatmap"
           }
          ],
          "histogram": [
           {
            "marker": {
             "pattern": {
              "fillmode": "overlay",
              "size": 10,
              "solidity": 0.2
             }
            },
            "type": "histogram"
           }
          ],
          "histogram2d": [
           {
            "colorbar": {
             "outlinewidth": 0,
             "ticks": ""
            },
            "colorscale": [
             [
              0,
              "#0d0887"
             ],
             [
              0.1111111111111111,
              "#46039f"
             ],
             [
              0.2222222222222222,
              "#7201a8"
             ],
             [
              0.3333333333333333,
              "#9c179e"
             ],
             [
              0.4444444444444444,
              "#bd3786"
             ],
             [
              0.5555555555555556,
              "#d8576b"
             ],
             [
              0.6666666666666666,
              "#ed7953"
             ],
             [
              0.7777777777777778,
              "#fb9f3a"
             ],
             [
              0.8888888888888888,
              "#fdca26"
             ],
             [
              1,
              "#f0f921"
             ]
            ],
            "type": "histogram2d"
           }
          ],
          "histogram2dcontour": [
           {
            "colorbar": {
             "outlinewidth": 0,
             "ticks": ""
            },
            "colorscale": [
             [
              0,
              "#0d0887"
             ],
             [
              0.1111111111111111,
              "#46039f"
             ],
             [
              0.2222222222222222,
              "#7201a8"
             ],
             [
              0.3333333333333333,
              "#9c179e"
             ],
             [
              0.4444444444444444,
              "#bd3786"
             ],
             [
              0.5555555555555556,
              "#d8576b"
             ],
             [
              0.6666666666666666,
              "#ed7953"
             ],
             [
              0.7777777777777778,
              "#fb9f3a"
             ],
             [
              0.8888888888888888,
              "#fdca26"
             ],
             [
              1,
              "#f0f921"
             ]
            ],
            "type": "histogram2dcontour"
           }
          ],
          "mesh3d": [
           {
            "colorbar": {
             "outlinewidth": 0,
             "ticks": ""
            },
            "type": "mesh3d"
           }
          ],
          "parcoords": [
           {
            "line": {
             "colorbar": {
              "outlinewidth": 0,
              "ticks": ""
             }
            },
            "type": "parcoords"
           }
          ],
          "pie": [
           {
            "automargin": true,
            "type": "pie"
           }
          ],
          "scatter": [
           {
            "fillpattern": {
             "fillmode": "overlay",
             "size": 10,
             "solidity": 0.2
            },
            "type": "scatter"
           }
          ],
          "scatter3d": [
           {
            "line": {
             "colorbar": {
              "outlinewidth": 0,
              "ticks": ""
             }
            },
            "marker": {
             "colorbar": {
              "outlinewidth": 0,
              "ticks": ""
             }
            },
            "type": "scatter3d"
           }
          ],
          "scattercarpet": [
           {
            "marker": {
             "colorbar": {
              "outlinewidth": 0,
              "ticks": ""
             }
            },
            "type": "scattercarpet"
           }
          ],
          "scattergeo": [
           {
            "marker": {
             "colorbar": {
              "outlinewidth": 0,
              "ticks": ""
             }
            },
            "type": "scattergeo"
           }
          ],
          "scattergl": [
           {
            "marker": {
             "colorbar": {
              "outlinewidth": 0,
              "ticks": ""
             }
            },
            "type": "scattergl"
           }
          ],
          "scattermap": [
           {
            "marker": {
             "colorbar": {
              "outlinewidth": 0,
              "ticks": ""
             }
            },
            "type": "scattermap"
           }
          ],
          "scattermapbox": [
           {
            "marker": {
             "colorbar": {
              "outlinewidth": 0,
              "ticks": ""
             }
            },
            "type": "scattermapbox"
           }
          ],
          "scatterpolar": [
           {
            "marker": {
             "colorbar": {
              "outlinewidth": 0,
              "ticks": ""
             }
            },
            "type": "scatterpolar"
           }
          ],
          "scatterpolargl": [
           {
            "marker": {
             "colorbar": {
              "outlinewidth": 0,
              "ticks": ""
             }
            },
            "type": "scatterpolargl"
           }
          ],
          "scatterternary": [
           {
            "marker": {
             "colorbar": {
              "outlinewidth": 0,
              "ticks": ""
             }
            },
            "type": "scatterternary"
           }
          ],
          "surface": [
           {
            "colorbar": {
             "outlinewidth": 0,
             "ticks": ""
            },
            "colorscale": [
             [
              0,
              "#0d0887"
             ],
             [
              0.1111111111111111,
              "#46039f"
             ],
             [
              0.2222222222222222,
              "#7201a8"
             ],
             [
              0.3333333333333333,
              "#9c179e"
             ],
             [
              0.4444444444444444,
              "#bd3786"
             ],
             [
              0.5555555555555556,
              "#d8576b"
             ],
             [
              0.6666666666666666,
              "#ed7953"
             ],
             [
              0.7777777777777778,
              "#fb9f3a"
             ],
             [
              0.8888888888888888,
              "#fdca26"
             ],
             [
              1,
              "#f0f921"
             ]
            ],
            "type": "surface"
           }
          ],
          "table": [
           {
            "cells": {
             "fill": {
              "color": "#EBF0F8"
             },
             "line": {
              "color": "white"
             }
            },
            "header": {
             "fill": {
              "color": "#C8D4E3"
             },
             "line": {
              "color": "white"
             }
            },
            "type": "table"
           }
          ]
         },
         "layout": {
          "annotationdefaults": {
           "arrowcolor": "#2a3f5f",
           "arrowhead": 0,
           "arrowwidth": 1
          },
          "autotypenumbers": "strict",
          "coloraxis": {
           "colorbar": {
            "outlinewidth": 0,
            "ticks": ""
           }
          },
          "colorscale": {
           "diverging": [
            [
             0,
             "#8e0152"
            ],
            [
             0.1,
             "#c51b7d"
            ],
            [
             0.2,
             "#de77ae"
            ],
            [
             0.3,
             "#f1b6da"
            ],
            [
             0.4,
             "#fde0ef"
            ],
            [
             0.5,
             "#f7f7f7"
            ],
            [
             0.6,
             "#e6f5d0"
            ],
            [
             0.7,
             "#b8e186"
            ],
            [
             0.8,
             "#7fbc41"
            ],
            [
             0.9,
             "#4d9221"
            ],
            [
             1,
             "#276419"
            ]
           ],
           "sequential": [
            [
             0,
             "#0d0887"
            ],
            [
             0.1111111111111111,
             "#46039f"
            ],
            [
             0.2222222222222222,
             "#7201a8"
            ],
            [
             0.3333333333333333,
             "#9c179e"
            ],
            [
             0.4444444444444444,
             "#bd3786"
            ],
            [
             0.5555555555555556,
             "#d8576b"
            ],
            [
             0.6666666666666666,
             "#ed7953"
            ],
            [
             0.7777777777777778,
             "#fb9f3a"
            ],
            [
             0.8888888888888888,
             "#fdca26"
            ],
            [
             1,
             "#f0f921"
            ]
           ],
           "sequentialminus": [
            [
             0,
             "#0d0887"
            ],
            [
             0.1111111111111111,
             "#46039f"
            ],
            [
             0.2222222222222222,
             "#7201a8"
            ],
            [
             0.3333333333333333,
             "#9c179e"
            ],
            [
             0.4444444444444444,
             "#bd3786"
            ],
            [
             0.5555555555555556,
             "#d8576b"
            ],
            [
             0.6666666666666666,
             "#ed7953"
            ],
            [
             0.7777777777777778,
             "#fb9f3a"
            ],
            [
             0.8888888888888888,
             "#fdca26"
            ],
            [
             1,
             "#f0f921"
            ]
           ]
          },
          "colorway": [
           "#636efa",
           "#EF553B",
           "#00cc96",
           "#ab63fa",
           "#FFA15A",
           "#19d3f3",
           "#FF6692",
           "#B6E880",
           "#FF97FF",
           "#FECB52"
          ],
          "font": {
           "color": "#2a3f5f"
          },
          "geo": {
           "bgcolor": "white",
           "lakecolor": "white",
           "landcolor": "#E5ECF6",
           "showlakes": true,
           "showland": true,
           "subunitcolor": "white"
          },
          "hoverlabel": {
           "align": "left"
          },
          "hovermode": "closest",
          "mapbox": {
           "style": "light"
          },
          "paper_bgcolor": "white",
          "plot_bgcolor": "#E5ECF6",
          "polar": {
           "angularaxis": {
            "gridcolor": "white",
            "linecolor": "white",
            "ticks": ""
           },
           "bgcolor": "#E5ECF6",
           "radialaxis": {
            "gridcolor": "white",
            "linecolor": "white",
            "ticks": ""
           }
          },
          "scene": {
           "xaxis": {
            "backgroundcolor": "#E5ECF6",
            "gridcolor": "white",
            "gridwidth": 2,
            "linecolor": "white",
            "showbackground": true,
            "ticks": "",
            "zerolinecolor": "white"
           },
           "yaxis": {
            "backgroundcolor": "#E5ECF6",
            "gridcolor": "white",
            "gridwidth": 2,
            "linecolor": "white",
            "showbackground": true,
            "ticks": "",
            "zerolinecolor": "white"
           },
           "zaxis": {
            "backgroundcolor": "#E5ECF6",
            "gridcolor": "white",
            "gridwidth": 2,
            "linecolor": "white",
            "showbackground": true,
            "ticks": "",
            "zerolinecolor": "white"
           }
          },
          "shapedefaults": {
           "line": {
            "color": "#2a3f5f"
           }
          },
          "ternary": {
           "aaxis": {
            "gridcolor": "white",
            "linecolor": "white",
            "ticks": ""
           },
           "baxis": {
            "gridcolor": "white",
            "linecolor": "white",
            "ticks": ""
           },
           "bgcolor": "#E5ECF6",
           "caxis": {
            "gridcolor": "white",
            "linecolor": "white",
            "ticks": ""
           }
          },
          "title": {
           "x": 0.05
          },
          "xaxis": {
           "automargin": true,
           "gridcolor": "white",
           "linecolor": "white",
           "ticks": "",
           "title": {
            "standoff": 15
           },
           "zerolinecolor": "white",
           "zerolinewidth": 2
          },
          "yaxis": {
           "automargin": true,
           "gridcolor": "white",
           "linecolor": "white",
           "ticks": "",
           "title": {
            "standoff": 15
           },
           "zerolinecolor": "white",
           "zerolinewidth": 2
          }
         }
        }
       }
      }
     },
     "metadata": {},
     "output_type": "display_data"
    }
   ],
   "source": [
    "import geopandas as gpd\n",
    "import plotly.express as px\n",
    "fig = px.scatter_geo(Lat_Long_of_no_IMO_Ships,\n",
    "lat = 'latitude',\n",
    "lon = 'longitude',\n",
    ")\n",
    "fig.show()"
   ]
  },
  {
   "cell_type": "markdown",
   "metadata": {},
   "source": [
    "Συμπερασματικά, απο το dataframe των πλοίων χωρίς IMO αριθμό παρατηρείται πως τα περισσότερα δεν βρίσκονται σε πλέυση το δεδομένο διάστημα συλλογής των data"
   ]
  },
  {
   "cell_type": "markdown",
   "metadata": {},
   "source": [
    "## Χάρτες"
   ]
  },
  {
   "cell_type": "markdown",
   "metadata": {},
   "source": [
    "Επανερχόμαστε στο αρχικό dataframe. Αναζητούμε το πλοίο με τις περισσότερες εγγραφές επομένως και με τα περισσότερα δεδομένα συντεταγμένων."
   ]
  },
  {
   "cell_type": "code",
   "execution_count": 39,
   "metadata": {},
   "outputs": [
    {
     "data": {
      "text/plain": [
       "ShipName\n",
       "DEBBIE            27\n",
       "SYMPHONY          18\n",
       "EDT ARGONAUT      17\n",
       "ASHDOD PORT       17\n",
       "EDT LEON          17\n",
       "                  ..\n",
       "ELAD               1\n",
       "DANCHOR IX         1\n",
       "NOVA CORALIA       1\n",
       "STELLAR LADY       1\n",
       "SUSAN BORCHARD     1\n",
       "Name: count, Length: 91, dtype: int64"
      ]
     },
     "execution_count": 39,
     "metadata": {},
     "output_type": "execute_result"
    }
   ],
   "source": [
    "# Find the ship with the most data\n",
    "geo_raw_ship_data['ShipName'].value_counts()"
   ]
  },
  {
   "cell_type": "markdown",
   "metadata": {},
   "source": [
    "Για ευκολία απομονώνουμε τον πίνακα σε έναν μικρότερο με τις στήλες που μας ενδιαφέρουν."
   ]
  },
  {
   "cell_type": "code",
   "execution_count": 40,
   "metadata": {},
   "outputs": [
    {
     "data": {
      "text/html": [
       "<div>\n",
       "<style scoped>\n",
       "    .dataframe tbody tr th:only-of-type {\n",
       "        vertical-align: middle;\n",
       "    }\n",
       "\n",
       "    .dataframe tbody tr th {\n",
       "        vertical-align: top;\n",
       "    }\n",
       "\n",
       "    .dataframe thead th {\n",
       "        text-align: right;\n",
       "    }\n",
       "</style>\n",
       "<table border=\"1\" class=\"dataframe\">\n",
       "  <thead>\n",
       "    <tr style=\"text-align: right;\">\n",
       "      <th></th>\n",
       "      <th>time_utc</th>\n",
       "      <th>ShipName</th>\n",
       "      <th>MMSI</th>\n",
       "      <th>geometry</th>\n",
       "    </tr>\n",
       "  </thead>\n",
       "  <tbody>\n",
       "    <tr>\n",
       "      <th>0</th>\n",
       "      <td>2023-12-09 08:05:51</td>\n",
       "      <td>SEMINOLE</td>\n",
       "      <td>247274900</td>\n",
       "      <td>POINT (33.05835 34.66968)</td>\n",
       "    </tr>\n",
       "    <tr>\n",
       "      <th>1</th>\n",
       "      <td>2023-12-09 08:05:54</td>\n",
       "      <td>EDT ZENON</td>\n",
       "      <td>212541000</td>\n",
       "      <td>POINT (33.00969 34.6454)</td>\n",
       "    </tr>\n",
       "    <tr>\n",
       "      <th>2</th>\n",
       "      <td>2023-12-09 08:05:57</td>\n",
       "      <td>KOSOVAK</td>\n",
       "      <td>271047045</td>\n",
       "      <td>POINT (29.00512 35.8262)</td>\n",
       "    </tr>\n",
       "    <tr>\n",
       "      <th>3</th>\n",
       "      <td>2023-12-09 08:06:05</td>\n",
       "      <td>EDT LEON</td>\n",
       "      <td>209343000</td>\n",
       "      <td>POINT (33.009 34.64513)</td>\n",
       "    </tr>\n",
       "    <tr>\n",
       "      <th>4</th>\n",
       "      <td>2023-12-09 08:06:08</td>\n",
       "      <td>NAVAL AUXILIARY A135</td>\n",
       "      <td>233303000</td>\n",
       "      <td>POINT (33.01678 34.65245)</td>\n",
       "    </tr>\n",
       "  </tbody>\n",
       "</table>\n",
       "</div>"
      ],
      "text/plain": [
       "             time_utc              ShipName       MMSI  \\\n",
       "0 2023-12-09 08:05:51              SEMINOLE  247274900   \n",
       "1 2023-12-09 08:05:54             EDT ZENON  212541000   \n",
       "2 2023-12-09 08:05:57               KOSOVAK  271047045   \n",
       "3 2023-12-09 08:06:05              EDT LEON  209343000   \n",
       "4 2023-12-09 08:06:08  NAVAL AUXILIARY A135  233303000   \n",
       "\n",
       "                    geometry  \n",
       "0  POINT (33.05835 34.66968)  \n",
       "1   POINT (33.00969 34.6454)  \n",
       "2   POINT (29.00512 35.8262)  \n",
       "3    POINT (33.009 34.64513)  \n",
       "4  POINT (33.01678 34.65245)  "
      ]
     },
     "execution_count": 40,
     "metadata": {},
     "output_type": "execute_result"
    }
   ],
   "source": [
    "# Return a dataframe with only the data we need in order to plot trajectories\n",
    "ship_data = geo_raw_ship_data[['time_utc','ShipName','MMSI','geometry']]\n",
    "ship_data.head()"
   ]
  },
  {
   "cell_type": "markdown",
   "metadata": {},
   "source": [
    "Παρατηρήσαμε πως το σκάφος με όνομα \"DEBBIE\" έχει τις περισσότερες εγγραφές, επομένως θα δώσουμε ιδιαίτερη έμφαση."
   ]
  },
  {
   "cell_type": "code",
   "execution_count": 41,
   "metadata": {},
   "outputs": [
    {
     "name": "stdout",
     "output_type": "stream",
     "text": [
      "               time_utc ShipName       MMSI                   geometry\n",
      "35  2023-12-09 08:09:28   DEBBIE  667001448   POINT (34.64196 31.8285)\n",
      "45  2023-12-09 08:10:41   DEBBIE  667001448  POINT (34.64197 31.82847)\n",
      "69  2023-12-09 08:12:56   DEBBIE  667001448  POINT (34.64197 31.82847)\n",
      "127 2023-12-09 08:18:30   DEBBIE  667001448   POINT (34.6419 31.82863)\n",
      "163 2023-12-09 08:22:48   DEBBIE  667001448  POINT (34.64196 31.82861)\n"
     ]
    }
   ],
   "source": [
    "# Get vessel \"Debbie\" wich has the most records\n",
    "ship_name_value=\"DEBBIE\"\n",
    "results = ship_data[ship_data[\"ShipName\"] == ship_name_value]\n",
    "print(results.head())"
   ]
  },
  {
   "cell_type": "markdown",
   "metadata": {},
   "source": [
    "Μετατρέπουμε τα δεδομένα συντεταγμένων σε τροχιές."
   ]
  },
  {
   "cell_type": "code",
   "execution_count": 42,
   "metadata": {},
   "outputs": [
    {
     "name": "stdout",
     "output_type": "stream",
     "text": [
      "TrajectoryCollection with 1 trajectories\n"
     ]
    }
   ],
   "source": [
    "traj_collection = mpd.TrajectoryCollection(results, 'MMSI', t='time_utc', min_length=5)\n",
    "traj_collection = mpd.MinTimeDeltaGeneralizer(traj_collection).generalize(tolerance=timedelta(seconds=30))\n",
    "print(traj_collection)"
   ]
  },
  {
   "cell_type": "code",
   "execution_count": 43,
   "metadata": {},
   "outputs": [
    {
     "name": "stdout",
     "output_type": "stream",
     "text": [
      "Trajectory 667001448 (2023-12-09 08:09:28 to 2023-12-09 09:35:15) | Size: 27 | Length: 139.5m\n",
      "Bounds: (34.64185, 31.828466666666667, 34.642015, 31.82865)\n",
      "LINESTRING (34.64196166666667 31.828498333333336, 34.64196666666667 31.828466666666667, 34.641966666\n"
     ]
    }
   ],
   "source": [
    "my_traj = traj_collection.trajectories[0]\n",
    "print(my_traj)"
   ]
  },
  {
   "cell_type": "code",
   "execution_count": 45,
   "metadata": {},
   "outputs": [
    {
     "data": {
      "text/html": [
       "<script type=\"esms-options\">{\"shimMode\": true}</script><style>*[data-root-id],\n",
       "*[data-root-id] > * {\n",
       "  box-sizing: border-box;\n",
       "  font-family: var(--jp-ui-font-family);\n",
       "  font-size: var(--jp-ui-font-size1);\n",
       "  color: var(--vscode-editor-foreground, var(--jp-ui-font-color1));\n",
       "}\n",
       "\n",
       "/* Override VSCode background color */\n",
       ".cell-output-ipywidget-background:has(\n",
       "  > .cell-output-ipywidget-background > .lm-Widget > *[data-root-id]\n",
       "),\n",
       ".cell-output-ipywidget-background:has(> .lm-Widget > *[data-root-id]) {\n",
       "  background-color: transparent !important;\n",
       "}\n",
       "</style>"
      ]
     },
     "metadata": {},
     "output_type": "display_data"
    },
    {
     "data": {
      "application/javascript": "(function(root) {\n  function now() {\n    return new Date();\n  }\n\n  const force = true;\n  const py_version = '3.7.3'.replace('rc', '-rc.').replace('.dev', '-dev.');\n  const reloading = false;\n  const Bokeh = root.Bokeh;\n\n  // Set a timeout for this load but only if we are not already initializing\n  if (typeof (root._bokeh_timeout) === \"undefined\" || (force || !root._bokeh_is_initializing)) {\n    root._bokeh_timeout = Date.now() + 5000;\n    root._bokeh_failed_load = false;\n  }\n\n  function run_callbacks() {\n    try {\n      root._bokeh_onload_callbacks.forEach(function(callback) {\n        if (callback != null)\n          callback();\n      });\n    } finally {\n      delete root._bokeh_onload_callbacks;\n    }\n    console.debug(\"Bokeh: all callbacks have finished\");\n  }\n\n  function load_libs(css_urls, js_urls, js_modules, js_exports, callback) {\n    if (css_urls == null) css_urls = [];\n    if (js_urls == null) js_urls = [];\n    if (js_modules == null) js_modules = [];\n    if (js_exports == null) js_exports = {};\n\n    root._bokeh_onload_callbacks.push(callback);\n\n    if (root._bokeh_is_loading > 0) {\n      // Don't load bokeh if it is still initializing\n      console.debug(\"Bokeh: BokehJS is being loaded, scheduling callback at\", now());\n      return null;\n    } else if (js_urls.length === 0 && js_modules.length === 0 && Object.keys(js_exports).length === 0) {\n      // There is nothing to load\n      run_callbacks();\n      return null;\n    }\n\n    function on_load() {\n      root._bokeh_is_loading--;\n      if (root._bokeh_is_loading === 0) {\n        console.debug(\"Bokeh: all BokehJS libraries/stylesheets loaded\");\n        run_callbacks()\n      }\n    }\n    window._bokeh_on_load = on_load\n\n    function on_error(e) {\n      const src_el = e.srcElement\n      console.error(\"failed to load \" + (src_el.href || src_el.src));\n    }\n\n    const skip = [];\n    if (window.requirejs) {\n      window.requirejs.config({'packages': {}, 'paths': {}, 'shim': {}});\n      root._bokeh_is_loading = css_urls.length + 0;\n    } else {\n      root._bokeh_is_loading = css_urls.length + js_urls.length + js_modules.length + Object.keys(js_exports).length;\n    }\n\n    const existing_stylesheets = []\n    const links = document.getElementsByTagName('link')\n    for (let i = 0; i < links.length; i++) {\n      const link = links[i]\n      if (link.href != null) {\n        existing_stylesheets.push(link.href)\n      }\n    }\n    for (let i = 0; i < css_urls.length; i++) {\n      const url = css_urls[i];\n      const escaped = encodeURI(url)\n      if (existing_stylesheets.indexOf(escaped) !== -1) {\n        on_load()\n        continue;\n      }\n      const element = document.createElement(\"link\");\n      element.onload = on_load;\n      element.onerror = on_error;\n      element.rel = \"stylesheet\";\n      element.type = \"text/css\";\n      element.href = url;\n      console.debug(\"Bokeh: injecting link tag for BokehJS stylesheet: \", url);\n      document.body.appendChild(element);\n    }    var existing_scripts = []\n    const scripts = document.getElementsByTagName('script')\n    for (let i = 0; i < scripts.length; i++) {\n      var script = scripts[i]\n      if (script.src != null) {\n        existing_scripts.push(script.src)\n      }\n    }\n    for (let i = 0; i < js_urls.length; i++) {\n      const url = js_urls[i];\n      const escaped = encodeURI(url)\n      if (skip.indexOf(escaped) !== -1 || existing_scripts.indexOf(escaped) !== -1) {\n        if (!window.requirejs) {\n          on_load();\n        }\n        continue;\n      }\n      const element = document.createElement('script');\n      element.onload = on_load;\n      element.onerror = on_error;\n      element.async = false;\n      element.src = url;\n      console.debug(\"Bokeh: injecting script tag for BokehJS library: \", url);\n      document.head.appendChild(element);\n    }\n    for (let i = 0; i < js_modules.length; i++) {\n      const url = js_modules[i];\n      const escaped = encodeURI(url)\n      if (skip.indexOf(escaped) !== -1 || existing_scripts.indexOf(escaped) !== -1) {\n        if (!window.requirejs) {\n          on_load();\n        }\n        continue;\n      }\n      var element = document.createElement('script');\n      element.onload = on_load;\n      element.onerror = on_error;\n      element.async = false;\n      element.src = url;\n      element.type = \"module\";\n      console.debug(\"Bokeh: injecting script tag for BokehJS library: \", url);\n      document.head.appendChild(element);\n    }\n    for (const name in js_exports) {\n      const url = js_exports[name];\n      const escaped = encodeURI(url)\n      if (skip.indexOf(escaped) >= 0 || root[name] != null) {\n        if (!window.requirejs) {\n          on_load();\n        }\n        continue;\n      }\n      var element = document.createElement('script');\n      element.onerror = on_error;\n      element.async = false;\n      element.type = \"module\";\n      console.debug(\"Bokeh: injecting script tag for BokehJS library: \", url);\n      element.textContent = `\n      import ${name} from \"${url}\"\n      window.${name} = ${name}\n      window._bokeh_on_load()\n      `\n      document.head.appendChild(element);\n    }\n    if (!js_urls.length && !js_modules.length) {\n      on_load()\n    }\n  };\n\n  function inject_raw_css(css) {\n    const element = document.createElement(\"style\");\n    element.appendChild(document.createTextNode(css));\n    document.body.appendChild(element);\n  }\n\n  const js_urls = [\"https://cdn.holoviz.org/panel/1.7.5/dist/bundled/reactiveesm/es-module-shims@^1.10.0/dist/es-module-shims.min.js\", \"https://cdn.bokeh.org/bokeh/release/bokeh-3.7.3.min.js\", \"https://cdn.bokeh.org/bokeh/release/bokeh-gl-3.7.3.min.js\", \"https://cdn.bokeh.org/bokeh/release/bokeh-widgets-3.7.3.min.js\", \"https://cdn.bokeh.org/bokeh/release/bokeh-tables-3.7.3.min.js\", \"https://cdn.holoviz.org/panel/1.7.5/dist/panel.min.js\"];\n  const js_modules = [];\n  const js_exports = {};\n  const css_urls = [];\n  const inline_js = [    function(Bokeh) {\n      Bokeh.set_log_level(\"info\");\n    },\nfunction(Bokeh) {} // ensure no trailing comma for IE\n  ];\n\n  function run_inline_js() {\n    if ((root.Bokeh !== undefined) || (force === true)) {\n      for (let i = 0; i < inline_js.length; i++) {\n        try {\n          inline_js[i].call(root, root.Bokeh);\n        } catch(e) {\n          if (!reloading) {\n            throw e;\n          }\n        }\n      }\n      // Cache old bokeh versions\n      if (Bokeh != undefined && !reloading) {\n        var NewBokeh = root.Bokeh;\n        if (Bokeh.versions === undefined) {\n          Bokeh.versions = new Map();\n        }\n        if (NewBokeh.version !== Bokeh.version) {\n          Bokeh.versions.set(NewBokeh.version, NewBokeh)\n        }\n        root.Bokeh = Bokeh;\n      }\n    } else if (Date.now() < root._bokeh_timeout) {\n      setTimeout(run_inline_js, 100);\n    } else if (!root._bokeh_failed_load) {\n      console.log(\"Bokeh: BokehJS failed to load within specified timeout.\");\n      root._bokeh_failed_load = true;\n    }\n    root._bokeh_is_initializing = false\n  }\n\n  function load_or_wait() {\n    // Implement a backoff loop that tries to ensure we do not load multiple\n    // versions of Bokeh and its dependencies at the same time.\n    // In recent versions we use the root._bokeh_is_initializing flag\n    // to determine whether there is an ongoing attempt to initialize\n    // bokeh, however for backward compatibility we also try to ensure\n    // that we do not start loading a newer (Panel>=1.0 and Bokeh>3) version\n    // before older versions are fully initialized.\n    if (root._bokeh_is_initializing && Date.now() > root._bokeh_timeout) {\n      // If the timeout and bokeh was not successfully loaded we reset\n      // everything and try loading again\n      root._bokeh_timeout = Date.now() + 5000;\n      root._bokeh_is_initializing = false;\n      root._bokeh_onload_callbacks = undefined;\n      root._bokeh_is_loading = 0\n      console.log(\"Bokeh: BokehJS was loaded multiple times but one version failed to initialize.\");\n      load_or_wait();\n    } else if (root._bokeh_is_initializing || (typeof root._bokeh_is_initializing === \"undefined\" && root._bokeh_onload_callbacks !== undefined)) {\n      setTimeout(load_or_wait, 100);\n    } else {\n      root._bokeh_is_initializing = true\n      root._bokeh_onload_callbacks = []\n      const bokeh_loaded = root.Bokeh != null && (root.Bokeh.version === py_version || (root.Bokeh.versions !== undefined && root.Bokeh.versions.has(py_version)));\n      if (!reloading && !bokeh_loaded) {\n        if (root.Bokeh) {\n          root.Bokeh = undefined;\n        }\n        console.debug(\"Bokeh: BokehJS not loaded, scheduling load and callback at\", now());\n      }\n      load_libs(css_urls, js_urls, js_modules, js_exports, function() {\n        console.debug(\"Bokeh: BokehJS plotting callback run at\", now());\n        run_inline_js();\n      });\n    }\n  }\n  // Give older versions of the autoload script a head-start to ensure\n  // they initialize before we start loading newer version.\n  setTimeout(load_or_wait, 100)\n}(window));",
      "application/vnd.holoviews_load.v0+json": ""
     },
     "metadata": {},
     "output_type": "display_data"
    },
    {
     "data": {
      "application/javascript": "\nif ((window.PyViz === undefined) || (window.PyViz instanceof HTMLElement)) {\n  window.PyViz = {comms: {}, comm_status:{}, kernels:{}, receivers: {}, plot_index: []}\n}\n\n\n    function JupyterCommManager() {\n    }\n\n    JupyterCommManager.prototype.register_target = function(plot_id, comm_id, msg_handler) {\n      if (window.comm_manager || ((window.Jupyter !== undefined) && (Jupyter.notebook.kernel != null))) {\n        var comm_manager = window.comm_manager || Jupyter.notebook.kernel.comm_manager;\n        comm_manager.register_target(comm_id, function(comm) {\n          comm.on_msg(msg_handler);\n        });\n      } else if ((plot_id in window.PyViz.kernels) && (window.PyViz.kernels[plot_id])) {\n        window.PyViz.kernels[plot_id].registerCommTarget(comm_id, function(comm) {\n          comm.onMsg = msg_handler;\n        });\n      } else if (typeof google != 'undefined' && google.colab.kernel != null) {\n        google.colab.kernel.comms.registerTarget(comm_id, (comm) => {\n          var messages = comm.messages[Symbol.asyncIterator]();\n          function processIteratorResult(result) {\n            var message = result.value;\n            var content = {data: message.data, comm_id};\n            var buffers = []\n            for (var buffer of message.buffers || []) {\n              buffers.push(new DataView(buffer))\n            }\n            var metadata = message.metadata || {};\n            var msg = {content, buffers, metadata}\n            msg_handler(msg);\n            return messages.next().then(processIteratorResult);\n          }\n          return messages.next().then(processIteratorResult);\n        })\n      }\n    }\n\n    JupyterCommManager.prototype.get_client_comm = function(plot_id, comm_id, msg_handler) {\n      if (comm_id in window.PyViz.comms) {\n        return window.PyViz.comms[comm_id];\n      } else if (window.comm_manager || ((window.Jupyter !== undefined) && (Jupyter.notebook.kernel != null))) {\n        var comm_manager = window.comm_manager || Jupyter.notebook.kernel.comm_manager;\n        var comm = comm_manager.new_comm(comm_id, {}, {}, {}, comm_id);\n        if (msg_handler) {\n          comm.on_msg(msg_handler);\n        }\n      } else if ((plot_id in window.PyViz.kernels) && (window.PyViz.kernels[plot_id])) {\n        var comm = window.PyViz.kernels[plot_id].connectToComm(comm_id);\n        let retries = 0;\n        const open = () => {\n          if (comm.active) {\n            comm.open();\n          } else if (retries > 3) {\n            console.warn('Comm target never activated')\n          } else {\n            retries += 1\n            setTimeout(open, 500)\n          }\n        }\n        if (comm.active) {\n          comm.open();\n        } else {\n          setTimeout(open, 500)\n        }\n        if (msg_handler) {\n          comm.onMsg = msg_handler;\n        }\n      } else if (typeof google != 'undefined' && google.colab.kernel != null) {\n        var comm_promise = google.colab.kernel.comms.open(comm_id)\n        comm_promise.then((comm) => {\n          window.PyViz.comms[comm_id] = comm;\n          if (msg_handler) {\n            var messages = comm.messages[Symbol.asyncIterator]();\n            function processIteratorResult(result) {\n              var message = result.value;\n              var content = {data: message.data};\n              var metadata = message.metadata || {comm_id};\n              var msg = {content, metadata}\n              msg_handler(msg);\n              return messages.next().then(processIteratorResult);\n            }\n            return messages.next().then(processIteratorResult);\n          }\n        })\n        var sendClosure = (data, metadata, buffers, disposeOnDone) => {\n          return comm_promise.then((comm) => {\n            comm.send(data, metadata, buffers, disposeOnDone);\n          });\n        };\n        var comm = {\n          send: sendClosure\n        };\n      }\n      window.PyViz.comms[comm_id] = comm;\n      return comm;\n    }\n    window.PyViz.comm_manager = new JupyterCommManager();\n    \n\n\nvar JS_MIME_TYPE = 'application/javascript';\nvar HTML_MIME_TYPE = 'text/html';\nvar EXEC_MIME_TYPE = 'application/vnd.holoviews_exec.v0+json';\nvar CLASS_NAME = 'output';\n\n/**\n * Render data to the DOM node\n */\nfunction render(props, node) {\n  var div = document.createElement(\"div\");\n  var script = document.createElement(\"script\");\n  node.appendChild(div);\n  node.appendChild(script);\n}\n\n/**\n * Handle when a new output is added\n */\nfunction handle_add_output(event, handle) {\n  var output_area = handle.output_area;\n  var output = handle.output;\n  if ((output.data == undefined) || (!output.data.hasOwnProperty(EXEC_MIME_TYPE))) {\n    return\n  }\n  var id = output.metadata[EXEC_MIME_TYPE][\"id\"];\n  var toinsert = output_area.element.find(\".\" + CLASS_NAME.split(' ')[0]);\n  if (id !== undefined) {\n    var nchildren = toinsert.length;\n    var html_node = toinsert[nchildren-1].children[0];\n    html_node.innerHTML = output.data[HTML_MIME_TYPE];\n    var scripts = [];\n    var nodelist = html_node.querySelectorAll(\"script\");\n    for (var i in nodelist) {\n      if (nodelist.hasOwnProperty(i)) {\n        scripts.push(nodelist[i])\n      }\n    }\n\n    scripts.forEach( function (oldScript) {\n      var newScript = document.createElement(\"script\");\n      var attrs = [];\n      var nodemap = oldScript.attributes;\n      for (var j in nodemap) {\n        if (nodemap.hasOwnProperty(j)) {\n          attrs.push(nodemap[j])\n        }\n      }\n      attrs.forEach(function(attr) { newScript.setAttribute(attr.name, attr.value) });\n      newScript.appendChild(document.createTextNode(oldScript.innerHTML));\n      oldScript.parentNode.replaceChild(newScript, oldScript);\n    });\n    if (JS_MIME_TYPE in output.data) {\n      toinsert[nchildren-1].children[1].textContent = output.data[JS_MIME_TYPE];\n    }\n    output_area._hv_plot_id = id;\n    if ((window.Bokeh !== undefined) && (id in Bokeh.index)) {\n      window.PyViz.plot_index[id] = Bokeh.index[id];\n    } else {\n      window.PyViz.plot_index[id] = null;\n    }\n  } else if (output.metadata[EXEC_MIME_TYPE][\"server_id\"] !== undefined) {\n    var bk_div = document.createElement(\"div\");\n    bk_div.innerHTML = output.data[HTML_MIME_TYPE];\n    var script_attrs = bk_div.children[0].attributes;\n    for (var i = 0; i < script_attrs.length; i++) {\n      toinsert[toinsert.length - 1].childNodes[1].setAttribute(script_attrs[i].name, script_attrs[i].value);\n    }\n    // store reference to server id on output_area\n    output_area._bokeh_server_id = output.metadata[EXEC_MIME_TYPE][\"server_id\"];\n  }\n}\n\n/**\n * Handle when an output is cleared or removed\n */\nfunction handle_clear_output(event, handle) {\n  var id = handle.cell.output_area._hv_plot_id;\n  var server_id = handle.cell.output_area._bokeh_server_id;\n  if (((id === undefined) || !(id in PyViz.plot_index)) && (server_id !== undefined)) { return; }\n  var comm = window.PyViz.comm_manager.get_client_comm(\"hv-extension-comm\", \"hv-extension-comm\", function () {});\n  if (server_id !== null) {\n    comm.send({event_type: 'server_delete', 'id': server_id});\n    return;\n  } else if (comm !== null) {\n    comm.send({event_type: 'delete', 'id': id});\n  }\n  delete PyViz.plot_index[id];\n  if ((window.Bokeh !== undefined) & (id in window.Bokeh.index)) {\n    var doc = window.Bokeh.index[id].model.document\n    doc.clear();\n    const i = window.Bokeh.documents.indexOf(doc);\n    if (i > -1) {\n      window.Bokeh.documents.splice(i, 1);\n    }\n  }\n}\n\n/**\n * Handle kernel restart event\n */\nfunction handle_kernel_cleanup(event, handle) {\n  delete PyViz.comms[\"hv-extension-comm\"];\n  window.PyViz.plot_index = {}\n}\n\n/**\n * Handle update_display_data messages\n */\nfunction handle_update_output(event, handle) {\n  handle_clear_output(event, {cell: {output_area: handle.output_area}})\n  handle_add_output(event, handle)\n}\n\nfunction register_renderer(events, OutputArea) {\n  function append_mime(data, metadata, element) {\n    // create a DOM node to render to\n    var toinsert = this.create_output_subarea(\n    metadata,\n    CLASS_NAME,\n    EXEC_MIME_TYPE\n    );\n    this.keyboard_manager.register_events(toinsert);\n    // Render to node\n    var props = {data: data, metadata: metadata[EXEC_MIME_TYPE]};\n    render(props, toinsert[0]);\n    element.append(toinsert);\n    return toinsert\n  }\n\n  events.on('output_added.OutputArea', handle_add_output);\n  events.on('output_updated.OutputArea', handle_update_output);\n  events.on('clear_output.CodeCell', handle_clear_output);\n  events.on('delete.Cell', handle_clear_output);\n  events.on('kernel_ready.Kernel', handle_kernel_cleanup);\n\n  OutputArea.prototype.register_mime_type(EXEC_MIME_TYPE, append_mime, {\n    safe: true,\n    index: 0\n  });\n}\n\nif (window.Jupyter !== undefined) {\n  try {\n    var events = require('base/js/events');\n    var OutputArea = require('notebook/js/outputarea').OutputArea;\n    if (OutputArea.prototype.mime_types().indexOf(EXEC_MIME_TYPE) == -1) {\n      register_renderer(events, OutputArea);\n    }\n  } catch(err) {\n  }\n}\n",
      "application/vnd.holoviews_load.v0+json": ""
     },
     "metadata": {},
     "output_type": "display_data"
    },
    {
     "data": {
      "application/vnd.holoviews_exec.v0+json": "",
      "text/html": [
       "<div id='57e8c689-5e6a-4d20-a132-bf42ddc97bd4'>\n",
       "  <div id=\"d3abb3e2-9e38-4661-b60a-ed11aad950eb\" data-root-id=\"57e8c689-5e6a-4d20-a132-bf42ddc97bd4\" style=\"display: contents;\"></div>\n",
       "</div>\n",
       "<script type=\"application/javascript\">(function(root) {\n",
       "  var docs_json = {\"f49f4e95-7828-42aa-954b-56181134f837\":{\"version\":\"3.7.3\",\"title\":\"Bokeh Application\",\"roots\":[{\"type\":\"object\",\"name\":\"panel.models.browser.BrowserInfo\",\"id\":\"57e8c689-5e6a-4d20-a132-bf42ddc97bd4\"},{\"type\":\"object\",\"name\":\"panel.models.comm_manager.CommManager\",\"id\":\"a9f80ba0-63b2-4960-9840-5d09b70e4754\",\"attributes\":{\"plot_id\":\"57e8c689-5e6a-4d20-a132-bf42ddc97bd4\",\"comm_id\":\"8fbe9a341c2c4d47b156311b1963d19b\",\"client_comm_id\":\"941aaaf0367648e8adcffc23bfb067c9\"}}],\"defs\":[{\"type\":\"model\",\"name\":\"ReactiveHTML1\"},{\"type\":\"model\",\"name\":\"FlexBox1\",\"properties\":[{\"name\":\"align_content\",\"kind\":\"Any\",\"default\":\"flex-start\"},{\"name\":\"align_items\",\"kind\":\"Any\",\"default\":\"flex-start\"},{\"name\":\"flex_direction\",\"kind\":\"Any\",\"default\":\"row\"},{\"name\":\"flex_wrap\",\"kind\":\"Any\",\"default\":\"wrap\"},{\"name\":\"gap\",\"kind\":\"Any\",\"default\":\"\"},{\"name\":\"justify_content\",\"kind\":\"Any\",\"default\":\"flex-start\"}]},{\"type\":\"model\",\"name\":\"FloatPanel1\",\"properties\":[{\"name\":\"config\",\"kind\":\"Any\",\"default\":{\"type\":\"map\"}},{\"name\":\"contained\",\"kind\":\"Any\",\"default\":true},{\"name\":\"position\",\"kind\":\"Any\",\"default\":\"right-top\"},{\"name\":\"offsetx\",\"kind\":\"Any\",\"default\":null},{\"name\":\"offsety\",\"kind\":\"Any\",\"default\":null},{\"name\":\"theme\",\"kind\":\"Any\",\"default\":\"primary\"},{\"name\":\"status\",\"kind\":\"Any\",\"default\":\"normalized\"}]},{\"type\":\"model\",\"name\":\"GridStack1\",\"properties\":[{\"name\":\"ncols\",\"kind\":\"Any\",\"default\":null},{\"name\":\"nrows\",\"kind\":\"Any\",\"default\":null},{\"name\":\"allow_resize\",\"kind\":\"Any\",\"default\":true},{\"name\":\"allow_drag\",\"kind\":\"Any\",\"default\":true},{\"name\":\"state\",\"kind\":\"Any\",\"default\":[]}]},{\"type\":\"model\",\"name\":\"drag1\",\"properties\":[{\"name\":\"slider_width\",\"kind\":\"Any\",\"default\":5},{\"name\":\"slider_color\",\"kind\":\"Any\",\"default\":\"black\"},{\"name\":\"value\",\"kind\":\"Any\",\"default\":50}]},{\"type\":\"model\",\"name\":\"click1\",\"properties\":[{\"name\":\"terminal_output\",\"kind\":\"Any\",\"default\":\"\"},{\"name\":\"debug_name\",\"kind\":\"Any\",\"default\":\"\"},{\"name\":\"clears\",\"kind\":\"Any\",\"default\":0}]},{\"type\":\"model\",\"name\":\"ReactiveESM1\",\"properties\":[{\"name\":\"esm_constants\",\"kind\":\"Any\",\"default\":{\"type\":\"map\"}}]},{\"type\":\"model\",\"name\":\"JSComponent1\",\"properties\":[{\"name\":\"esm_constants\",\"kind\":\"Any\",\"default\":{\"type\":\"map\"}}]},{\"type\":\"model\",\"name\":\"ReactComponent1\",\"properties\":[{\"name\":\"use_shadow_dom\",\"kind\":\"Any\",\"default\":true},{\"name\":\"esm_constants\",\"kind\":\"Any\",\"default\":{\"type\":\"map\"}}]},{\"type\":\"model\",\"name\":\"AnyWidgetComponent1\",\"properties\":[{\"name\":\"use_shadow_dom\",\"kind\":\"Any\",\"default\":true},{\"name\":\"esm_constants\",\"kind\":\"Any\",\"default\":{\"type\":\"map\"}}]},{\"type\":\"model\",\"name\":\"FastWrapper1\",\"properties\":[{\"name\":\"object\",\"kind\":\"Any\",\"default\":null},{\"name\":\"style\",\"kind\":\"Any\",\"default\":null}]},{\"type\":\"model\",\"name\":\"NotificationArea1\",\"properties\":[{\"name\":\"js_events\",\"kind\":\"Any\",\"default\":{\"type\":\"map\"}},{\"name\":\"max_notifications\",\"kind\":\"Any\",\"default\":5},{\"name\":\"notifications\",\"kind\":\"Any\",\"default\":[]},{\"name\":\"position\",\"kind\":\"Any\",\"default\":\"bottom-right\"},{\"name\":\"_clear\",\"kind\":\"Any\",\"default\":0},{\"name\":\"types\",\"kind\":\"Any\",\"default\":[{\"type\":\"map\",\"entries\":[[\"type\",\"warning\"],[\"background\",\"#ffc107\"],[\"icon\",{\"type\":\"map\",\"entries\":[[\"className\",\"fas fa-exclamation-triangle\"],[\"tagName\",\"i\"],[\"color\",\"white\"]]}]]},{\"type\":\"map\",\"entries\":[[\"type\",\"info\"],[\"background\",\"#007bff\"],[\"icon\",{\"type\":\"map\",\"entries\":[[\"className\",\"fas fa-info-circle\"],[\"tagName\",\"i\"],[\"color\",\"white\"]]}]]}]}]},{\"type\":\"model\",\"name\":\"Notification\",\"properties\":[{\"name\":\"background\",\"kind\":\"Any\",\"default\":null},{\"name\":\"duration\",\"kind\":\"Any\",\"default\":3000},{\"name\":\"icon\",\"kind\":\"Any\",\"default\":null},{\"name\":\"message\",\"kind\":\"Any\",\"default\":\"\"},{\"name\":\"notification_type\",\"kind\":\"Any\",\"default\":null},{\"name\":\"_rendered\",\"kind\":\"Any\",\"default\":false},{\"name\":\"_destroyed\",\"kind\":\"Any\",\"default\":false}]},{\"type\":\"model\",\"name\":\"TemplateActions1\",\"properties\":[{\"name\":\"open_modal\",\"kind\":\"Any\",\"default\":0},{\"name\":\"close_modal\",\"kind\":\"Any\",\"default\":0}]},{\"type\":\"model\",\"name\":\"BootstrapTemplateActions1\",\"properties\":[{\"name\":\"open_modal\",\"kind\":\"Any\",\"default\":0},{\"name\":\"close_modal\",\"kind\":\"Any\",\"default\":0}]},{\"type\":\"model\",\"name\":\"TemplateEditor1\",\"properties\":[{\"name\":\"layout\",\"kind\":\"Any\",\"default\":[]}]},{\"type\":\"model\",\"name\":\"MaterialTemplateActions1\",\"properties\":[{\"name\":\"open_modal\",\"kind\":\"Any\",\"default\":0},{\"name\":\"close_modal\",\"kind\":\"Any\",\"default\":0}]},{\"type\":\"model\",\"name\":\"request_value1\",\"properties\":[{\"name\":\"fill\",\"kind\":\"Any\",\"default\":\"none\"},{\"name\":\"_synced\",\"kind\":\"Any\",\"default\":null},{\"name\":\"_request_sync\",\"kind\":\"Any\",\"default\":0}]},{\"type\":\"model\",\"name\":\"holoviews.plotting.bokeh.raster.HoverModel\",\"properties\":[{\"name\":\"xy\",\"kind\":\"Any\",\"default\":null},{\"name\":\"data\",\"kind\":\"Any\",\"default\":null}]}]}};\n",
       "  var render_items = [{\"docid\":\"f49f4e95-7828-42aa-954b-56181134f837\",\"roots\":{\"57e8c689-5e6a-4d20-a132-bf42ddc97bd4\":\"d3abb3e2-9e38-4661-b60a-ed11aad950eb\"},\"root_ids\":[\"57e8c689-5e6a-4d20-a132-bf42ddc97bd4\"]}];\n",
       "  var docs = Object.values(docs_json)\n",
       "  if (!docs) {\n",
       "    return\n",
       "  }\n",
       "  const py_version = docs[0].version.replace('rc', '-rc.').replace('.dev', '-dev.')\n",
       "  async function embed_document(root) {\n",
       "    var Bokeh = get_bokeh(root)\n",
       "    await Bokeh.embed.embed_items_notebook(docs_json, render_items);\n",
       "    for (const render_item of render_items) {\n",
       "      for (const root_id of render_item.root_ids) {\n",
       "\tconst id_el = document.getElementById(root_id)\n",
       "\tif (id_el.children.length && id_el.children[0].hasAttribute('data-root-id')) {\n",
       "\t  const root_el = id_el.children[0]\n",
       "\t  root_el.id = root_el.id + '-rendered'\n",
       "\t  for (const child of root_el.children) {\n",
       "            // Ensure JupyterLab does not capture keyboard shortcuts\n",
       "            // see: https://jupyterlab.readthedocs.io/en/4.1.x/extension/notebook.html#keyboard-interaction-model\n",
       "\t    child.setAttribute('data-lm-suppress-shortcuts', 'true')\n",
       "\t  }\n",
       "\t}\n",
       "      }\n",
       "    }\n",
       "  }\n",
       "  function get_bokeh(root) {\n",
       "    if (root.Bokeh === undefined) {\n",
       "      return null\n",
       "    } else if (root.Bokeh.version !== py_version) {\n",
       "      if (root.Bokeh.versions === undefined || !root.Bokeh.versions.has(py_version)) {\n",
       "\treturn null\n",
       "      }\n",
       "      return root.Bokeh.versions.get(py_version);\n",
       "    } else if (root.Bokeh.version === py_version) {\n",
       "      return root.Bokeh\n",
       "    }\n",
       "    return null\n",
       "  }\n",
       "  function is_loaded(root) {\n",
       "    var Bokeh = get_bokeh(root)\n",
       "    return (Bokeh != null && Bokeh.Panel !== undefined)\n",
       "  }\n",
       "  if (is_loaded(root)) {\n",
       "    embed_document(root);\n",
       "  } else {\n",
       "    var attempts = 0;\n",
       "    var timer = setInterval(function(root) {\n",
       "      if (is_loaded(root)) {\n",
       "        clearInterval(timer);\n",
       "        embed_document(root);\n",
       "      } else if (document.readyState == \"complete\") {\n",
       "        attempts++;\n",
       "        if (attempts > 200) {\n",
       "          clearInterval(timer);\n",
       "\t  var Bokeh = get_bokeh(root)\n",
       "\t  if (Bokeh == null || Bokeh.Panel == null) {\n",
       "            console.warn(\"Panel: ERROR: Unable to run Panel code because Bokeh or Panel library is missing\");\n",
       "\t  } else {\n",
       "\t    console.warn(\"Panel: WARNING: Attempting to render but not all required libraries could be resolved.\")\n",
       "\t    embed_document(root)\n",
       "\t  }\n",
       "        }\n",
       "      }\n",
       "    }, 25, root)\n",
       "  }\n",
       "})(window);</script>"
      ]
     },
     "metadata": {
      "application/vnd.holoviews_exec.v0+json": {
       "id": "57e8c689-5e6a-4d20-a132-bf42ddc97bd4"
      }
     },
     "output_type": "display_data"
    },
    {
     "data": {},
     "metadata": {},
     "output_type": "display_data"
    },
    {
     "data": {
      "application/vnd.holoviews_exec.v0+json": "",
      "text/html": [
       "<div id='83fa5db9-4104-44a6-8767-2cd610c6b5dc'>\n",
       "  <div id=\"ebda3bab-344b-42be-8b28-7626d38a0a09\" data-root-id=\"83fa5db9-4104-44a6-8767-2cd610c6b5dc\" style=\"display: contents;\"></div>\n",
       "</div>\n",
       "<script type=\"application/javascript\">(function(root) {\n",
       "  var docs_json = {\"0c8211e2-d5fe-443f-a156-717deb33420f\":{\"version\":\"3.7.3\",\"title\":\"Bokeh Application\",\"roots\":[{\"type\":\"object\",\"name\":\"Row\",\"id\":\"83fa5db9-4104-44a6-8767-2cd610c6b5dc\",\"attributes\":{\"name\":\"Row00416\",\"tags\":[\"embedded\"],\"stylesheets\":[\"\\n:host(.pn-loading):before, .pn-loading:before {\\n  background-color: #c3c3c3;\\n  mask-size: auto calc(min(50%, 400px));\\n  -webkit-mask-size: auto calc(min(50%, 400px));\\n}\",{\"type\":\"object\",\"name\":\"ImportedStyleSheet\",\"id\":\"c6eaf374-f754-475b-8cff-c7606a7f2486\",\"attributes\":{\"url\":\"https://cdn.holoviz.org/panel/1.7.5/dist/css/loading.css\"}},{\"type\":\"object\",\"name\":\"ImportedStyleSheet\",\"id\":\"84f01e67-5b45-4336-a142-d1037b2d97e3\",\"attributes\":{\"url\":\"https://cdn.holoviz.org/panel/1.7.5/dist/css/listpanel.css\"}},{\"type\":\"object\",\"name\":\"ImportedStyleSheet\",\"id\":\"6da79fbf-dfd3-4e72-9906-1445534e56e2\",\"attributes\":{\"url\":\"https://cdn.holoviz.org/panel/1.7.5/dist/bundled/theme/default.css\"}},{\"type\":\"object\",\"name\":\"ImportedStyleSheet\",\"id\":\"d7d8448e-3fc0-4edc-a7ad-003e5881c832\",\"attributes\":{\"url\":\"https://cdn.holoviz.org/panel/1.7.5/dist/bundled/theme/native.css\"}}],\"min_width\":0,\"margin\":0,\"sizing_mode\":\"stretch_width\",\"align\":\"start\",\"children\":[{\"type\":\"object\",\"name\":\"Spacer\",\"id\":\"b4a0ce8b-39b9-4705-b286-7a8fd8534371\",\"attributes\":{\"name\":\"HSpacer00420\",\"stylesheets\":[\"\\n:host(.pn-loading):before, .pn-loading:before {\\n  background-color: #c3c3c3;\\n  mask-size: auto calc(min(50%, 400px));\\n  -webkit-mask-size: auto calc(min(50%, 400px));\\n}\",{\"id\":\"c6eaf374-f754-475b-8cff-c7606a7f2486\"},{\"id\":\"6da79fbf-dfd3-4e72-9906-1445534e56e2\"},{\"id\":\"d7d8448e-3fc0-4edc-a7ad-003e5881c832\"}],\"min_width\":0,\"margin\":0,\"sizing_mode\":\"stretch_width\",\"align\":\"start\"}},{\"type\":\"object\",\"name\":\"Figure\",\"id\":\"c8378263-6816-4809-9a43-cd94bd804fd8\",\"attributes\":{\"width\":null,\"height\":null,\"margin\":[5,10],\"sizing_mode\":\"fixed\",\"align\":\"start\",\"x_range\":{\"type\":\"object\",\"name\":\"Range1d\",\"id\":\"f0f16b2c-d66b-4c15-9fd4-fb3ea3d71510\",\"attributes\":{\"name\":\"Longitude\",\"tags\":[[[\"Longitude\",null]],[]],\"start\":3856302.4401729144,\"end\":3856342.3544560038,\"reset_start\":3856302.4401729144,\"reset_end\":3856342.3544560038,\"min_interval\":5}},\"y_range\":{\"type\":\"object\",\"name\":\"Range1d\",\"id\":\"1fc75858-f661-4755-a4e6-a4078f4773b0\",\"attributes\":{\"name\":\"Latitude\",\"tags\":[[[\"Latitude\",null]],{\"type\":\"map\",\"entries\":[[\"invert_yaxis\",false],[\"autorange\",false]]}],\"start\":3740812.9682616503,\"end\":3740841.478463857,\"reset_start\":3740812.9682616503,\"reset_end\":3740841.478463857,\"min_interval\":5}},\"x_scale\":{\"type\":\"object\",\"name\":\"LinearScale\",\"id\":\"9a683c65-9a51-4584-85f2-dcc43939a677\"},\"y_scale\":{\"type\":\"object\",\"name\":\"LinearScale\",\"id\":\"d6611738-827a-4839-b9ff-6850aaaffe8a\"},\"title\":{\"type\":\"object\",\"name\":\"Title\",\"id\":\"651d9a69-1a5d-4bb4-a2e2-b2aab84a7853\",\"attributes\":{\"text\":\"Ship DEBBIE\",\"text_color\":\"black\",\"text_font_size\":\"12pt\"}},\"renderers\":[{\"type\":\"object\",\"name\":\"TileRenderer\",\"id\":\"584fa171-5262-49c0-8179-f84b4b737a92\",\"attributes\":{\"level\":\"underlay\",\"tile_source\":{\"type\":\"object\",\"name\":\"WMTSTileSource\",\"id\":\"c50b32ac-650d-4f59-a545-ea7799a630d0\",\"attributes\":{\"url\":\"https://c.tile.openstreetmap.org/{Z}/{X}/{Y}.png\",\"attribution\":\"&copy; <a href=\\\"https://www.openstreetmap.org/copyright\\\">OpenStreetMap</a> contributors\"}}}},{\"type\":\"object\",\"name\":\"GlyphRenderer\",\"id\":\"022de8a4-af29-45cc-b97e-03bf1a714646\",\"attributes\":{\"data_source\":{\"type\":\"object\",\"name\":\"ColumnDataSource\",\"id\":\"2ed011e2-5262-495d-944a-d073a8462580\",\"attributes\":{\"selected\":{\"type\":\"object\",\"name\":\"Selection\",\"id\":\"5c173e92-0e1a-4aa7-a428-4a967ef9439e\",\"attributes\":{\"indices\":[],\"line_indices\":[]}},\"selection_policy\":{\"type\":\"object\",\"name\":\"UnionRenderers\",\"id\":\"d9b34fb5-4e3f-45cb-9a16-6f2b6993ee46\"},\"data\":{\"type\":\"map\",\"entries\":[[\"xs\",[{\"type\":\"ndarray\",\"array\":{\"type\":\"bytes\",\"data\":\"LTszxOJrTUEI0XEL42tNQQjRcQvja01BoK2EVd9rTUEKHjVl4mtNQeAZ7fjja01B4Bnt+ONrTUFUP3sw4WtNQVQ/ezDha01BCNFxC+NrTUEI0XEL42tNQRPTEo3ca01BVD97MOFrTUGa3/A642tNQSyI9h3ia01BLIj2HeJrTUEsiPYd4mtNQQjRcQvja01BCNFxC+NrTUG+SbLz4mtNQXZ1L4Lja01BdnUvguNrTUHvG4563WtNQe8bjnrda01B5bNzrOJrTUG8Ymjm5GtNQUwkJLzla01B\"},\"shape\":[27],\"dtype\":\"float64\",\"order\":\"little\"}]],[\"ys\",[{\"type\":\"ndarray\",\"array\":{\"type\":\"bytes\",\"data\":\"IftYrkmKTEFMj0abR4pMQUyPRptHikxBmqOWFlKKTEFFkxP/UIpMQfSBwndPikxB9IHCd0+KTEExg8mySIpMQTGDybJIikxBAoDbP0+KTEECgNs/T4pMQUV4WChOikxBCMDnnVOKTEEyfvQHT4pMQddz1RBNikxB13PVEE2KTEHXc9UQTYpMQQ+LXldQikxBD4teV1CKTEH2eiaYTopMQc8RIONQikxBzxEg41CKTEEPi15XUIpMQQ+LXldQikxBq/JFFUyKTEExg8mySIpMQSbz+rxMikxB\"},\"shape\":[27],\"dtype\":\"float64\",\"order\":\"little\"}]]]}}},\"view\":{\"type\":\"object\",\"name\":\"CDSView\",\"id\":\"c8f6968c-32b0-4069-9862-97ad82785d49\",\"attributes\":{\"filter\":{\"type\":\"object\",\"name\":\"AllIndices\",\"id\":\"fabec8ba-f280-4865-8455-ed7cc9dc6b66\"}}},\"glyph\":{\"type\":\"object\",\"name\":\"MultiLine\",\"id\":\"1b2ab6cc-7ea5-4594-ad35-a6fe2be3a699\",\"attributes\":{\"tags\":[\"apply_ranges\"],\"xs\":{\"type\":\"field\",\"field\":\"xs\"},\"ys\":{\"type\":\"field\",\"field\":\"ys\"},\"line_color\":{\"type\":\"value\",\"value\":\"#1f77b4\"},\"line_width\":{\"type\":\"value\",\"value\":5.0}}},\"selection_glyph\":{\"type\":\"object\",\"name\":\"MultiLine\",\"id\":\"9df3ff95-7af0-43ec-a51e-a65ef3a39099\",\"attributes\":{\"tags\":[\"apply_ranges\"],\"xs\":{\"type\":\"field\",\"field\":\"xs\"},\"ys\":{\"type\":\"field\",\"field\":\"ys\"},\"line_color\":{\"type\":\"value\",\"value\":\"#1f77b4\"},\"line_alpha\":{\"type\":\"value\",\"value\":1.0},\"line_width\":{\"type\":\"value\",\"value\":5.0},\"line_join\":{\"type\":\"value\",\"value\":\"bevel\"},\"line_cap\":{\"type\":\"value\",\"value\":\"butt\"},\"line_dash\":{\"type\":\"value\",\"value\":[]},\"line_dash_offset\":{\"type\":\"value\",\"value\":0}}},\"nonselection_glyph\":{\"type\":\"object\",\"name\":\"MultiLine\",\"id\":\"b1e2523d-418f-4969-a5e2-d1850a8302ea\",\"attributes\":{\"tags\":[\"apply_ranges\"],\"xs\":{\"type\":\"field\",\"field\":\"xs\"},\"ys\":{\"type\":\"field\",\"field\":\"ys\"},\"line_color\":{\"type\":\"value\",\"value\":\"#1f77b4\"},\"line_alpha\":{\"type\":\"value\",\"value\":0.1},\"line_width\":{\"type\":\"value\",\"value\":5.0}}},\"muted_glyph\":{\"type\":\"object\",\"name\":\"MultiLine\",\"id\":\"1c50f18a-8618-4d0a-bda3-3770456d9aeb\",\"attributes\":{\"tags\":[\"apply_ranges\"],\"xs\":{\"type\":\"field\",\"field\":\"xs\"},\"ys\":{\"type\":\"field\",\"field\":\"ys\"},\"line_color\":{\"type\":\"value\",\"value\":\"#1f77b4\"},\"line_alpha\":{\"type\":\"value\",\"value\":0.2},\"line_width\":{\"type\":\"value\",\"value\":5.0}}}}},{\"type\":\"object\",\"name\":\"GlyphRenderer\",\"id\":\"850517e3-61cf-4cea-aa4f-24741f0d0d55\",\"attributes\":{\"data_source\":{\"type\":\"object\",\"name\":\"ColumnDataSource\",\"id\":\"badd5ac4-94f7-49ca-8b1e-5c0a23161ea8\",\"attributes\":{\"selected\":{\"type\":\"object\",\"name\":\"Selection\",\"id\":\"bc381717-b5ec-4766-8e2f-53875abbed1e\",\"attributes\":{\"indices\":[],\"line_indices\":[]}},\"selection_policy\":{\"type\":\"object\",\"name\":\"UnionRenderers\",\"id\":\"a8fc412b-8fc5-4bab-b034-a799682565a3\"},\"data\":{\"type\":\"map\",\"entries\":[[\"Longitude\",{\"type\":\"ndarray\",\"array\":{\"type\":\"bytes\",\"data\":\"TCQkvOVrTUE=\"},\"shape\":[1],\"dtype\":\"float64\",\"order\":\"little\"}],[\"Latitude\",{\"type\":\"ndarray\",\"array\":{\"type\":\"bytes\",\"data\":\"JvP6vEyKTEE=\"},\"shape\":[1],\"dtype\":\"float64\",\"order\":\"little\"}],[\"triangle_angle\",{\"type\":\"ndarray\",\"array\":{\"type\":\"bytes\",\"data\":\"AB4+G35aJ8A=\"},\"shape\":[1],\"dtype\":\"float64\",\"order\":\"little\"}]]}}},\"view\":{\"type\":\"object\",\"name\":\"CDSView\",\"id\":\"89b89281-b905-4580-a61c-24d209dd1c4c\",\"attributes\":{\"filter\":{\"type\":\"object\",\"name\":\"AllIndices\",\"id\":\"c34a8a12-a357-4a94-8737-f4fe9f5e1ed2\"}}},\"glyph\":{\"type\":\"object\",\"name\":\"Scatter\",\"id\":\"e027491d-71aa-412e-b3f0-07d8e1e74571\",\"attributes\":{\"tags\":[\"apply_ranges\"],\"x\":{\"type\":\"field\",\"field\":\"Longitude\"},\"y\":{\"type\":\"field\",\"field\":\"Latitude\"},\"size\":{\"type\":\"value\",\"value\":14.142135623730951},\"angle\":{\"type\":\"value\",\"value\":-0.20379761764021184},\"line_color\":{\"type\":\"value\",\"value\":\"#1f77b4\"},\"fill_color\":{\"type\":\"value\",\"value\":\"#1f77b4\"},\"hatch_color\":{\"type\":\"value\",\"value\":\"#1f77b4\"},\"marker\":{\"type\":\"value\",\"value\":\"triangle\"}}},\"selection_glyph\":{\"type\":\"object\",\"name\":\"Scatter\",\"id\":\"5926973d-f0c4-4ee3-acfd-48e5e119387e\",\"attributes\":{\"tags\":[\"apply_ranges\"],\"x\":{\"type\":\"field\",\"field\":\"Longitude\"},\"y\":{\"type\":\"field\",\"field\":\"Latitude\"},\"size\":{\"type\":\"value\",\"value\":14.142135623730951},\"angle\":{\"type\":\"value\",\"value\":-0.20379761764021184},\"line_color\":{\"type\":\"value\",\"value\":\"#1f77b4\"},\"line_alpha\":{\"type\":\"value\",\"value\":1.0},\"line_width\":{\"type\":\"value\",\"value\":1},\"line_join\":{\"type\":\"value\",\"value\":\"bevel\"},\"line_cap\":{\"type\":\"value\",\"value\":\"butt\"},\"line_dash\":{\"type\":\"value\",\"value\":[]},\"line_dash_offset\":{\"type\":\"value\",\"value\":0},\"fill_color\":{\"type\":\"value\",\"value\":\"#1f77b4\"},\"fill_alpha\":{\"type\":\"value\",\"value\":1.0},\"hatch_color\":{\"type\":\"value\",\"value\":\"#1f77b4\"},\"hatch_alpha\":{\"type\":\"value\",\"value\":1.0},\"hatch_scale\":{\"type\":\"value\",\"value\":12.0},\"hatch_pattern\":{\"type\":\"value\",\"value\":null},\"hatch_weight\":{\"type\":\"value\",\"value\":1.0},\"marker\":{\"type\":\"value\",\"value\":\"triangle\"}}},\"nonselection_glyph\":{\"type\":\"object\",\"name\":\"Scatter\",\"id\":\"17a977de-937a-4ede-a2aa-e361eea13fcd\",\"attributes\":{\"tags\":[\"apply_ranges\"],\"x\":{\"type\":\"field\",\"field\":\"Longitude\"},\"y\":{\"type\":\"field\",\"field\":\"Latitude\"},\"size\":{\"type\":\"value\",\"value\":14.142135623730951},\"angle\":{\"type\":\"value\",\"value\":-0.20379761764021184},\"line_color\":{\"type\":\"value\",\"value\":\"#1f77b4\"},\"line_alpha\":{\"type\":\"value\",\"value\":0.1},\"fill_color\":{\"type\":\"value\",\"value\":\"#1f77b4\"},\"fill_alpha\":{\"type\":\"value\",\"value\":0.1},\"hatch_color\":{\"type\":\"value\",\"value\":\"#1f77b4\"},\"hatch_alpha\":{\"type\":\"value\",\"value\":0.1},\"marker\":{\"type\":\"value\",\"value\":\"triangle\"}}},\"muted_glyph\":{\"type\":\"object\",\"name\":\"Scatter\",\"id\":\"bacede3a-5783-45ac-9d1c-025204ff700c\",\"attributes\":{\"tags\":[\"apply_ranges\"],\"x\":{\"type\":\"field\",\"field\":\"Longitude\"},\"y\":{\"type\":\"field\",\"field\":\"Latitude\"},\"size\":{\"type\":\"value\",\"value\":14.142135623730951},\"angle\":{\"type\":\"value\",\"value\":-0.20379761764021184},\"line_color\":{\"type\":\"value\",\"value\":\"#1f77b4\"},\"line_alpha\":{\"type\":\"value\",\"value\":0.2},\"fill_color\":{\"type\":\"value\",\"value\":\"#1f77b4\"},\"fill_alpha\":{\"type\":\"value\",\"value\":0.2},\"hatch_color\":{\"type\":\"value\",\"value\":\"#1f77b4\"},\"hatch_alpha\":{\"type\":\"value\",\"value\":0.2},\"marker\":{\"type\":\"value\",\"value\":\"triangle\"}}}}}],\"toolbar\":{\"type\":\"object\",\"name\":\"Toolbar\",\"id\":\"19ac7c57-968c-40cf-a734-873a8ec53541\",\"attributes\":{\"tools\":[{\"type\":\"object\",\"name\":\"WheelZoomTool\",\"id\":\"126adddf-4026-4e3c-9549-3dd534b118a7\",\"attributes\":{\"renderers\":\"auto\",\"zoom_on_axis\":false}},{\"type\":\"object\",\"name\":\"BoxZoomTool\",\"id\":\"889a03d5-2cf2-4d52-a371-046f6257d485\",\"attributes\":{\"overlay\":{\"type\":\"object\",\"name\":\"BoxAnnotation\",\"id\":\"ebfcb502-60e3-484c-9773-ff2b3758cd56\",\"attributes\":{\"syncable\":false,\"line_color\":\"black\",\"line_alpha\":1.0,\"line_width\":2,\"line_dash\":[4,4],\"fill_color\":\"lightgrey\",\"fill_alpha\":0.5,\"level\":\"overlay\",\"visible\":false,\"left\":{\"type\":\"number\",\"value\":\"nan\"},\"right\":{\"type\":\"number\",\"value\":\"nan\"},\"top\":{\"type\":\"number\",\"value\":\"nan\"},\"bottom\":{\"type\":\"number\",\"value\":\"nan\"},\"left_units\":\"canvas\",\"right_units\":\"canvas\",\"top_units\":\"canvas\",\"bottom_units\":\"canvas\",\"handles\":{\"type\":\"object\",\"name\":\"BoxInteractionHandles\",\"id\":\"66656f71-bc13-48f8-b22d-fad7d2a7ae27\",\"attributes\":{\"all\":{\"type\":\"object\",\"name\":\"AreaVisuals\",\"id\":\"248b15d5-d5a7-45da-a461-429d8f680d38\",\"attributes\":{\"fill_color\":\"white\",\"hover_fill_color\":\"lightgray\"}}}}}},\"match_aspect\":true}},{\"type\":\"object\",\"name\":\"HoverTool\",\"id\":\"edf7af48-4fbd-4208-9dac-7bef3e4b3c39\",\"attributes\":{\"tags\":[\"hv_created\"],\"renderers\":[{\"id\":\"850517e3-61cf-4cea-aa4f-24741f0d0d55\"}],\"tooltips\":[[\"Longitude\",\"$x{custom}\"],[\"Latitude\",\"$y{custom}\"],[\"triangle_angle\",\"@{triangle_angle}\"]],\"formatters\":{\"type\":\"map\",\"entries\":[[\"$x\",{\"type\":\"object\",\"name\":\"CustomJSHover\",\"id\":\"4b76f56b-c86a-44da-b985-176759e4bbc5\",\"attributes\":{\"code\":\"\\n        const projections = Bokeh.require(\\\"core/util/projections\\\");\\n        const {snap_x, snap_y} = special_vars\\n        const coords = projections.wgs84_mercator.invert(snap_x, snap_y)\\n        return \\\"\\\" + (coords[0]).toFixed(4)\\n    \"}}],[\"$y\",{\"type\":\"object\",\"name\":\"CustomJSHover\",\"id\":\"38f959da-952a-4859-a55d-ee303afbe63e\",\"attributes\":{\"code\":\"\\n        const projections = Bokeh.require(\\\"core/util/projections\\\");\\n        const {snap_x, snap_y} = special_vars\\n        const coords = projections.wgs84_mercator.invert(snap_x, snap_y)\\n        return \\\"\\\" + (coords[1]).toFixed(4)\\n    \"}}]]}}},{\"type\":\"object\",\"name\":\"PanTool\",\"id\":\"0e3ac00f-ede1-4947-ac61-6c75bf717848\"},{\"type\":\"object\",\"name\":\"ResetTool\",\"id\":\"1e26000a-61ad-4141-a701-f9348d4fb174\"}],\"active_scroll\":{\"id\":\"126adddf-4026-4e3c-9549-3dd534b118a7\"}}},\"left\":[{\"type\":\"object\",\"name\":\"LinearAxis\",\"id\":\"8a0411b1-3316-4d09-ae75-675a8b159fae\",\"attributes\":{\"ticker\":{\"type\":\"object\",\"name\":\"MercatorTicker\",\"id\":\"53e65e42-ff56-4e76-9973-36e8f30c390a\",\"attributes\":{\"mantissas\":[1,2,5],\"dimension\":\"lat\"}},\"formatter\":{\"type\":\"object\",\"name\":\"MercatorTickFormatter\",\"id\":\"f0857d1c-5052-4600-8fb1-3d65da795ae6\",\"attributes\":{\"dimension\":\"lat\"}},\"axis_label\":\"Latitude\",\"major_label_policy\":{\"type\":\"object\",\"name\":\"AllLabels\",\"id\":\"d0577c70-b71e-4f6e-8de6-79e2270e8281\"}}}],\"below\":[{\"type\":\"object\",\"name\":\"LinearAxis\",\"id\":\"8beb284c-2949-4b76-af17-d17d21268abc\",\"attributes\":{\"ticker\":{\"type\":\"object\",\"name\":\"MercatorTicker\",\"id\":\"f9f45ab9-5aef-4602-8562-f621e4b09ea0\",\"attributes\":{\"mantissas\":[1,2,5],\"dimension\":\"lon\"}},\"formatter\":{\"type\":\"object\",\"name\":\"MercatorTickFormatter\",\"id\":\"8685c97c-574c-44cd-b7ef-f2393526decf\",\"attributes\":{\"dimension\":\"lon\"}},\"axis_label\":\"Longitude\",\"major_label_policy\":{\"type\":\"object\",\"name\":\"AllLabels\",\"id\":\"418aed96-0c72-4240-b7fa-09aa2171c2d1\"}}}],\"center\":[{\"type\":\"object\",\"name\":\"Grid\",\"id\":\"a08b8a5c-e642-4122-8038-0ab23d3d93ea\",\"attributes\":{\"axis\":{\"id\":\"8beb284c-2949-4b76-af17-d17d21268abc\"},\"grid_line_color\":null}},{\"type\":\"object\",\"name\":\"Grid\",\"id\":\"dcf2d76d-8d0d-4422-93fa-608ad5c1ca5e\",\"attributes\":{\"dimension\":1,\"axis\":{\"id\":\"8a0411b1-3316-4d09-ae75-675a8b159fae\"},\"grid_line_color\":null}}],\"frame_width\":700,\"frame_height\":500,\"min_border_top\":10,\"min_border_bottom\":10,\"min_border_left\":10,\"min_border_right\":10,\"output_backend\":\"webgl\",\"match_aspect\":true}},{\"type\":\"object\",\"name\":\"Spacer\",\"id\":\"f3292c08-15a1-46da-a3fa-8b64f77176fb\",\"attributes\":{\"name\":\"HSpacer00421\",\"stylesheets\":[\"\\n:host(.pn-loading):before, .pn-loading:before {\\n  background-color: #c3c3c3;\\n  mask-size: auto calc(min(50%, 400px));\\n  -webkit-mask-size: auto calc(min(50%, 400px));\\n}\",{\"id\":\"c6eaf374-f754-475b-8cff-c7606a7f2486\"},{\"id\":\"6da79fbf-dfd3-4e72-9906-1445534e56e2\"},{\"id\":\"d7d8448e-3fc0-4edc-a7ad-003e5881c832\"}],\"min_width\":0,\"margin\":0,\"sizing_mode\":\"stretch_width\",\"align\":\"start\"}}]}}],\"defs\":[{\"type\":\"model\",\"name\":\"ReactiveHTML1\"},{\"type\":\"model\",\"name\":\"FlexBox1\",\"properties\":[{\"name\":\"align_content\",\"kind\":\"Any\",\"default\":\"flex-start\"},{\"name\":\"align_items\",\"kind\":\"Any\",\"default\":\"flex-start\"},{\"name\":\"flex_direction\",\"kind\":\"Any\",\"default\":\"row\"},{\"name\":\"flex_wrap\",\"kind\":\"Any\",\"default\":\"wrap\"},{\"name\":\"gap\",\"kind\":\"Any\",\"default\":\"\"},{\"name\":\"justify_content\",\"kind\":\"Any\",\"default\":\"flex-start\"}]},{\"type\":\"model\",\"name\":\"FloatPanel1\",\"properties\":[{\"name\":\"config\",\"kind\":\"Any\",\"default\":{\"type\":\"map\"}},{\"name\":\"contained\",\"kind\":\"Any\",\"default\":true},{\"name\":\"position\",\"kind\":\"Any\",\"default\":\"right-top\"},{\"name\":\"offsetx\",\"kind\":\"Any\",\"default\":null},{\"name\":\"offsety\",\"kind\":\"Any\",\"default\":null},{\"name\":\"theme\",\"kind\":\"Any\",\"default\":\"primary\"},{\"name\":\"status\",\"kind\":\"Any\",\"default\":\"normalized\"}]},{\"type\":\"model\",\"name\":\"GridStack1\",\"properties\":[{\"name\":\"ncols\",\"kind\":\"Any\",\"default\":null},{\"name\":\"nrows\",\"kind\":\"Any\",\"default\":null},{\"name\":\"allow_resize\",\"kind\":\"Any\",\"default\":true},{\"name\":\"allow_drag\",\"kind\":\"Any\",\"default\":true},{\"name\":\"state\",\"kind\":\"Any\",\"default\":[]}]},{\"type\":\"model\",\"name\":\"drag1\",\"properties\":[{\"name\":\"slider_width\",\"kind\":\"Any\",\"default\":5},{\"name\":\"slider_color\",\"kind\":\"Any\",\"default\":\"black\"},{\"name\":\"value\",\"kind\":\"Any\",\"default\":50}]},{\"type\":\"model\",\"name\":\"click1\",\"properties\":[{\"name\":\"terminal_output\",\"kind\":\"Any\",\"default\":\"\"},{\"name\":\"debug_name\",\"kind\":\"Any\",\"default\":\"\"},{\"name\":\"clears\",\"kind\":\"Any\",\"default\":0}]},{\"type\":\"model\",\"name\":\"ReactiveESM1\",\"properties\":[{\"name\":\"esm_constants\",\"kind\":\"Any\",\"default\":{\"type\":\"map\"}}]},{\"type\":\"model\",\"name\":\"JSComponent1\",\"properties\":[{\"name\":\"esm_constants\",\"kind\":\"Any\",\"default\":{\"type\":\"map\"}}]},{\"type\":\"model\",\"name\":\"ReactComponent1\",\"properties\":[{\"name\":\"use_shadow_dom\",\"kind\":\"Any\",\"default\":true},{\"name\":\"esm_constants\",\"kind\":\"Any\",\"default\":{\"type\":\"map\"}}]},{\"type\":\"model\",\"name\":\"AnyWidgetComponent1\",\"properties\":[{\"name\":\"use_shadow_dom\",\"kind\":\"Any\",\"default\":true},{\"name\":\"esm_constants\",\"kind\":\"Any\",\"default\":{\"type\":\"map\"}}]},{\"type\":\"model\",\"name\":\"FastWrapper1\",\"properties\":[{\"name\":\"object\",\"kind\":\"Any\",\"default\":null},{\"name\":\"style\",\"kind\":\"Any\",\"default\":null}]},{\"type\":\"model\",\"name\":\"NotificationArea1\",\"properties\":[{\"name\":\"js_events\",\"kind\":\"Any\",\"default\":{\"type\":\"map\"}},{\"name\":\"max_notifications\",\"kind\":\"Any\",\"default\":5},{\"name\":\"notifications\",\"kind\":\"Any\",\"default\":[]},{\"name\":\"position\",\"kind\":\"Any\",\"default\":\"bottom-right\"},{\"name\":\"_clear\",\"kind\":\"Any\",\"default\":0},{\"name\":\"types\",\"kind\":\"Any\",\"default\":[{\"type\":\"map\",\"entries\":[[\"type\",\"warning\"],[\"background\",\"#ffc107\"],[\"icon\",{\"type\":\"map\",\"entries\":[[\"className\",\"fas fa-exclamation-triangle\"],[\"tagName\",\"i\"],[\"color\",\"white\"]]}]]},{\"type\":\"map\",\"entries\":[[\"type\",\"info\"],[\"background\",\"#007bff\"],[\"icon\",{\"type\":\"map\",\"entries\":[[\"className\",\"fas fa-info-circle\"],[\"tagName\",\"i\"],[\"color\",\"white\"]]}]]}]}]},{\"type\":\"model\",\"name\":\"Notification\",\"properties\":[{\"name\":\"background\",\"kind\":\"Any\",\"default\":null},{\"name\":\"duration\",\"kind\":\"Any\",\"default\":3000},{\"name\":\"icon\",\"kind\":\"Any\",\"default\":null},{\"name\":\"message\",\"kind\":\"Any\",\"default\":\"\"},{\"name\":\"notification_type\",\"kind\":\"Any\",\"default\":null},{\"name\":\"_rendered\",\"kind\":\"Any\",\"default\":false},{\"name\":\"_destroyed\",\"kind\":\"Any\",\"default\":false}]},{\"type\":\"model\",\"name\":\"TemplateActions1\",\"properties\":[{\"name\":\"open_modal\",\"kind\":\"Any\",\"default\":0},{\"name\":\"close_modal\",\"kind\":\"Any\",\"default\":0}]},{\"type\":\"model\",\"name\":\"BootstrapTemplateActions1\",\"properties\":[{\"name\":\"open_modal\",\"kind\":\"Any\",\"default\":0},{\"name\":\"close_modal\",\"kind\":\"Any\",\"default\":0}]},{\"type\":\"model\",\"name\":\"TemplateEditor1\",\"properties\":[{\"name\":\"layout\",\"kind\":\"Any\",\"default\":[]}]},{\"type\":\"model\",\"name\":\"MaterialTemplateActions1\",\"properties\":[{\"name\":\"open_modal\",\"kind\":\"Any\",\"default\":0},{\"name\":\"close_modal\",\"kind\":\"Any\",\"default\":0}]},{\"type\":\"model\",\"name\":\"request_value1\",\"properties\":[{\"name\":\"fill\",\"kind\":\"Any\",\"default\":\"none\"},{\"name\":\"_synced\",\"kind\":\"Any\",\"default\":null},{\"name\":\"_request_sync\",\"kind\":\"Any\",\"default\":0}]},{\"type\":\"model\",\"name\":\"holoviews.plotting.bokeh.raster.HoverModel\",\"properties\":[{\"name\":\"xy\",\"kind\":\"Any\",\"default\":null},{\"name\":\"data\",\"kind\":\"Any\",\"default\":null}]}]}};\n",
       "  var render_items = [{\"docid\":\"0c8211e2-d5fe-443f-a156-717deb33420f\",\"roots\":{\"83fa5db9-4104-44a6-8767-2cd610c6b5dc\":\"ebda3bab-344b-42be-8b28-7626d38a0a09\"},\"root_ids\":[\"83fa5db9-4104-44a6-8767-2cd610c6b5dc\"]}];\n",
       "  var docs = Object.values(docs_json)\n",
       "  if (!docs) {\n",
       "    return\n",
       "  }\n",
       "  const py_version = docs[0].version.replace('rc', '-rc.').replace('.dev', '-dev.')\n",
       "  async function embed_document(root) {\n",
       "    var Bokeh = get_bokeh(root)\n",
       "    await Bokeh.embed.embed_items_notebook(docs_json, render_items);\n",
       "    for (const render_item of render_items) {\n",
       "      for (const root_id of render_item.root_ids) {\n",
       "\tconst id_el = document.getElementById(root_id)\n",
       "\tif (id_el.children.length && id_el.children[0].hasAttribute('data-root-id')) {\n",
       "\t  const root_el = id_el.children[0]\n",
       "\t  root_el.id = root_el.id + '-rendered'\n",
       "\t  for (const child of root_el.children) {\n",
       "            // Ensure JupyterLab does not capture keyboard shortcuts\n",
       "            // see: https://jupyterlab.readthedocs.io/en/4.1.x/extension/notebook.html#keyboard-interaction-model\n",
       "\t    child.setAttribute('data-lm-suppress-shortcuts', 'true')\n",
       "\t  }\n",
       "\t}\n",
       "      }\n",
       "    }\n",
       "  }\n",
       "  function get_bokeh(root) {\n",
       "    if (root.Bokeh === undefined) {\n",
       "      return null\n",
       "    } else if (root.Bokeh.version !== py_version) {\n",
       "      if (root.Bokeh.versions === undefined || !root.Bokeh.versions.has(py_version)) {\n",
       "\treturn null\n",
       "      }\n",
       "      return root.Bokeh.versions.get(py_version);\n",
       "    } else if (root.Bokeh.version === py_version) {\n",
       "      return root.Bokeh\n",
       "    }\n",
       "    return null\n",
       "  }\n",
       "  function is_loaded(root) {\n",
       "    var Bokeh = get_bokeh(root)\n",
       "    return (Bokeh != null && Bokeh.Panel !== undefined)\n",
       "  }\n",
       "  if (is_loaded(root)) {\n",
       "    embed_document(root);\n",
       "  } else {\n",
       "    var attempts = 0;\n",
       "    var timer = setInterval(function(root) {\n",
       "      if (is_loaded(root)) {\n",
       "        clearInterval(timer);\n",
       "        embed_document(root);\n",
       "      } else if (document.readyState == \"complete\") {\n",
       "        attempts++;\n",
       "        if (attempts > 200) {\n",
       "          clearInterval(timer);\n",
       "\t  var Bokeh = get_bokeh(root)\n",
       "\t  if (Bokeh == null || Bokeh.Panel == null) {\n",
       "            console.warn(\"Panel: ERROR: Unable to run Panel code because Bokeh or Panel library is missing\");\n",
       "\t  } else {\n",
       "\t    console.warn(\"Panel: WARNING: Attempting to render but not all required libraries could be resolved.\")\n",
       "\t    embed_document(root)\n",
       "\t  }\n",
       "        }\n",
       "      }\n",
       "    }, 25, root)\n",
       "  }\n",
       "})(window);</script>"
      ],
      "text/plain": [
       ":Overlay\n",
       "   .WMTS.I   :WMTS   [Longitude,Latitude]\n",
       "   .Path.I   :Path   [Longitude,Latitude]\n",
       "   .Points.I :Points   [Longitude,Latitude]   (triangle_angle)"
      ]
     },
     "execution_count": 45,
     "metadata": {
      "application/vnd.holoviews_exec.v0+json": {
       "id": "83fa5db9-4104-44a6-8767-2cd610c6b5dc"
      }
     },
     "output_type": "execute_result"
    }
   ],
   "source": [
    "my_traj.hvplot(title='Ship DEBBIE', frame_width=700, frame_height=500, line_width=5.0, cmap='Dark2') "
   ]
  }
 ],
 "metadata": {
  "kernelspec": {
   "display_name": ".venv",
   "language": "python",
   "name": "python3"
  },
  "language_info": {
   "codemirror_mode": {
    "name": "ipython",
    "version": 3
   },
   "file_extension": ".py",
   "mimetype": "text/x-python",
   "name": "python",
   "nbconvert_exporter": "python",
   "pygments_lexer": "ipython3",
   "version": "3.12.3"
  }
 },
 "nbformat": 4,
 "nbformat_minor": 4
}
