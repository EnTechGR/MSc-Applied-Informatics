{
  "cells": [
    {
      "cell_type": "markdown",
      "metadata": {
        "id": "rM6rNFlnMi4H"
      },
      "source": [
        "# Κατηγοριοποίηση εικόνων με Νευρωνικά Δίκτυα\n",
        "### Χρήστος Δίου & Αριστοτέλης Μπάλλας\n",
        "\n",
        "Στο notebook αυτό καλείστε να ορίσετε απλά μοντέλα νευρωνικών δικτύων για την κατηγοριοποίηση εικόνων στο σύνολο δεδομένων CIFAR-10. Θα πρέπει να συμπληρώσετε τα κελιά που ανιτστοιχούν στο ορισμό, εκπαίδευση και αξιολόγησης των μοντέλων που αναφέρονται στην εκφώνηση της εργασίας σας."
      ]
    },
    {
      "cell_type": "code",
      "execution_count": 1,
      "metadata": {
        "id": "CET78TksO5IB"
      },
      "outputs": [],
      "source": [
        "import numpy as np\n",
        "import tensorflow as tf\n",
        "from tensorflow import keras\n",
        "from tensorflow.keras import layers\n",
        "import tensorflow.keras.datasets\n",
        "import matplotlib.pyplot as plt\n",
        "from tensorflow.keras.losses import SparseCategoricalCrossentropy\n",
        "from tensorflow.keras.losses import CategoricalCrossentropy"
      ]
    },
    {
      "cell_type": "markdown",
      "metadata": {
        "id": "bp2xOS67fZM1"
      },
      "source": [
        "## Πειράματα στο CIFAR-10\n",
        "\n",
        "Το CIFAR-10 είναι ένα σύνολο μικρών εικόνων που ανήκουν σε μία από 10 κατηγορίες. Για λεπτομέρειες δείτε το site του dataset:\n",
        "\n",
        "https://www.cs.toronto.edu/~kriz/cifar.html\n",
        "\n",
        "Θα το επεξεργαστούμε με τρόπο παρόμοιο με το MNIST, όπως είδαμε στα σχετικά notebooks του μαθήματος. Η διαφορά εδώ είναι ότι το πρόβλημα είναι αρκετά πιο σύνθετο, μιας και έχουμε φυσικά αντικείμενα αντί για χειρόγραφους χαρακτήρες."
      ]
    },
    {
      "cell_type": "markdown",
      "metadata": {
        "id": "p4oT6TAvMqeN"
      },
      "source": [
        "\"Κατέβασμα\" του dataset, φόρτωση στη μνήμη, αλλαγή τύπου δεδομένων και μετασχηματισμός στο [0, 1]."
      ]
    },
    {
      "cell_type": "code",
      "execution_count": 2,
      "metadata": {
        "id": "Zr1ptzwHOE37",
        "colab": {
          "base_uri": "https://localhost:8080/"
        },
        "outputId": "d8fb6fea-51af-4543-8dd7-575398b2aeca"
      },
      "outputs": [
        {
          "output_type": "stream",
          "name": "stdout",
          "text": [
            "Downloading data from https://www.cs.toronto.edu/~kriz/cifar-10-python.tar.gz\n",
            "170498071/170498071 [==============================] - 19s 0us/step\n"
          ]
        }
      ],
      "source": [
        "((x_train, y_train), (x_test, y_test)) = keras.datasets.cifar10.load_data()\n",
        "x_train = x_train.astype('float32') / 255.0\n",
        "x_test = x_test.astype('float32') / 255.0"
      ]
    },
    {
      "cell_type": "markdown",
      "metadata": {
        "id": "IbcCY6M2N-ty"
      },
      "source": [
        "**Τα** δεδομένα εκπαίδευσης περιλαμβάνουν 50000 έγχρωμες (3 κανάλια) εικόνες των 32x32 pixel."
      ]
    },
    {
      "cell_type": "code",
      "execution_count": 3,
      "metadata": {
        "colab": {
          "base_uri": "https://localhost:8080/"
        },
        "id": "SrtjB59aOgyq",
        "outputId": "6a3c6b66-1106-4ffc-893e-3be902557c4d"
      },
      "outputs": [
        {
          "output_type": "stream",
          "name": "stdout",
          "text": [
            "(50000, 32, 32, 3)\n",
            "(50000, 1)\n"
          ]
        }
      ],
      "source": [
        "print(x_train.shape)\n",
        "print(y_train.shape)\n"
      ]
    },
    {
      "cell_type": "markdown",
      "metadata": {
        "id": "70_ZECByOMqN"
      },
      "source": [
        "Για παράδειγμα, η 2η εικόνα του συνόλου εκπαίδευσης:"
      ]
    },
    {
      "cell_type": "code",
      "execution_count": 4,
      "metadata": {
        "colab": {
          "base_uri": "https://localhost:8080/",
          "height": 154
        },
        "id": "WE1BIwyHOnif",
        "outputId": "7dbd2577-61d7-49c1-dc99-a1c3e1234115"
      },
      "outputs": [
        {
          "output_type": "execute_result",
          "data": {
            "text/plain": [
              "<matplotlib.image.AxesImage at 0x7c1c54687940>"
            ]
          },
          "metadata": {},
          "execution_count": 4
        },
        {
          "output_type": "display_data",
          "data": {
            "text/plain": [
              "<Figure size 100x100 with 1 Axes>"
            ],
            "image/png": "[encoded data removed]"
          },
          "metadata": {}
        }
      ],
      "source": [
        "fig = plt.figure(figsize=(1, 1))\n",
        "ax = fig.add_axes([0, 0, 1, 1])\n",
        "ax.axis('off')\n",
        "plt.imshow(x_train[1], interpolation=\"none\")"
      ]
    },
    {
      "cell_type": "markdown",
      "metadata": {
        "id": "yT3ccS2XOVcS"
      },
      "source": [
        "Τα δεδομένα μας χωρίζονται σε 10 κλάσεις:"
      ]
    },
    {
      "cell_type": "code",
      "execution_count": 5,
      "metadata": {
        "colab": {
          "base_uri": "https://localhost:8080/"
        },
        "id": "9T9xJB4AOUIH",
        "outputId": "cadf7a87-6e35-4e77-da99-314c630dd276"
      },
      "outputs": [
        {
          "output_type": "stream",
          "name": "stdout",
          "text": [
            "[4]\n",
            "[0 1 2 3 4 5 6 7 8 9]\n"
          ]
        }
      ],
      "source": [
        "print(y_train[10])\n",
        "print(np.unique(y_train))"
      ]
    },
    {
      "cell_type": "markdown",
      "metadata": {
        "id": "_ncEB1RAORge"
      },
      "source": [
        "Προσπαθήστε να λύσετε το πρόβλημα της κατηγοριοποίησης εικόνων με ένα πλήρως διασυνδεδεμένο νευρωνικό δίκτυο, με 2 κρυφά layers των 20 νευρώνων το καθένα. Για ένα τέτοιο μοντέλο θα πρέπει να μετασχηματίσουμε την είσοδο και την έξοδο. Η είσοδος θα πρέπει να είναι ένα μεγάλο διάνυσμα (αντί για εικόνα), ενώ η έξοδος ένα one-hot vector των 10 στοιχείων:"
      ]
    },
    {
      "cell_type": "code",
      "execution_count": 6,
      "metadata": {
        "id": "5eusUIcKPMM5"
      },
      "outputs": [],
      "source": [
        "x_train_fc = x_train.reshape((x_train.shape[0], x_train[0].shape[0] * x_train[0].shape[1] * x_train[0].shape[2]))\n",
        "y_train_fc = keras.utils.to_categorical(y_train, num_classes=10)"
      ]
    },
    {
      "cell_type": "markdown",
      "metadata": {
        "id": "ez8AR_kbPVAN"
      },
      "source": [
        "Έπειτα θα πρέπει να οριστεί το μοντέλο μας:"
      ]
    },
    {
      "cell_type": "markdown",
      "metadata": {
        "id": "-u7FhhiCI_IX"
      },
      "source": [
        "## Στα παρακάτω κελιά εκπαιδεύστε ένα πλήρως διασυνδεδεμένο νευρωνικό δίκτυο με:\n",
        "* 2 κρυφά επίπεδα των 20 νευρώνων το καθένα με συνάρτηση ενεργοποίησης ReLU\n",
        "* 1 τελικό πλήρες διασυνδεδεμένο επίπεδο, με κατάλληλη συνάρτηση ενεργοποίησης\n",
        "* SGD optimizer με ρυθμό εκμάθησης 0.001 και κατάλληλο loss function\n",
        "* 20 εποχές εκπαίδευσης με batch size 50 δείγματα\n",
        "\n",
        "Χρησιμοποιήστε την ```model.summary()``` για να βεβαιωθείτε για την αρχιτεκτονική και να δείτε τις παραμέτρους του μοντέλου."
      ]
    },
    {
      "cell_type": "code",
      "execution_count": 7,
      "metadata": {
        "id": "P0gl41ADSUqz"
      },
      "outputs": [],
      "source": [
        "# Case 1: Fully connected model\n",
        "\n",
        "###### DEFINE MODEL HERE ######\n",
        "model = tf.keras.models.Sequential([\n",
        "    tf.keras.layers.Dense(20, activation='relu', input_shape=(x_train_fc.shape[1],)),\n",
        "    tf.keras.layers.Dense(20, activation='relu'),\n",
        "    tf.keras.layers.Dense(10, activation='softmax')\n",
        "])"
      ]
    },
    {
      "cell_type": "markdown",
      "metadata": {
        "id": "nmVa43iEPXj0"
      },
      "source": [
        "**Ερώτηση:** Πως προκύπτει ο αριθμός των παραμέτρων του κάθε επιπέδου;\n",
        "\n"
      ]
    },
    {
      "cell_type": "code",
      "execution_count": 8,
      "metadata": {
        "colab": {
          "base_uri": "https://localhost:8080/"
        },
        "id": "kxud6ap3pXbY",
        "outputId": "da587809-98ca-4a1b-93ff-c24c664bbfc6"
      },
      "outputs": [
        {
          "output_type": "stream",
          "name": "stdout",
          "text": [
            "Model: \"sequential\"\n",
            "_________________________________________________________________\n",
            " Layer (type)                Output Shape              Param #   \n",
            "=================================================================\n",
            " dense (Dense)               (None, 20)                61460     \n",
            "                                                                 \n",
            " dense_1 (Dense)             (None, 20)                420       \n",
            "                                                                 \n",
            " dense_2 (Dense)             (None, 10)                210       \n",
            "                                                                 \n",
            "=================================================================\n",
            "Total params: 62090 (242.54 KB)\n",
            "Trainable params: 62090 (242.54 KB)\n",
            "Non-trainable params: 0 (0.00 Byte)\n",
            "_________________________________________________________________\n",
            "None\n"
          ]
        }
      ],
      "source": [
        "print(model.summary())"
      ]
    },
    {
      "cell_type": "markdown",
      "metadata": {
        "id": "rnG0_aCiKp-X"
      },
      "source": [
        "Ορίζουμε παρακάτω τις παραμέτρους εκπαίδευσης του μοντέλου με την μέθοδο ```compile()``` και το εκπαιδεύουμε με την μέθοδο ```fit()```."
      ]
    },
    {
      "cell_type": "code",
      "execution_count": 9,
      "metadata": {
        "colab": {
          "base_uri": "https://localhost:8080/"
        },
        "id": "jTEB72s2Ub9Q",
        "outputId": "e2253c04-fdb2-43ae-c4d0-2a1c3e7c5219"
      },
      "outputs": [
        {
          "output_type": "stream",
          "name": "stdout",
          "text": [
            "Epoch 1/20\n",
            "1000/1000 [==============================] - 6s 4ms/step - loss: 2.2441 - accuracy: 0.1597\n",
            "Epoch 2/20\n",
            "1000/1000 [==============================] - 3s 3ms/step - loss: 2.1523 - accuracy: 0.2203\n",
            "Epoch 3/20\n",
            "1000/1000 [==============================] - 3s 3ms/step - loss: 2.0596 - accuracy: 0.2508\n",
            "Epoch 4/20\n",
            "1000/1000 [==============================] - 4s 4ms/step - loss: 1.9906 - accuracy: 0.2854\n",
            "Epoch 5/20\n",
            "1000/1000 [==============================] - 3s 3ms/step - loss: 1.9434 - accuracy: 0.3088\n",
            "Epoch 6/20\n",
            "1000/1000 [==============================] - 3s 3ms/step - loss: 1.9099 - accuracy: 0.3245\n",
            "Epoch 7/20\n",
            "1000/1000 [==============================] - 3s 3ms/step - loss: 1.8836 - accuracy: 0.3336\n",
            "Epoch 8/20\n",
            "1000/1000 [==============================] - 4s 4ms/step - loss: 1.8627 - accuracy: 0.3397\n",
            "Epoch 9/20\n",
            "1000/1000 [==============================] - 3s 3ms/step - loss: 1.8449 - accuracy: 0.3471\n",
            "Epoch 10/20\n",
            "1000/1000 [==============================] - 3s 3ms/step - loss: 1.8294 - accuracy: 0.3520\n",
            "Epoch 11/20\n",
            "1000/1000 [==============================] - 3s 3ms/step - loss: 1.8149 - accuracy: 0.3569\n",
            "Epoch 12/20\n",
            "1000/1000 [==============================] - 4s 4ms/step - loss: 1.8022 - accuracy: 0.3622\n",
            "Epoch 13/20\n",
            "1000/1000 [==============================] - 3s 3ms/step - loss: 1.7903 - accuracy: 0.3656\n",
            "Epoch 14/20\n",
            "1000/1000 [==============================] - 3s 3ms/step - loss: 1.7795 - accuracy: 0.3694\n",
            "Epoch 15/20\n",
            "1000/1000 [==============================] - 3s 3ms/step - loss: 1.7696 - accuracy: 0.3741\n",
            "Epoch 16/20\n",
            "1000/1000 [==============================] - 4s 4ms/step - loss: 1.7605 - accuracy: 0.3784\n",
            "Epoch 17/20\n",
            "1000/1000 [==============================] - 3s 3ms/step - loss: 1.7520 - accuracy: 0.3820\n",
            "Epoch 18/20\n",
            "1000/1000 [==============================] - 3s 3ms/step - loss: 1.7447 - accuracy: 0.3843\n",
            "Epoch 19/20\n",
            "1000/1000 [==============================] - 3s 3ms/step - loss: 1.7373 - accuracy: 0.3861\n",
            "Epoch 20/20\n",
            "1000/1000 [==============================] - 4s 4ms/step - loss: 1.7310 - accuracy: 0.3903\n"
          ]
        }
      ],
      "source": [
        "###### COMPILE MODEL HERE ( .compile() )######\n",
        "model.compile(optimizer=tf.keras.optimizers.SGD(learning_rate=0.001),\n",
        "              loss=CategoricalCrossentropy(),\n",
        "              metrics=['accuracy'])\n",
        "\n",
        "###### TRAIN MODEL HERE ( .fit() ) ######\n",
        "history = model.fit(x_train_fc, y_train_fc, epochs=20, batch_size=50)"
      ]
    },
    {
      "cell_type": "markdown",
      "metadata": {
        "id": "p8d_P8R5PryG"
      },
      "source": [
        "# Μετασχηματίζουμε τα δεδομένα δοκιμής"
      ]
    },
    {
      "cell_type": "code",
      "execution_count": 10,
      "metadata": {
        "colab": {
          "base_uri": "https://localhost:8080/"
        },
        "id": "HuZ3ZpmCV4Ei",
        "outputId": "7459775a-7c58-4696-d0f2-14a438c4b847"
      },
      "outputs": [
        {
          "output_type": "stream",
          "name": "stdout",
          "text": [
            "[0. 0. 0. 1. 0. 0. 0. 0. 0. 0.]\n",
            "(3072,)\n"
          ]
        }
      ],
      "source": [
        "x_test_fc = x_test.reshape((x_test.shape[0], x_test[0].shape[0] * x_test[0].shape[1] * x_test[0].shape[2]))\n",
        "y_test_fc = keras.utils.to_categorical(y_test, num_classes=10)\n",
        "print(y_test_fc[0])\n",
        "print(x_test_fc[0].shape)"
      ]
    },
    {
      "cell_type": "markdown",
      "metadata": {
        "id": "8gSG1zMQPwOi"
      },
      "source": [
        "και αξιολογούμε το μοντέλο μας:"
      ]
    },
    {
      "cell_type": "code",
      "execution_count": 11,
      "metadata": {
        "colab": {
          "base_uri": "https://localhost:8080/"
        },
        "id": "DeBGiaCdWj9r",
        "outputId": "1c477f4c-a50b-4fe6-ac76-683942cd5d95"
      },
      "outputs": [
        {
          "output_type": "stream",
          "name": "stdout",
          "text": [
            "313/313 [==============================] - 1s 3ms/step - loss: 1.7298 - accuracy: 0.3865\n",
            "Accuracy:  0.3865000009536743\n"
          ]
        }
      ],
      "source": [
        "###### EVALUATE MODEL HERE ( .evaluate() ) ######\n",
        "loss, accuracy = model.evaluate(x_test_fc, y_test_fc)\n",
        "print(\"Accuracy: \", accuracy)"
      ]
    },
    {
      "cell_type": "markdown",
      "metadata": {
        "id": "yqTwc-8cPykQ"
      },
      "source": [
        "## Στα παρακάτω κελιά εκπαιδεύστε ένα συνελικτικό νευρωνικό δίκτυο με:\n",
        "* 2 συνελικτικά επίπεδα των 16 και 32 φίλτρων με συνάρτηση ενεργοποίησης RelU\n",
        "* 2 ενδιάμεσα επίπεδα συγκέντρωσης\n",
        "* 1 επίπεδο Flatten\n",
        "* 1 τελικό πλήρες διασυνδεδεμένο επίπεδο, με κατάλληλη συνάρτηση ενεργοποίησης\n",
        "* Adam optimizer με ρυθμό εκμάθησης 0.001 και κατάλληλο loss function\n",
        "* 20 εποχές εκπαίδευσης με batch size 50 δείγματα\n",
        "\n",
        "Για τα επίπεδα συγκέντρωσης χρησιμοποιήστε επίπεδα ```MaxPooling2D()```.\n",
        "\n",
        "Χρησιμοποιήστε την ```model.summary()``` για να βεβαιωθείτε για την αρχιτεκτονική και να δείτε τις παραμέτρους του μοντέλου."
      ]
    },
    {
      "cell_type": "code",
      "execution_count": 12,
      "metadata": {
        "id": "8dhxEOGNWq25"
      },
      "outputs": [],
      "source": [
        "# Case 2: Convolutional Neural Network\n",
        "\n",
        "###### DEFINE MODEL HERE ######\n",
        "\n",
        "model_cnn = tf.keras.models.Sequential([\n",
        "    tf.keras.layers.Conv2D(16, (3, 3), activation='relu', input_shape=(32, 32, 3)),\n",
        "    tf.keras.layers.MaxPooling2D((2, 2)),\n",
        "    tf.keras.layers.Conv2D(32, (3, 3), activation='relu'),\n",
        "    tf.keras.layers.MaxPooling2D((2, 2)),\n",
        "    tf.keras.layers.Flatten(),\n",
        "    tf.keras.layers.Dense(10, activation='softmax')\n",
        "])\n"
      ]
    },
    {
      "cell_type": "markdown",
      "metadata": {
        "id": "O1Z_saqWQAtC"
      },
      "source": [
        "**Ερώτηση:** Σ' αυτή την περίπτωση, πως προκύπτει ο αριθμός των παραμέτρων;"
      ]
    },
    {
      "cell_type": "code",
      "execution_count": 13,
      "metadata": {
        "colab": {
          "base_uri": "https://localhost:8080/"
        },
        "id": "FAw4BFWxgpHK",
        "outputId": "19fabe94-59c4-47e1-f4b8-22217f5ae229"
      },
      "outputs": [
        {
          "output_type": "stream",
          "name": "stdout",
          "text": [
            "Model: \"sequential_1\"\n",
            "_________________________________________________________________\n",
            " Layer (type)                Output Shape              Param #   \n",
            "=================================================================\n",
            " conv2d (Conv2D)             (None, 30, 30, 16)        448       \n",
            "                                                                 \n",
            " max_pooling2d (MaxPooling2  (None, 15, 15, 16)        0         \n",
            " D)                                                              \n",
            "                                                                 \n",
            " conv2d_1 (Conv2D)           (None, 13, 13, 32)        4640      \n",
            "                                                                 \n",
            " max_pooling2d_1 (MaxPoolin  (None, 6, 6, 32)          0         \n",
            " g2D)                                                            \n",
            "                                                                 \n",
            " flatten (Flatten)           (None, 1152)              0         \n",
            "                                                                 \n",
            " dense_3 (Dense)             (None, 10)                11530     \n",
            "                                                                 \n",
            "=================================================================\n",
            "Total params: 16618 (64.91 KB)\n",
            "Trainable params: 16618 (64.91 KB)\n",
            "Non-trainable params: 0 (0.00 Byte)\n",
            "_________________________________________________________________\n"
          ]
        }
      ],
      "source": [
        "model_cnn.summary()\n"
      ]
    },
    {
      "cell_type": "markdown",
      "metadata": {
        "id": "7l5st7fGQFvg"
      },
      "source": [
        "Εκπαιδεύουμε το μοντέλο μας. Προσοχή, εδώ η είσοδος στην μέθοδο ```.fit()``` είναι οι εικόνες (x_train) και όχι τα διανύσματα (x_train_fc)."
      ]
    },
    {
      "cell_type": "code",
      "execution_count": 14,
      "metadata": {
        "colab": {
          "base_uri": "https://localhost:8080/"
        },
        "id": "wHsfyP8pY5Vv",
        "outputId": "ef02b022-21f8-4a2d-c3cc-ad4c02469ad1"
      },
      "outputs": [
        {
          "output_type": "stream",
          "name": "stdout",
          "text": [
            "Epoch 1/20\n",
            "1000/1000 [==============================] - 9s 6ms/step - loss: 1.6078 - accuracy: 0.4249 - val_loss: 1.3573 - val_accuracy: 0.5210\n",
            "Epoch 2/20\n",
            "1000/1000 [==============================] - 4s 4ms/step - loss: 1.2981 - accuracy: 0.5434 - val_loss: 1.2291 - val_accuracy: 0.5712\n",
            "Epoch 3/20\n",
            "1000/1000 [==============================] - 4s 4ms/step - loss: 1.1789 - accuracy: 0.5875 - val_loss: 1.1325 - val_accuracy: 0.6069\n",
            "Epoch 4/20\n",
            "1000/1000 [==============================] - 5s 5ms/step - loss: 1.1076 - accuracy: 0.6161 - val_loss: 1.0970 - val_accuracy: 0.6156\n",
            "Epoch 5/20\n",
            "1000/1000 [==============================] - 4s 4ms/step - loss: 1.0569 - accuracy: 0.6338 - val_loss: 1.0766 - val_accuracy: 0.6308\n",
            "Epoch 6/20\n",
            "1000/1000 [==============================] - 4s 4ms/step - loss: 1.0232 - accuracy: 0.6474 - val_loss: 1.0654 - val_accuracy: 0.6309\n",
            "Epoch 7/20\n",
            "1000/1000 [==============================] - 5s 5ms/step - loss: 0.9893 - accuracy: 0.6588 - val_loss: 1.0270 - val_accuracy: 0.6492\n",
            "Epoch 8/20\n",
            "1000/1000 [==============================] - 4s 4ms/step - loss: 0.9662 - accuracy: 0.6680 - val_loss: 1.0223 - val_accuracy: 0.6485\n",
            "Epoch 9/20\n",
            "1000/1000 [==============================] - 4s 4ms/step - loss: 0.9432 - accuracy: 0.6742 - val_loss: 1.0243 - val_accuracy: 0.6453\n",
            "Epoch 10/20\n",
            "1000/1000 [==============================] - 5s 5ms/step - loss: 0.9247 - accuracy: 0.6819 - val_loss: 1.0037 - val_accuracy: 0.6536\n",
            "Epoch 11/20\n",
            "1000/1000 [==============================] - 4s 4ms/step - loss: 0.9124 - accuracy: 0.6852 - val_loss: 1.0097 - val_accuracy: 0.6548\n",
            "Epoch 12/20\n",
            "1000/1000 [==============================] - 4s 4ms/step - loss: 0.8963 - accuracy: 0.6922 - val_loss: 0.9961 - val_accuracy: 0.6540\n",
            "Epoch 13/20\n",
            "1000/1000 [==============================] - 5s 5ms/step - loss: 0.8804 - accuracy: 0.6955 - val_loss: 0.9939 - val_accuracy: 0.6563\n",
            "Epoch 14/20\n",
            "1000/1000 [==============================] - 4s 4ms/step - loss: 0.8724 - accuracy: 0.6976 - val_loss: 0.9911 - val_accuracy: 0.6613\n",
            "Epoch 15/20\n",
            "1000/1000 [==============================] - 4s 4ms/step - loss: 0.8615 - accuracy: 0.7028 - val_loss: 0.9870 - val_accuracy: 0.6668\n",
            "Epoch 16/20\n",
            "1000/1000 [==============================] - 5s 5ms/step - loss: 0.8493 - accuracy: 0.7064 - val_loss: 0.9780 - val_accuracy: 0.6643\n",
            "Epoch 17/20\n",
            "1000/1000 [==============================] - 4s 4ms/step - loss: 0.8383 - accuracy: 0.7123 - val_loss: 0.9823 - val_accuracy: 0.6682\n",
            "Epoch 18/20\n",
            "1000/1000 [==============================] - 4s 4ms/step - loss: 0.8326 - accuracy: 0.7116 - val_loss: 0.9884 - val_accuracy: 0.6625\n",
            "Epoch 19/20\n",
            "1000/1000 [==============================] - 5s 5ms/step - loss: 0.8196 - accuracy: 0.7161 - val_loss: 0.9663 - val_accuracy: 0.6715\n",
            "Epoch 20/20\n",
            "1000/1000 [==============================] - 4s 4ms/step - loss: 0.8156 - accuracy: 0.7159 - val_loss: 0.9960 - val_accuracy: 0.6623\n"
          ]
        }
      ],
      "source": [
        "###### COMPILE MODEL HERE ( .compile() )######\n",
        "model_cnn.compile(optimizer=tf.keras.optimizers.Adam(learning_rate=0.001),\n",
        "              loss='categorical_crossentropy',\n",
        "              metrics=['accuracy'])\n",
        "\n",
        "###### TRAIN MODEL HERE ( .fit() ) ######\n",
        "history_cnn = model_cnn.fit(x_train, y_train_fc, epochs=20, batch_size=50, validation_data=(x_test, y_test_fc))\n",
        "\n"
      ]
    },
    {
      "cell_type": "markdown",
      "metadata": {
        "id": "P2HI-y-pQJNI"
      },
      "source": [
        "... και αξιολογούμε στα δεδομένα (x_test, y_test_fc)"
      ]
    },
    {
      "cell_type": "code",
      "execution_count": 15,
      "metadata": {
        "id": "NMfhoM7YMNrj"
      },
      "outputs": [],
      "source": [
        "y_test_fc = keras.utils.to_categorical(y_test, num_classes=10)"
      ]
    },
    {
      "cell_type": "code",
      "execution_count": 16,
      "metadata": {
        "colab": {
          "base_uri": "https://localhost:8080/"
        },
        "id": "Tu56CvZAcAyV",
        "outputId": "870c8597-5b85-4831-e54a-de1bb368dcca"
      },
      "outputs": [
        {
          "output_type": "stream",
          "name": "stdout",
          "text": [
            "313/313 [==============================] - 1s 3ms/step - loss: 0.9960 - accuracy: 0.6623\n"
          ]
        }
      ],
      "source": [
        "###### EVALUATE MODEL HERE ( .evaluate() ) ######\n",
        "evaluation_cnn = model_cnn.evaluate(x_test, y_test_fc)"
      ]
    },
    {
      "cell_type": "code",
      "source": [
        "plt.plot(history_cnn.history['accuracy'], label='accuracy')\n",
        "plt.plot(history_cnn.history['val_accuracy'], label = 'val_accuracy')\n",
        "plt.xlabel('Epoch')\n",
        "plt.ylabel('Accuracy')\n",
        "plt.ylim([0.5, 1])\n",
        "plt.legend(loc='lower right')\n",
        "\n",
        "test_loss, test_acc = model_cnn.evaluate(x_test, y_test_fc, verbose=2)"
      ],
      "metadata": {
        "colab": {
          "base_uri": "https://localhost:8080/",
          "height": 472
        },
        "id": "5cz8j_7jqe4X",
        "outputId": "b56ce44f-eb1e-44b1-af50-89861007f503"
      },
      "execution_count": 17,
      "outputs": [
        {
          "output_type": "stream",
          "name": "stdout",
          "text": [
            "313/313 - 1s - loss: 0.9960 - accuracy: 0.6623 - 687ms/epoch - 2ms/step\n"
          ]
        },
        {
          "output_type": "display_data",
          "data": {
            "text/plain": [
              "<Figure size 640x480 with 1 Axes>"
            ],
            "image/png": "[encoded data removed]"
          },
          "metadata": {}
        }
      ]
    },
    {
      "cell_type": "markdown",
      "metadata": {
        "id": "2tGyspDZQLaH"
      },
      "source": [
        "**Ερώτηση:** Τι παρατηρείτε σχετικά με τον αριθμό παραμέτρων και την επίδοση του κάθε δικτύου; Πως εξηγείτε τις παρατηρήσεις σας; Όπως αναφέρεται και στην εκφώνηση, πειραματιστείτε με διαφορετικές αρχιτεκτονικές, διαφορετικό αριθμό minibatches, εποχών, καθώς και διαφορετικές τιμές του learning rate."
      ]
    },
    {
      "cell_type": "markdown",
      "metadata": {
        "id": "NK6yng9WMoCg"
      },
      "source": [
        "### **Καλή επιτυχία!**"
      ]
    },
    {
      "cell_type": "code",
      "source": [
        "# Define the learning rate schedule\n",
        "def learning_rate_schedule(epoch):\n",
        "    if epoch < 5:\n",
        "        return 0.001\n",
        "    elif epoch < 10:\n",
        "        return 0.0005\n",
        "    else:\n",
        "        return 0.0001"
      ],
      "metadata": {
        "id": "m6bvDXryoP8z"
      },
      "execution_count": 18,
      "outputs": []
    },
    {
      "cell_type": "code",
      "source": [
        "# Scheduler\n",
        "my_scheduler = tf.keras.callbacks.LearningRateScheduler(learning_rate_schedule)"
      ],
      "metadata": {
        "id": "qqZdMYRJovlz"
      },
      "execution_count": 19,
      "outputs": []
    },
    {
      "cell_type": "code",
      "source": [
        "# Define a deeper model\n",
        "deep_model = tf.keras.models.Sequential([\n",
        "    tf.keras.layers.Dense(20, activation='relu', input_shape=(x_train_fc.shape[1],)),\n",
        "    tf.keras.layers.Dense(64, activation='relu'),\n",
        "    tf.keras.layers.Dense(64, activation='relu'),\n",
        "    tf.keras.layers.Dense(64, activation='relu'),\n",
        "    tf.keras.layers.Dense(10, activation='softmax')\n",
        "])\n",
        "\n",
        "# Compile the deeper model\n",
        "deep_model.compile(\n",
        "    optimizer=tf.keras.optimizers.SGD(),\n",
        "    loss=CategoricalCrossentropy(),\n",
        "    metrics=['accuracy']\n",
        ")\n",
        "\n",
        "# Train the deeper model\n",
        "deep_model.fit(x_train_fc, y_train_fc, epochs=20, batch_size=50, callbacks=[my_scheduler])\n"
      ],
      "metadata": {
        "colab": {
          "base_uri": "https://localhost:8080/"
        },
        "id": "uSMjGnsqX_3X",
        "outputId": "f979fe81-5bd1-49b2-9e39-cc4432f0a4d1"
      },
      "execution_count": 20,
      "outputs": [
        {
          "output_type": "stream",
          "name": "stdout",
          "text": [
            "Epoch 1/20\n",
            "1000/1000 [==============================] - 5s 3ms/step - loss: 2.2931 - accuracy: 0.1307 - lr: 0.0010\n",
            "Epoch 2/20\n",
            "1000/1000 [==============================] - 4s 4ms/step - loss: 2.2515 - accuracy: 0.1900 - lr: 0.0010\n",
            "Epoch 3/20\n",
            "1000/1000 [==============================] - 4s 4ms/step - loss: 2.1686 - accuracy: 0.2158 - lr: 0.0010\n",
            "Epoch 4/20\n",
            "1000/1000 [==============================] - 4s 4ms/step - loss: 2.0790 - accuracy: 0.2458 - lr: 0.0010\n",
            "Epoch 5/20\n",
            "1000/1000 [==============================] - 4s 4ms/step - loss: 2.0102 - accuracy: 0.2727 - lr: 0.0010\n",
            "Epoch 6/20\n",
            "1000/1000 [==============================] - 3s 3ms/step - loss: 1.9686 - accuracy: 0.2898 - lr: 5.0000e-04\n",
            "Epoch 7/20\n",
            "1000/1000 [==============================] - 4s 4ms/step - loss: 1.9461 - accuracy: 0.3003 - lr: 5.0000e-04\n",
            "Epoch 8/20\n",
            "1000/1000 [==============================] - 4s 4ms/step - loss: 1.9254 - accuracy: 0.3095 - lr: 5.0000e-04\n",
            "Epoch 9/20\n",
            "1000/1000 [==============================] - 3s 3ms/step - loss: 1.9073 - accuracy: 0.3161 - lr: 5.0000e-04\n",
            "Epoch 10/20\n",
            "1000/1000 [==============================] - 4s 4ms/step - loss: 1.8907 - accuracy: 0.3222 - lr: 5.0000e-04\n",
            "Epoch 11/20\n",
            "1000/1000 [==============================] - 4s 4ms/step - loss: 1.8800 - accuracy: 0.3281 - lr: 1.0000e-04\n",
            "Epoch 12/20\n",
            "1000/1000 [==============================] - 3s 3ms/step - loss: 1.8770 - accuracy: 0.3290 - lr: 1.0000e-04\n",
            "Epoch 13/20\n",
            "1000/1000 [==============================] - 3s 3ms/step - loss: 1.8741 - accuracy: 0.3304 - lr: 1.0000e-04\n",
            "Epoch 14/20\n",
            "1000/1000 [==============================] - 5s 5ms/step - loss: 1.8714 - accuracy: 0.3308 - lr: 1.0000e-04\n",
            "Epoch 15/20\n",
            "1000/1000 [==============================] - 4s 4ms/step - loss: 1.8689 - accuracy: 0.3316 - lr: 1.0000e-04\n",
            "Epoch 16/20\n",
            "1000/1000 [==============================] - 4s 4ms/step - loss: 1.8662 - accuracy: 0.3325 - lr: 1.0000e-04\n",
            "Epoch 17/20\n",
            "1000/1000 [==============================] - 4s 4ms/step - loss: 1.8636 - accuracy: 0.3337 - lr: 1.0000e-04\n",
            "Epoch 18/20\n",
            "1000/1000 [==============================] - 3s 3ms/step - loss: 1.8611 - accuracy: 0.3348 - lr: 1.0000e-04\n",
            "Epoch 19/20\n",
            "1000/1000 [==============================] - 4s 4ms/step - loss: 1.8587 - accuracy: 0.3350 - lr: 1.0000e-04\n",
            "Epoch 20/20\n",
            "1000/1000 [==============================] - 4s 4ms/step - loss: 1.8563 - accuracy: 0.3350 - lr: 1.0000e-04\n"
          ]
        },
        {
          "output_type": "execute_result",
          "data": {
            "text/plain": [
              "<keras.src.callbacks.History at 0x7c1bf0d69b70>"
            ]
          },
          "metadata": {},
          "execution_count": 20
        }
      ]
    },
    {
      "cell_type": "code",
      "source": [
        "loss, accuracy = deep_model.evaluate(x_test_fc, y_test_fc)"
      ],
      "metadata": {
        "colab": {
          "base_uri": "https://localhost:8080/"
        },
        "id": "6Oksb10feEsk",
        "outputId": "d82370d6-bb94-4bf9-ba59-ee9f9f5292a3"
      },
      "execution_count": 21,
      "outputs": [
        {
          "output_type": "stream",
          "name": "stdout",
          "text": [
            "313/313 [==============================] - 1s 3ms/step - loss: 1.8567 - accuracy: 0.3364\n"
          ]
        }
      ]
    },
    {
      "cell_type": "code",
      "source": [
        "# Define a wider model\n",
        "wide_model = tf.keras.models.Sequential([\n",
        "    tf.keras.layers.Dense(128, activation='relu', input_shape=(x_train_fc.shape[1],)),\n",
        "    tf.keras.layers.Dense(128, activation='relu'),\n",
        "    tf.keras.layers.Dense(10, activation='softmax')\n",
        "])\n",
        "\n",
        "# Compile the wider model\n",
        "wide_model.compile(\n",
        "    optimizer=tf.keras.optimizers.SGD(),\n",
        "    loss=CategoricalCrossentropy(),\n",
        "    metrics=['accuracy']\n",
        ")\n",
        "\n",
        "# Train the wider model\n",
        "wide_model.fit(x_train_fc, y_train_fc, epochs=20, batch_size=50, callbacks=[my_scheduler])"
      ],
      "metadata": {
        "colab": {
          "base_uri": "https://localhost:8080/"
        },
        "id": "jnM_ZDcxa1XP",
        "outputId": "359cad88-23d0-4120-c8ac-2cc158d55873"
      },
      "execution_count": 22,
      "outputs": [
        {
          "output_type": "stream",
          "name": "stdout",
          "text": [
            "Epoch 1/20\n",
            "1000/1000 [==============================] - 4s 4ms/step - loss: 2.1758 - accuracy: 0.2131 - lr: 0.0010\n",
            "Epoch 2/20\n",
            "1000/1000 [==============================] - 3s 3ms/step - loss: 2.0200 - accuracy: 0.2915 - lr: 0.0010\n",
            "Epoch 3/20\n",
            "1000/1000 [==============================] - 3s 3ms/step - loss: 1.9331 - accuracy: 0.3219 - lr: 0.0010\n",
            "Epoch 4/20\n",
            "1000/1000 [==============================] - 3s 3ms/step - loss: 1.8840 - accuracy: 0.3407 - lr: 0.0010\n",
            "Epoch 5/20\n",
            "1000/1000 [==============================] - 4s 4ms/step - loss: 1.8512 - accuracy: 0.3549 - lr: 0.0010\n",
            "Epoch 6/20\n",
            "1000/1000 [==============================] - 3s 3ms/step - loss: 1.8300 - accuracy: 0.3643 - lr: 5.0000e-04\n",
            "Epoch 7/20\n",
            "1000/1000 [==============================] - 3s 3ms/step - loss: 1.8184 - accuracy: 0.3671 - lr: 5.0000e-04\n",
            "Epoch 8/20\n",
            "1000/1000 [==============================] - 3s 3ms/step - loss: 1.8075 - accuracy: 0.3713 - lr: 5.0000e-04\n",
            "Epoch 9/20\n",
            "1000/1000 [==============================] - 4s 4ms/step - loss: 1.7975 - accuracy: 0.3754 - lr: 5.0000e-04\n",
            "Epoch 10/20\n",
            "1000/1000 [==============================] - 3s 3ms/step - loss: 1.7879 - accuracy: 0.3781 - lr: 5.0000e-04\n",
            "Epoch 11/20\n",
            "1000/1000 [==============================] - 3s 3ms/step - loss: 1.7804 - accuracy: 0.3815 - lr: 1.0000e-04\n",
            "Epoch 12/20\n",
            "1000/1000 [==============================] - 3s 3ms/step - loss: 1.7786 - accuracy: 0.3820 - lr: 1.0000e-04\n",
            "Epoch 13/20\n",
            "1000/1000 [==============================] - 4s 4ms/step - loss: 1.7768 - accuracy: 0.3833 - lr: 1.0000e-04\n",
            "Epoch 14/20\n",
            "1000/1000 [==============================] - 3s 3ms/step - loss: 1.7751 - accuracy: 0.3835 - lr: 1.0000e-04\n",
            "Epoch 15/20\n",
            "1000/1000 [==============================] - 3s 3ms/step - loss: 1.7733 - accuracy: 0.3843 - lr: 1.0000e-04\n",
            "Epoch 16/20\n",
            "1000/1000 [==============================] - 3s 3ms/step - loss: 1.7717 - accuracy: 0.3845 - lr: 1.0000e-04\n",
            "Epoch 17/20\n",
            "1000/1000 [==============================] - 4s 4ms/step - loss: 1.7699 - accuracy: 0.3856 - lr: 1.0000e-04\n",
            "Epoch 18/20\n",
            "1000/1000 [==============================] - 3s 3ms/step - loss: 1.7684 - accuracy: 0.3857 - lr: 1.0000e-04\n",
            "Epoch 19/20\n",
            "1000/1000 [==============================] - 3s 3ms/step - loss: 1.7667 - accuracy: 0.3869 - lr: 1.0000e-04\n",
            "Epoch 20/20\n",
            "1000/1000 [==============================] - 3s 3ms/step - loss: 1.7650 - accuracy: 0.3866 - lr: 1.0000e-04\n"
          ]
        },
        {
          "output_type": "execute_result",
          "data": {
            "text/plain": [
              "<keras.src.callbacks.History at 0x7c1bf0cb4b50>"
            ]
          },
          "metadata": {},
          "execution_count": 22
        }
      ]
    },
    {
      "cell_type": "code",
      "source": [
        "loss, accuracy = wide_model.evaluate(x_test_fc, y_test_fc)"
      ],
      "metadata": {
        "colab": {
          "base_uri": "https://localhost:8080/"
        },
        "id": "Q2gTky3FeMLj",
        "outputId": "0a022061-bae6-4456-fb72-d15cf1dc1b5f"
      },
      "execution_count": 23,
      "outputs": [
        {
          "output_type": "stream",
          "name": "stdout",
          "text": [
            "313/313 [==============================] - 1s 4ms/step - loss: 1.7662 - accuracy: 0.3844\n"
          ]
        }
      ]
    },
    {
      "cell_type": "code",
      "source": [
        "# Define a model with adam optimizer\n",
        "adam_model = tf.keras.models.Sequential([\n",
        "    tf.keras.layers.Dense(20, activation='relu', input_shape=(x_train_fc.shape[1],)),\n",
        "    tf.keras.layers.Dense(20, activation='relu'),\n",
        "    tf.keras.layers.Dense(10, activation='softmax')\n",
        "])\n",
        "\n",
        "# Compile the model\n",
        "adam_model.compile(\n",
        "    optimizer=tf.keras.optimizers.Adam(),\n",
        "    loss=CategoricalCrossentropy(),\n",
        "    metrics=['accuracy']\n",
        ")\n",
        "\n",
        "# Train the model\n",
        "adam_model.fit(x_train_fc, y_train_fc, epochs=20, batch_size=50, callbacks=[my_scheduler])"
      ],
      "metadata": {
        "colab": {
          "base_uri": "https://localhost:8080/"
        },
        "id": "PfoqtwitbnVs",
        "outputId": "5da7a887-c8d6-4c86-c941-a68cbe6d6b2b"
      },
      "execution_count": 24,
      "outputs": [
        {
          "output_type": "stream",
          "name": "stdout",
          "text": [
            "Epoch 1/20\n",
            "1000/1000 [==============================] - 4s 3ms/step - loss: 2.0088 - accuracy: 0.2405 - lr: 0.0010\n",
            "Epoch 2/20\n",
            "1000/1000 [==============================] - 3s 3ms/step - loss: 1.9025 - accuracy: 0.2947 - lr: 0.0010\n",
            "Epoch 3/20\n",
            "1000/1000 [==============================] - 4s 4ms/step - loss: 1.8633 - accuracy: 0.3136 - lr: 0.0010\n",
            "Epoch 4/20\n",
            "1000/1000 [==============================] - 4s 4ms/step - loss: 1.8437 - accuracy: 0.3246 - lr: 0.0010\n",
            "Epoch 5/20\n",
            "1000/1000 [==============================] - 3s 3ms/step - loss: 1.8260 - accuracy: 0.3319 - lr: 0.0010\n",
            "Epoch 6/20\n",
            "1000/1000 [==============================] - 3s 3ms/step - loss: 1.8031 - accuracy: 0.3428 - lr: 5.0000e-04\n",
            "Epoch 7/20\n",
            "1000/1000 [==============================] - 4s 4ms/step - loss: 1.7999 - accuracy: 0.3444 - lr: 5.0000e-04\n",
            "Epoch 8/20\n",
            "1000/1000 [==============================] - 3s 3ms/step - loss: 1.7937 - accuracy: 0.3491 - lr: 5.0000e-04\n",
            "Epoch 9/20\n",
            "1000/1000 [==============================] - 3s 3ms/step - loss: 1.7899 - accuracy: 0.3511 - lr: 5.0000e-04\n",
            "Epoch 10/20\n",
            "1000/1000 [==============================] - 3s 3ms/step - loss: 1.7859 - accuracy: 0.3524 - lr: 5.0000e-04\n",
            "Epoch 11/20\n",
            "1000/1000 [==============================] - 4s 4ms/step - loss: 1.7690 - accuracy: 0.3595 - lr: 1.0000e-04\n",
            "Epoch 12/20\n",
            "1000/1000 [==============================] - 3s 3ms/step - loss: 1.7681 - accuracy: 0.3607 - lr: 1.0000e-04\n",
            "Epoch 13/20\n",
            "1000/1000 [==============================] - 3s 3ms/step - loss: 1.7669 - accuracy: 0.3608 - lr: 1.0000e-04\n",
            "Epoch 14/20\n",
            "1000/1000 [==============================] - 3s 3ms/step - loss: 1.7660 - accuracy: 0.3613 - lr: 1.0000e-04\n",
            "Epoch 15/20\n",
            "1000/1000 [==============================] - 4s 4ms/step - loss: 1.7648 - accuracy: 0.3623 - lr: 1.0000e-04\n",
            "Epoch 16/20\n",
            "1000/1000 [==============================] - 3s 3ms/step - loss: 1.7643 - accuracy: 0.3630 - lr: 1.0000e-04\n",
            "Epoch 17/20\n",
            "1000/1000 [==============================] - 3s 3ms/step - loss: 1.7637 - accuracy: 0.3626 - lr: 1.0000e-04\n",
            "Epoch 18/20\n",
            "1000/1000 [==============================] - 4s 4ms/step - loss: 1.7620 - accuracy: 0.3627 - lr: 1.0000e-04\n",
            "Epoch 19/20\n",
            "1000/1000 [==============================] - 4s 4ms/step - loss: 1.7616 - accuracy: 0.3648 - lr: 1.0000e-04\n",
            "Epoch 20/20\n",
            "1000/1000 [==============================] - 3s 3ms/step - loss: 1.7607 - accuracy: 0.3635 - lr: 1.0000e-04\n"
          ]
        },
        {
          "output_type": "execute_result",
          "data": {
            "text/plain": [
              "<keras.src.callbacks.History at 0x7c1bf0c9d9c0>"
            ]
          },
          "metadata": {},
          "execution_count": 24
        }
      ]
    },
    {
      "cell_type": "code",
      "source": [
        "loss, accuracy = adam_model.evaluate(x_test_fc, y_test_fc)"
      ],
      "metadata": {
        "colab": {
          "base_uri": "https://localhost:8080/"
        },
        "id": "Ezwt-Ht0eR67",
        "outputId": "7ff95941-d680-41a0-be54-9339346489c9"
      },
      "execution_count": 25,
      "outputs": [
        {
          "output_type": "stream",
          "name": "stdout",
          "text": [
            "313/313 [==============================] - 1s 3ms/step - loss: 1.7741 - accuracy: 0.3573\n"
          ]
        }
      ]
    },
    {
      "cell_type": "code",
      "source": [
        "# Define a model with dropout\n",
        "dropout_model = tf.keras.models.Sequential([\n",
        "    tf.keras.layers.Dense(20, activation='relu', input_shape=(x_train_fc.shape[1],)),\n",
        "    tf.keras.layers.Dropout(0.5),\n",
        "    tf.keras.layers.Dense(20, activation='relu'),\n",
        "    tf.keras.layers.Dropout(0.5),\n",
        "    tf.keras.layers.Dense(10, activation='softmax')\n",
        "])\n",
        "\n",
        "# Compile the model\n",
        "dropout_model.compile(\n",
        "    optimizer=tf.keras.optimizers.SGD(),\n",
        "    loss=CategoricalCrossentropy(),\n",
        "    metrics=['accuracy']\n",
        ")\n",
        "\n",
        "# Train the model\n",
        "dropout_model.fit(x_train_fc, y_train_fc, epochs=20, batch_size=50, callbacks=[my_scheduler])"
      ],
      "metadata": {
        "colab": {
          "base_uri": "https://localhost:8080/"
        },
        "id": "kpDPX5pab5rh",
        "outputId": "ef230f1c-7733-40eb-e5a1-03c41e03d1ea"
      },
      "execution_count": 26,
      "outputs": [
        {
          "output_type": "stream",
          "name": "stdout",
          "text": [
            "Epoch 1/20\n",
            "1000/1000 [==============================] - 6s 4ms/step - loss: 2.3033 - accuracy: 0.1044 - lr: 0.0010\n",
            "Epoch 2/20\n",
            "1000/1000 [==============================] - 3s 3ms/step - loss: 2.2958 - accuracy: 0.1065 - lr: 0.0010\n",
            "Epoch 3/20\n",
            "1000/1000 [==============================] - 3s 3ms/step - loss: 2.2901 - accuracy: 0.1113 - lr: 0.0010\n",
            "Epoch 4/20\n",
            "1000/1000 [==============================] - 4s 4ms/step - loss: 2.2869 - accuracy: 0.1166 - lr: 0.0010\n",
            "Epoch 5/20\n",
            "1000/1000 [==============================] - 4s 3ms/step - loss: 2.2802 - accuracy: 0.1185 - lr: 0.0010\n",
            "Epoch 6/20\n",
            "1000/1000 [==============================] - 3s 3ms/step - loss: 2.2759 - accuracy: 0.1256 - lr: 5.0000e-04\n",
            "Epoch 7/20\n",
            "1000/1000 [==============================] - 3s 3ms/step - loss: 2.2734 - accuracy: 0.1287 - lr: 5.0000e-04\n",
            "Epoch 8/20\n",
            "1000/1000 [==============================] - 4s 4ms/step - loss: 2.2676 - accuracy: 0.1331 - lr: 5.0000e-04\n",
            "Epoch 9/20\n",
            "1000/1000 [==============================] - 3s 3ms/step - loss: 2.2622 - accuracy: 0.1330 - lr: 5.0000e-04\n",
            "Epoch 10/20\n",
            "1000/1000 [==============================] - 3s 3ms/step - loss: 2.2574 - accuracy: 0.1396 - lr: 5.0000e-04\n",
            "Epoch 11/20\n",
            "1000/1000 [==============================] - 3s 3ms/step - loss: 2.2532 - accuracy: 0.1437 - lr: 1.0000e-04\n",
            "Epoch 12/20\n",
            "1000/1000 [==============================] - 4s 4ms/step - loss: 2.2538 - accuracy: 0.1414 - lr: 1.0000e-04\n",
            "Epoch 13/20\n",
            "1000/1000 [==============================] - 3s 3ms/step - loss: 2.2532 - accuracy: 0.1413 - lr: 1.0000e-04\n",
            "Epoch 14/20\n",
            "1000/1000 [==============================] - 3s 3ms/step - loss: 2.2494 - accuracy: 0.1442 - lr: 1.0000e-04\n",
            "Epoch 15/20\n",
            "1000/1000 [==============================] - 3s 3ms/step - loss: 2.2510 - accuracy: 0.1404 - lr: 1.0000e-04\n",
            "Epoch 16/20\n",
            "1000/1000 [==============================] - 4s 4ms/step - loss: 2.2474 - accuracy: 0.1474 - lr: 1.0000e-04\n",
            "Epoch 17/20\n",
            "1000/1000 [==============================] - 3s 3ms/step - loss: 2.2484 - accuracy: 0.1447 - lr: 1.0000e-04\n",
            "Epoch 18/20\n",
            "1000/1000 [==============================] - 3s 3ms/step - loss: 2.2492 - accuracy: 0.1447 - lr: 1.0000e-04\n",
            "Epoch 19/20\n",
            "1000/1000 [==============================] - 4s 4ms/step - loss: 2.2473 - accuracy: 0.1460 - lr: 1.0000e-04\n",
            "Epoch 20/20\n",
            "1000/1000 [==============================] - 4s 4ms/step - loss: 2.2468 - accuracy: 0.1493 - lr: 1.0000e-04\n"
          ]
        },
        {
          "output_type": "execute_result",
          "data": {
            "text/plain": [
              "<keras.src.callbacks.History at 0x7c1bf0b2b340>"
            ]
          },
          "metadata": {},
          "execution_count": 26
        }
      ]
    },
    {
      "cell_type": "code",
      "source": [
        "loss, accuracy = dropout_model.evaluate(x_test_fc, y_test_fc)"
      ],
      "metadata": {
        "colab": {
          "base_uri": "https://localhost:8080/"
        },
        "id": "hjAMOKRdedPI",
        "outputId": "948c16f9-a29f-427c-b3d5-9f474da621be"
      },
      "execution_count": 27,
      "outputs": [
        {
          "output_type": "stream",
          "name": "stdout",
          "text": [
            "313/313 [==============================] - 1s 2ms/step - loss: 2.2059 - accuracy: 0.1984\n"
          ]
        }
      ]
    },
    {
      "cell_type": "code",
      "source": [
        "# Define a better model\n",
        "better_model = tf.keras.models.Sequential([\n",
        "    tf.keras.layers.Dense(128, activation='relu', input_shape=(x_train_fc.shape[1],)),\n",
        "    tf.keras.layers.BatchNormalization(),\n",
        "    tf.keras.layers.Dropout(0.5),\n",
        "    tf.keras.layers.Dense(128, activation='relu'),\n",
        "    tf.keras.layers.BatchNormalization(),\n",
        "    tf.keras.layers.Dropout(0.5),\n",
        "    tf.keras.layers.Dense(10, activation='softmax')\n",
        "])\n",
        "\n",
        "# Compile the deeper model\n",
        "better_model.compile(\n",
        "    optimizer=tf.keras.optimizers.SGD(),\n",
        "    loss=CategoricalCrossentropy(),\n",
        "    metrics=['accuracy']\n",
        ")\n",
        "\n",
        "# Train the deeper model\n",
        "better_model.fit(x_train_fc, y_train_fc, epochs=20, batch_size=50, validation_data=(x_test_fc, y_test_fc),callbacks=[my_scheduler])"
      ],
      "metadata": {
        "colab": {
          "base_uri": "https://localhost:8080/"
        },
        "id": "B8cM-BHQgxSw",
        "outputId": "6824ecc7-db08-4d4b-8a68-ff76a545823f"
      },
      "execution_count": 28,
      "outputs": [
        {
          "output_type": "stream",
          "name": "stdout",
          "text": [
            "Epoch 1/20\n",
            "1000/1000 [==============================] - 8s 6ms/step - loss: 2.8579 - accuracy: 0.1824 - val_loss: 1.9403 - val_accuracy: 0.3199 - lr: 0.0010\n",
            "Epoch 2/20\n",
            "1000/1000 [==============================] - 4s 4ms/step - loss: 2.4863 - accuracy: 0.2268 - val_loss: 1.8484 - val_accuracy: 0.3504 - lr: 0.0010\n",
            "Epoch 3/20\n",
            "1000/1000 [==============================] - 5s 5ms/step - loss: 2.3194 - accuracy: 0.2470 - val_loss: 1.7785 - val_accuracy: 0.3732 - lr: 0.0010\n",
            "Epoch 4/20\n",
            "1000/1000 [==============================] - 5s 5ms/step - loss: 2.1993 - accuracy: 0.2638 - val_loss: 1.7714 - val_accuracy: 0.3718 - lr: 0.0010\n",
            "Epoch 5/20\n",
            "1000/1000 [==============================] - 4s 4ms/step - loss: 2.1227 - accuracy: 0.2750 - val_loss: 1.7237 - val_accuracy: 0.3915 - lr: 0.0010\n",
            "Epoch 6/20\n",
            "1000/1000 [==============================] - 5s 5ms/step - loss: 2.0717 - accuracy: 0.2833 - val_loss: 1.7300 - val_accuracy: 0.3889 - lr: 5.0000e-04\n",
            "Epoch 7/20\n",
            "1000/1000 [==============================] - 5s 5ms/step - loss: 2.0425 - accuracy: 0.2892 - val_loss: 1.7063 - val_accuracy: 0.3971 - lr: 5.0000e-04\n",
            "Epoch 8/20\n",
            "1000/1000 [==============================] - 4s 4ms/step - loss: 2.0170 - accuracy: 0.2932 - val_loss: 1.6978 - val_accuracy: 0.4018 - lr: 5.0000e-04\n",
            "Epoch 9/20\n",
            "1000/1000 [==============================] - 5s 5ms/step - loss: 1.9881 - accuracy: 0.2995 - val_loss: 1.6940 - val_accuracy: 0.4035 - lr: 5.0000e-04\n",
            "Epoch 10/20\n",
            "1000/1000 [==============================] - 5s 5ms/step - loss: 1.9718 - accuracy: 0.3029 - val_loss: 1.6917 - val_accuracy: 0.3998 - lr: 5.0000e-04\n",
            "Epoch 11/20\n",
            "1000/1000 [==============================] - 5s 5ms/step - loss: 1.9580 - accuracy: 0.3066 - val_loss: 1.6815 - val_accuracy: 0.4072 - lr: 1.0000e-04\n",
            "Epoch 12/20\n",
            "1000/1000 [==============================] - 5s 5ms/step - loss: 1.9559 - accuracy: 0.3078 - val_loss: 1.6845 - val_accuracy: 0.4051 - lr: 1.0000e-04\n",
            "Epoch 13/20\n",
            "1000/1000 [==============================] - 4s 4ms/step - loss: 1.9469 - accuracy: 0.3107 - val_loss: 1.6811 - val_accuracy: 0.4076 - lr: 1.0000e-04\n",
            "Epoch 14/20\n",
            "1000/1000 [==============================] - 5s 5ms/step - loss: 1.9471 - accuracy: 0.3110 - val_loss: 1.6788 - val_accuracy: 0.4101 - lr: 1.0000e-04\n",
            "Epoch 15/20\n",
            "1000/1000 [==============================] - 5s 5ms/step - loss: 1.9433 - accuracy: 0.3136 - val_loss: 1.6772 - val_accuracy: 0.4089 - lr: 1.0000e-04\n",
            "Epoch 16/20\n",
            "1000/1000 [==============================] - 5s 5ms/step - loss: 1.9417 - accuracy: 0.3131 - val_loss: 1.6765 - val_accuracy: 0.4099 - lr: 1.0000e-04\n",
            "Epoch 17/20\n",
            "1000/1000 [==============================] - 6s 6ms/step - loss: 1.9342 - accuracy: 0.3128 - val_loss: 1.6741 - val_accuracy: 0.4117 - lr: 1.0000e-04\n",
            "Epoch 18/20\n",
            "1000/1000 [==============================] - 4s 4ms/step - loss: 1.9416 - accuracy: 0.3096 - val_loss: 1.6753 - val_accuracy: 0.4118 - lr: 1.0000e-04\n",
            "Epoch 19/20\n",
            "1000/1000 [==============================] - 5s 5ms/step - loss: 1.9345 - accuracy: 0.3124 - val_loss: 1.6741 - val_accuracy: 0.4095 - lr: 1.0000e-04\n",
            "Epoch 20/20\n",
            "1000/1000 [==============================] - 6s 6ms/step - loss: 1.9288 - accuracy: 0.3158 - val_loss: 1.6710 - val_accuracy: 0.4141 - lr: 1.0000e-04\n"
          ]
        },
        {
          "output_type": "execute_result",
          "data": {
            "text/plain": [
              "<keras.src.callbacks.History at 0x7c1bf0499150>"
            ]
          },
          "metadata": {},
          "execution_count": 28
        }
      ]
    },
    {
      "cell_type": "code",
      "source": [
        "loss, accuracy = better_model.evaluate(x_test_fc, y_test_fc)"
      ],
      "metadata": {
        "colab": {
          "base_uri": "https://localhost:8080/"
        },
        "id": "Yz9afDhIjqOe",
        "outputId": "ac333ffc-ecd7-4a10-f72a-1bb4a5d47084"
      },
      "execution_count": 29,
      "outputs": [
        {
          "output_type": "stream",
          "name": "stdout",
          "text": [
            "313/313 [==============================] - 1s 3ms/step - loss: 1.6710 - accuracy: 0.4141\n"
          ]
        }
      ]
    },
    {
      "cell_type": "code",
      "execution_count": 30,
      "metadata": {
        "id": "BmSBfZJTZWHl"
      },
      "outputs": [],
      "source": [
        "# Define a more complex cnn\n",
        "model_cnn_test = tf.keras.models.Sequential([\n",
        "   tf.keras.layers.Conv2D(64, (3, 3), activation='relu', input_shape=(32, 32, 3)),\n",
        "    tf.keras.layers.Conv2D(64, (3, 3), activation='relu'),\n",
        "    tf.keras.layers.MaxPooling2D((2, 2)),\n",
        "    tf.keras.layers.Dropout(0.25),\n",
        "\n",
        "    tf.keras.layers.Conv2D(64, (3, 3), activation='relu'),\n",
        "    tf.keras.layers.Conv2D(64, (3, 3), activation='relu'),\n",
        "    tf.keras.layers.MaxPooling2D((2, 2)),\n",
        "    tf.keras.layers.Dropout(0.25),\n",
        "\n",
        "    tf.keras.layers.Flatten(),\n",
        "    tf.keras.layers.Dense(512, activation='relu'),\n",
        "    tf.keras.layers.Dropout(0.5),\n",
        "    tf.keras.layers.Dense(10, activation='softmax')\n",
        "])"
      ]
    },
    {
      "cell_type": "code",
      "execution_count": 31,
      "metadata": {
        "colab": {
          "base_uri": "https://localhost:8080/"
        },
        "id": "3A22fnMSZm0R",
        "outputId": "9e49eb32-4687-48b1-efdc-44f1174a2b19",
        "collapsed": true
      },
      "outputs": [
        {
          "output_type": "stream",
          "name": "stdout",
          "text": [
            "Epoch 1/30\n",
            "782/782 [==============================] - 12s 11ms/step - loss: 1.5771 - accuracy: 0.4245 - val_loss: 1.2025 - val_accuracy: 0.5699 - lr: 0.0010\n",
            "Epoch 2/30\n",
            "782/782 [==============================] - 8s 10ms/step - loss: 1.1537 - accuracy: 0.5909 - val_loss: 1.0210 - val_accuracy: 0.6373 - lr: 0.0010\n",
            "Epoch 3/30\n",
            "782/782 [==============================] - 8s 10ms/step - loss: 1.0035 - accuracy: 0.6444 - val_loss: 0.8915 - val_accuracy: 0.6838 - lr: 0.0010\n",
            "Epoch 4/30\n",
            "782/782 [==============================] - 8s 10ms/step - loss: 0.9052 - accuracy: 0.6805 - val_loss: 0.8103 - val_accuracy: 0.7170 - lr: 0.0010\n",
            "Epoch 5/30\n",
            "782/782 [==============================] - 8s 10ms/step - loss: 0.8351 - accuracy: 0.7072 - val_loss: 0.8084 - val_accuracy: 0.7175 - lr: 0.0010\n",
            "Epoch 6/30\n",
            "782/782 [==============================] - 8s 10ms/step - loss: 0.7284 - accuracy: 0.7440 - val_loss: 0.7217 - val_accuracy: 0.7495 - lr: 5.0000e-04\n",
            "Epoch 7/30\n",
            "782/782 [==============================] - 8s 10ms/step - loss: 0.6853 - accuracy: 0.7593 - val_loss: 0.7245 - val_accuracy: 0.7495 - lr: 5.0000e-04\n",
            "Epoch 8/30\n",
            "782/782 [==============================] - 9s 11ms/step - loss: 0.6635 - accuracy: 0.7654 - val_loss: 0.6771 - val_accuracy: 0.7668 - lr: 5.0000e-04\n",
            "Epoch 9/30\n",
            "782/782 [==============================] - 8s 10ms/step - loss: 0.6312 - accuracy: 0.7779 - val_loss: 0.6588 - val_accuracy: 0.7720 - lr: 5.0000e-04\n",
            "Epoch 10/30\n",
            "782/782 [==============================] - 8s 10ms/step - loss: 0.6118 - accuracy: 0.7848 - val_loss: 0.6536 - val_accuracy: 0.7743 - lr: 5.0000e-04\n",
            "Epoch 11/30\n",
            "782/782 [==============================] - 8s 10ms/step - loss: 0.5428 - accuracy: 0.8095 - val_loss: 0.6195 - val_accuracy: 0.7900 - lr: 1.0000e-04\n",
            "Epoch 12/30\n",
            "782/782 [==============================] - 8s 10ms/step - loss: 0.5207 - accuracy: 0.8179 - val_loss: 0.6181 - val_accuracy: 0.7897 - lr: 1.0000e-04\n",
            "Epoch 13/30\n",
            "782/782 [==============================] - 8s 10ms/step - loss: 0.5176 - accuracy: 0.8161 - val_loss: 0.6169 - val_accuracy: 0.7891 - lr: 1.0000e-04\n",
            "Epoch 14/30\n",
            "782/782 [==============================] - 8s 10ms/step - loss: 0.5076 - accuracy: 0.8211 - val_loss: 0.6135 - val_accuracy: 0.7925 - lr: 1.0000e-04\n",
            "Epoch 15/30\n",
            "782/782 [==============================] - 8s 10ms/step - loss: 0.5008 - accuracy: 0.8235 - val_loss: 0.6055 - val_accuracy: 0.7956 - lr: 1.0000e-04\n",
            "Epoch 16/30\n",
            "782/782 [==============================] - 8s 11ms/step - loss: 0.4963 - accuracy: 0.8253 - val_loss: 0.6067 - val_accuracy: 0.7950 - lr: 1.0000e-04\n",
            "Epoch 17/30\n",
            "782/782 [==============================] - 8s 10ms/step - loss: 0.4881 - accuracy: 0.8261 - val_loss: 0.6058 - val_accuracy: 0.7947 - lr: 1.0000e-04\n",
            "Epoch 18/30\n",
            "782/782 [==============================] - 8s 11ms/step - loss: 0.4836 - accuracy: 0.8286 - val_loss: 0.6074 - val_accuracy: 0.7918 - lr: 1.0000e-04\n",
            "Epoch 19/30\n",
            "782/782 [==============================] - 8s 10ms/step - loss: 0.4763 - accuracy: 0.8311 - val_loss: 0.6038 - val_accuracy: 0.7968 - lr: 1.0000e-04\n",
            "Epoch 20/30\n",
            "782/782 [==============================] - 8s 10ms/step - loss: 0.4746 - accuracy: 0.8311 - val_loss: 0.6057 - val_accuracy: 0.7986 - lr: 1.0000e-04\n",
            "Epoch 21/30\n",
            "782/782 [==============================] - 8s 10ms/step - loss: 0.4653 - accuracy: 0.8374 - val_loss: 0.6052 - val_accuracy: 0.7966 - lr: 1.0000e-04\n",
            "Epoch 22/30\n",
            "782/782 [==============================] - 8s 10ms/step - loss: 0.4626 - accuracy: 0.8353 - val_loss: 0.5990 - val_accuracy: 0.7996 - lr: 1.0000e-04\n",
            "Epoch 23/30\n",
            "782/782 [==============================] - 8s 10ms/step - loss: 0.4541 - accuracy: 0.8389 - val_loss: 0.6023 - val_accuracy: 0.7971 - lr: 1.0000e-04\n",
            "Epoch 24/30\n",
            "782/782 [==============================] - 8s 10ms/step - loss: 0.4514 - accuracy: 0.8392 - val_loss: 0.6015 - val_accuracy: 0.7998 - lr: 1.0000e-04\n",
            "Epoch 25/30\n",
            "782/782 [==============================] - 8s 10ms/step - loss: 0.4440 - accuracy: 0.8404 - val_loss: 0.5997 - val_accuracy: 0.7996 - lr: 1.0000e-04\n",
            "Epoch 26/30\n",
            "782/782 [==============================] - 8s 11ms/step - loss: 0.4400 - accuracy: 0.8437 - val_loss: 0.6055 - val_accuracy: 0.7975 - lr: 1.0000e-04\n",
            "Epoch 27/30\n",
            "782/782 [==============================] - 8s 10ms/step - loss: 0.4359 - accuracy: 0.8456 - val_loss: 0.6016 - val_accuracy: 0.8006 - lr: 1.0000e-04\n",
            "Epoch 28/30\n",
            "782/782 [==============================] - 8s 10ms/step - loss: 0.4306 - accuracy: 0.8471 - val_loss: 0.6007 - val_accuracy: 0.8015 - lr: 1.0000e-04\n",
            "Epoch 29/30\n",
            "782/782 [==============================] - 8s 11ms/step - loss: 0.4310 - accuracy: 0.8456 - val_loss: 0.5998 - val_accuracy: 0.8009 - lr: 1.0000e-04\n",
            "Epoch 30/30\n",
            "782/782 [==============================] - 9s 11ms/step - loss: 0.4273 - accuracy: 0.8491 - val_loss: 0.5992 - val_accuracy: 0.8021 - lr: 1.0000e-04\n"
          ]
        }
      ],
      "source": [
        "model_cnn_test.compile(optimizer=tf.keras.optimizers.Adam(),\n",
        "              loss='sparse_categorical_crossentropy',\n",
        "              metrics=['accuracy'])\n",
        "\n",
        "###### TRAIN MODEL HERE ( .fit() ) ######\n",
        "history_cnn_test = model_cnn_test.fit(x_train, y_train, epochs=30, batch_size=64, validation_data=(x_test, y_test), callbacks=[my_scheduler])"
      ]
    },
    {
      "cell_type": "code",
      "execution_count": 32,
      "metadata": {
        "id": "xXbS_5L9auiH",
        "colab": {
          "base_uri": "https://localhost:8080/"
        },
        "outputId": "cb78d4ad-8756-4df9-b601-202e34a2ec3e"
      },
      "outputs": [
        {
          "output_type": "stream",
          "name": "stdout",
          "text": [
            "313/313 [==============================] - 1s 3ms/step - loss: 0.5992 - accuracy: 0.8021\n"
          ]
        }
      ],
      "source": [
        "evaluation_cnn_test = model_cnn_test.evaluate(x_test, y_test)"
      ]
    },
    {
      "cell_type": "code",
      "source": [
        "model_cnn_test.compile(optimizer=tf.keras.optimizers.SGD(),\n",
        "              loss='sparse_categorical_crossentropy',\n",
        "              metrics=['accuracy'])\n",
        "\n",
        "###### TRAIN MODEL HERE ( .fit() ) ######\n",
        "history_cnn_test_SGD = model_cnn_test.fit(x_train, y_train, epochs=30, batch_size=64, callbacks=[my_scheduler], validation_data=(x_test, y_test))"
      ],
      "metadata": {
        "id": "gnBAFGHmD7kl",
        "colab": {
          "base_uri": "https://localhost:8080/"
        },
        "outputId": "11c08c97-9f01-4c7d-bdc0-d3b275be51a2"
      },
      "execution_count": 33,
      "outputs": [
        {
          "output_type": "stream",
          "name": "stdout",
          "text": [
            "Epoch 1/30\n",
            "782/782 [==============================] - 10s 10ms/step - loss: 0.4111 - accuracy: 0.8531 - val_loss: 0.5985 - val_accuracy: 0.8032 - lr: 0.0010\n",
            "Epoch 2/30\n",
            "782/782 [==============================] - 8s 10ms/step - loss: 0.4126 - accuracy: 0.8528 - val_loss: 0.6005 - val_accuracy: 0.8030 - lr: 0.0010\n",
            "Epoch 3/30\n",
            "782/782 [==============================] - 7s 9ms/step - loss: 0.4106 - accuracy: 0.8527 - val_loss: 0.6023 - val_accuracy: 0.8032 - lr: 0.0010\n",
            "Epoch 4/30\n",
            "782/782 [==============================] - 8s 10ms/step - loss: 0.4062 - accuracy: 0.8549 - val_loss: 0.6023 - val_accuracy: 0.8032 - lr: 0.0010\n",
            "Epoch 5/30\n",
            "782/782 [==============================] - 8s 10ms/step - loss: 0.4092 - accuracy: 0.8543 - val_loss: 0.5987 - val_accuracy: 0.8030 - lr: 0.0010\n",
            "Epoch 6/30\n",
            "782/782 [==============================] - 7s 10ms/step - loss: 0.4033 - accuracy: 0.8568 - val_loss: 0.5992 - val_accuracy: 0.8030 - lr: 5.0000e-04\n",
            "Epoch 7/30\n",
            "782/782 [==============================] - 8s 10ms/step - loss: 0.4064 - accuracy: 0.8537 - val_loss: 0.5986 - val_accuracy: 0.8046 - lr: 5.0000e-04\n",
            "Epoch 8/30\n",
            "782/782 [==============================] - 8s 10ms/step - loss: 0.4015 - accuracy: 0.8565 - val_loss: 0.5998 - val_accuracy: 0.8035 - lr: 5.0000e-04\n",
            "Epoch 9/30\n",
            "782/782 [==============================] - 8s 10ms/step - loss: 0.4028 - accuracy: 0.8561 - val_loss: 0.5990 - val_accuracy: 0.8047 - lr: 5.0000e-04\n",
            "Epoch 10/30\n",
            "782/782 [==============================] - 8s 10ms/step - loss: 0.4082 - accuracy: 0.8544 - val_loss: 0.5996 - val_accuracy: 0.8031 - lr: 5.0000e-04\n",
            "Epoch 11/30\n",
            "782/782 [==============================] - 7s 10ms/step - loss: 0.4059 - accuracy: 0.8540 - val_loss: 0.5966 - val_accuracy: 0.8047 - lr: 1.0000e-04\n",
            "Epoch 12/30\n",
            "782/782 [==============================] - 8s 10ms/step - loss: 0.4056 - accuracy: 0.8553 - val_loss: 0.5968 - val_accuracy: 0.8053 - lr: 1.0000e-04\n",
            "Epoch 13/30\n",
            "782/782 [==============================] - 8s 11ms/step - loss: 0.3999 - accuracy: 0.8569 - val_loss: 0.5965 - val_accuracy: 0.8047 - lr: 1.0000e-04\n",
            "Epoch 14/30\n",
            "782/782 [==============================] - 8s 10ms/step - loss: 0.4032 - accuracy: 0.8549 - val_loss: 0.5974 - val_accuracy: 0.8051 - lr: 1.0000e-04\n",
            "Epoch 15/30\n",
            "782/782 [==============================] - 8s 10ms/step - loss: 0.3985 - accuracy: 0.8579 - val_loss: 0.5964 - val_accuracy: 0.8055 - lr: 1.0000e-04\n",
            "Epoch 16/30\n",
            "782/782 [==============================] - 8s 10ms/step - loss: 0.4023 - accuracy: 0.8557 - val_loss: 0.5974 - val_accuracy: 0.8052 - lr: 1.0000e-04\n",
            "Epoch 17/30\n",
            "782/782 [==============================] - 8s 10ms/step - loss: 0.4044 - accuracy: 0.8556 - val_loss: 0.5969 - val_accuracy: 0.8049 - lr: 1.0000e-04\n",
            "Epoch 18/30\n",
            "782/782 [==============================] - 8s 10ms/step - loss: 0.4042 - accuracy: 0.8550 - val_loss: 0.5964 - val_accuracy: 0.8044 - lr: 1.0000e-04\n",
            "Epoch 19/30\n",
            "782/782 [==============================] - 8s 10ms/step - loss: 0.4015 - accuracy: 0.8561 - val_loss: 0.5967 - val_accuracy: 0.8057 - lr: 1.0000e-04\n",
            "Epoch 20/30\n",
            "782/782 [==============================] - 8s 10ms/step - loss: 0.4015 - accuracy: 0.8561 - val_loss: 0.5970 - val_accuracy: 0.8048 - lr: 1.0000e-04\n",
            "Epoch 21/30\n",
            "782/782 [==============================] - 9s 11ms/step - loss: 0.4041 - accuracy: 0.8550 - val_loss: 0.5967 - val_accuracy: 0.8058 - lr: 1.0000e-04\n",
            "Epoch 22/30\n",
            "782/782 [==============================] - 7s 10ms/step - loss: 0.4014 - accuracy: 0.8557 - val_loss: 0.5965 - val_accuracy: 0.8052 - lr: 1.0000e-04\n",
            "Epoch 23/30\n",
            "782/782 [==============================] - 8s 10ms/step - loss: 0.4037 - accuracy: 0.8567 - val_loss: 0.5963 - val_accuracy: 0.8054 - lr: 1.0000e-04\n",
            "Epoch 24/30\n",
            "782/782 [==============================] - 8s 10ms/step - loss: 0.3986 - accuracy: 0.8563 - val_loss: 0.5966 - val_accuracy: 0.8053 - lr: 1.0000e-04\n",
            "Epoch 25/30\n",
            "782/782 [==============================] - 8s 10ms/step - loss: 0.4031 - accuracy: 0.8572 - val_loss: 0.5961 - val_accuracy: 0.8059 - lr: 1.0000e-04\n",
            "Epoch 26/30\n",
            "782/782 [==============================] - 8s 10ms/step - loss: 0.4004 - accuracy: 0.8564 - val_loss: 0.5967 - val_accuracy: 0.8044 - lr: 1.0000e-04\n",
            "Epoch 27/30\n",
            "782/782 [==============================] - 8s 10ms/step - loss: 0.3992 - accuracy: 0.8578 - val_loss: 0.5973 - val_accuracy: 0.8044 - lr: 1.0000e-04\n",
            "Epoch 28/30\n",
            "782/782 [==============================] - 8s 10ms/step - loss: 0.4026 - accuracy: 0.8565 - val_loss: 0.5975 - val_accuracy: 0.8056 - lr: 1.0000e-04\n",
            "Epoch 29/30\n",
            "782/782 [==============================] - 8s 10ms/step - loss: 0.3998 - accuracy: 0.8562 - val_loss: 0.5982 - val_accuracy: 0.8044 - lr: 1.0000e-04\n",
            "Epoch 30/30\n",
            "782/782 [==============================] - 8s 10ms/step - loss: 0.4026 - accuracy: 0.8563 - val_loss: 0.5972 - val_accuracy: 0.8053 - lr: 1.0000e-04\n"
          ]
        }
      ]
    },
    {
      "cell_type": "code",
      "source": [
        "evaluation_cnn_test_SGD = model_cnn_test.evaluate(x_test, y_test)\n"
      ],
      "metadata": {
        "id": "M9C6uqmED-gp",
        "colab": {
          "base_uri": "https://localhost:8080/"
        },
        "outputId": "83bcc487-831f-45fe-8061-9191bcf2a2a7"
      },
      "execution_count": 34,
      "outputs": [
        {
          "output_type": "stream",
          "name": "stdout",
          "text": [
            "313/313 [==============================] - 1s 3ms/step - loss: 0.5972 - accuracy: 0.8053\n"
          ]
        }
      ]
    }
  ],
  "metadata": {
    "accelerator": "GPU",
    "colab": {
      "gpuType": "T4",
      "provenance": []
    },
    "gpuClass": "standard",
    "kernelspec": {
      "display_name": "Python 3",
      "name": "python3"
    }
  },
  "nbformat": 4,
  "nbformat_minor": 0
}