{
  "nbformat": 4,
  "nbformat_minor": 0,
  "metadata": {
    "colab": {
      "provenance": [],
      "toc_visible": true
    },
    "kernelspec": {
      "name": "python3",
      "display_name": "Python 3"
    },
    "language_info": {
      "name": "python"
    }
  },
  "cells": [
    {
      "cell_type": "markdown",
      "source": [
        "# Εισαγωγή των απαραίτητων βιβλιοθηκών"
      ],
      "metadata": {
        "id": "k_R1FU6dwo8P"
      }
    },
    {
      "cell_type": "code",
      "execution_count": 71,
      "metadata": {
        "id": "fixY-ARKCX8H"
      },
      "outputs": [],
      "source": [
        "import os\n",
        "import sys\n",
        "import time\n",
        "from datetime import datetime"
      ]
    },
    {
      "cell_type": "code",
      "source": [
        "# Create a text file with some data for testing purposes\n",
        "with open(\"test.txt\", \"w\") as test_file:\n",
        "  test_file.write(\"I have some secret data inside here\")"
      ],
      "metadata": {
        "id": "BD_SpjDvg1k6"
      },
      "execution_count": 72,
      "outputs": []
    },
    {
      "cell_type": "markdown",
      "source": [
        "# a)Read a text file"
      ],
      "metadata": {
        "id": "zwRuentiw0vw"
      }
    },
    {
      "cell_type": "code",
      "source": [
        "# Read and show data of our test file\n",
        "readData = open(\"test.txt\", \"r\")\n",
        "print(readData.read())"
      ],
      "metadata": {
        "colab": {
          "base_uri": "https://localhost:8080/"
        },
        "id": "91FLq4gIx2wV",
        "outputId": "b6539dfb-4ad8-43e5-81cc-1b7bf04c4803"
      },
      "execution_count": 73,
      "outputs": [
        {
          "output_type": "stream",
          "name": "stdout",
          "text": [
            "I have some secret data inside here\n"
          ]
        }
      ]
    },
    {
      "cell_type": "code",
      "source": [
        "# Convert the file to binary\n",
        "myFile = open(\"test.txt\", \"rb\")\n",
        "# Read the data and create a variable\n",
        "myData = myFile.read()"
      ],
      "metadata": {
        "id": "PoXk0pfgHolp"
      },
      "execution_count": 74,
      "outputs": []
    },
    {
      "cell_type": "markdown",
      "source": [
        "# Part a1"
      ],
      "metadata": {
        "id": "AWQ98KcFA6cd"
      }
    },
    {
      "cell_type": "markdown",
      "source": [
        "# a)1. Fernet\n",
        "Χρήση Fernet για το πρώτο ερώτημα."
      ],
      "metadata": {
        "id": "tns8s4zpzcJC"
      }
    },
    {
      "cell_type": "code",
      "source": [
        "# Import Fernet\n",
        "from cryptography.fernet import Fernet"
      ],
      "metadata": {
        "id": "LmQP3Sz959pN"
      },
      "execution_count": 75,
      "outputs": []
    },
    {
      "cell_type": "code",
      "source": [
        "# Generate and show key (only for exercise purposes)\n",
        "fernetKey = Fernet.generate_key()\n",
        "fernetKey"
      ],
      "metadata": {
        "colab": {
          "base_uri": "https://localhost:8080/"
        },
        "id": "0VdVSww6Cs3H",
        "outputId": "ebc73d4b-5194-40ba-8004-a1a6970032f3"
      },
      "execution_count": 76,
      "outputs": [
        {
          "output_type": "execute_result",
          "data": {
            "text/plain": [
              "b'Cu2D1U4-jw43aPGfNw9NV5n0Gh3Bq76PjIyVzaoA3UE='"
            ]
          },
          "metadata": {},
          "execution_count": 76
        }
      ]
    },
    {
      "cell_type": "code",
      "source": [
        "# Pass the key to Fernet\n",
        "myFernet = Fernet(fernetKey)"
      ],
      "metadata": {
        "id": "yeFvkHjSG6v9"
      },
      "execution_count": 77,
      "outputs": []
    },
    {
      "cell_type": "code",
      "source": [
        "# Encrypt the data\n",
        "start_time = time.time()\n",
        "myEncryptedFernet = myFernet.encrypt(myData)\n",
        "fernet_time = time.time() - start_time"
      ],
      "metadata": {
        "id": "Ty6p-fUVHCyM"
      },
      "execution_count": 78,
      "outputs": []
    },
    {
      "cell_type": "code",
      "source": [
        "# Print the encrypted data\n",
        "print(myEncryptedFernet)\n",
        "ts = myFernet.extract_timestamp(myEncryptedFernet)\n",
        "# Show timestamp\n",
        "print(datetime.utcfromtimestamp(ts).strftime('%Y-%m-%d %H:%M:%S'))"
      ],
      "metadata": {
        "colab": {
          "base_uri": "https://localhost:8080/"
        },
        "id": "Ft1cYnhSJhe9",
        "outputId": "5bcea5ad-f873-4497-ad65-beaed44bdfd7"
      },
      "execution_count": 79,
      "outputs": [
        {
          "output_type": "stream",
          "name": "stdout",
          "text": [
            "b'gAAAAABmiO-hT56xs3wd5x-SWzWAevX6bYoz6SqdgrBnII0Eijm-6lps_VQ1dpjWjMeJLlhfYlxeUr9M0qw46LUHEWyjujeLoNw2vdJm4Q3YwFu_4udTaXAR_F7duqbTYwIzAquCahO7'\n",
            "2024-07-06 07:17:53\n"
          ]
        }
      ]
    },
    {
      "cell_type": "code",
      "source": [
        "# Decrypt data\n",
        "myFernet.decrypt(myEncryptedFernet)"
      ],
      "metadata": {
        "colab": {
          "base_uri": "https://localhost:8080/"
        },
        "id": "qA1Ih_sxKTEN",
        "outputId": "10d86395-735f-40d1-9da3-76ac6b699c27"
      },
      "execution_count": 80,
      "outputs": [
        {
          "output_type": "execute_result",
          "data": {
            "text/plain": [
              "b'I have some secret data inside here'"
            ]
          },
          "metadata": {},
          "execution_count": 80
        }
      ]
    },
    {
      "cell_type": "code",
      "source": [
        "# Write the enrypted data to a new text file\n",
        "with open(\"test_encrypted_fernet.txt\", \"wb\") as encrypted_file:\n",
        "  encrypted_file.write(myEncryptedFernet)"
      ],
      "metadata": {
        "id": "2e55A_aJ0PBo"
      },
      "execution_count": 81,
      "outputs": []
    },
    {
      "cell_type": "code",
      "source": [
        "# Show data of our test ecrypted file\n",
        "readEncryptedDataFernet = open(\"test_encrypted_fernet.txt\", \"r\")\n",
        "print(readEncryptedDataFernet.read())"
      ],
      "metadata": {
        "colab": {
          "base_uri": "https://localhost:8080/"
        },
        "id": "6nq9EZzV5Hg2",
        "outputId": "eed13f42-6507-4496-9324-6cf455d06fb8"
      },
      "execution_count": 82,
      "outputs": [
        {
          "output_type": "stream",
          "name": "stdout",
          "text": [
            "gAAAAABmiO-hT56xs3wd5x-SWzWAevX6bYoz6SqdgrBnII0Eijm-6lps_VQ1dpjWjMeJLlhfYlxeUr9M0qw46LUHEWyjujeLoNw2vdJm4Q3YwFu_4udTaXAR_F7duqbTYwIzAquCahO7\n"
          ]
        }
      ]
    },
    {
      "cell_type": "code",
      "source": [
        "# Convert the encrypted file to binary\n",
        "myEncryptedFileFernet = open(\"test_encrypted_fernet.txt\", \"rb\")\n",
        "# Read the data\n",
        "myEncryptedDataFernet = myEncryptedFileFernet.read()"
      ],
      "metadata": {
        "id": "oU3FKMFL0w4Q"
      },
      "execution_count": 83,
      "outputs": []
    },
    {
      "cell_type": "code",
      "source": [
        "# Show the encrypted data from file\n",
        "myFernet.decrypt(myEncryptedDataFernet)"
      ],
      "metadata": {
        "colab": {
          "base_uri": "https://localhost:8080/"
        },
        "id": "gTRx9J_z068G",
        "outputId": "f4e1ec91-f7ad-4bf8-cc31-eea7aec2a48b"
      },
      "execution_count": 84,
      "outputs": [
        {
          "output_type": "execute_result",
          "data": {
            "text/plain": [
              "b'I have some secret data inside here'"
            ]
          },
          "metadata": {},
          "execution_count": 84
        }
      ]
    },
    {
      "cell_type": "markdown",
      "source": [
        "# a)1. ChaCha20Poly1305\n",
        "Χρήση ChaCha20Poly1305 για το πρώτο ερώτημα."
      ],
      "metadata": {
        "id": "fN9MQuztRYzM"
      }
    },
    {
      "cell_type": "code",
      "source": [
        "# Import ChaCha20Poly1305\n",
        "from cryptography.hazmat.primitives.ciphers.aead import ChaCha20Poly1305"
      ],
      "metadata": {
        "id": "vxKsvCjFRhAc"
      },
      "execution_count": 85,
      "outputs": []
    },
    {
      "cell_type": "code",
      "source": [
        "# Generate and show key (only for exercise purposes)\n",
        "chachaKey = ChaCha20Poly1305.generate_key()\n",
        "chachaKey"
      ],
      "metadata": {
        "id": "Px-s9cBWRrCB",
        "colab": {
          "base_uri": "https://localhost:8080/"
        },
        "outputId": "89dbfe3c-f69b-40fe-8732-3aeb61b94fc9"
      },
      "execution_count": 86,
      "outputs": [
        {
          "output_type": "execute_result",
          "data": {
            "text/plain": [
              "b'\\x9d\\xc6(\\x92)O\\xa3\\x8am%}\\xac\\x9cc\\xe8V\"\\x01\\x8dL\\xf1\\xfa\\xb2[\\x06\\xa6\\xef\\x81\\xb5\\xca\\xbd\\x8e'"
            ]
          },
          "metadata": {},
          "execution_count": 86
        }
      ]
    },
    {
      "cell_type": "code",
      "source": [
        "# Pass key to ChaCha20Poly1305\n",
        "myChacha = ChaCha20Poly1305(chachaKey)"
      ],
      "metadata": {
        "id": "N0bAZIrURvXl"
      },
      "execution_count": 87,
      "outputs": []
    },
    {
      "cell_type": "code",
      "source": [
        "# Create a 12 byte value.\n",
        "chacha_nonce = os.urandom(12)"
      ],
      "metadata": {
        "id": "y4uVTS6NRyi6"
      },
      "execution_count": 88,
      "outputs": []
    },
    {
      "cell_type": "code",
      "source": [
        "# Associated data\n",
        "aad = b\"authenticated but unencrypted data\""
      ],
      "metadata": {
        "id": "Kge7tlU2WgA1"
      },
      "execution_count": 89,
      "outputs": []
    },
    {
      "cell_type": "code",
      "source": [
        "# Encrypt the data\n",
        "start_time = time.time()\n",
        "myEncryptedChacha = myChacha.encrypt(chacha_nonce, myData, aad)\n",
        "chacha_time = time.time() - start_time\n",
        "myEncryptedChacha"
      ],
      "metadata": {
        "id": "gdBn60qDR0fn",
        "colab": {
          "base_uri": "https://localhost:8080/"
        },
        "outputId": "ece14ccc-18bc-4039-a534-4b2d3917c5ad"
      },
      "execution_count": 90,
      "outputs": [
        {
          "output_type": "execute_result",
          "data": {
            "text/plain": [
              "b'\\xb7\\x16\\x02\\x01y?{)\\xdc\\xbb\\xd3a\\xb0u\\xa1\\xcc\\xe6\\xb2\\x10\\x95\\t\\xfa*ks\\x867/\\x16\\x8f\\xf0E\\xb7\\xec\\xe6P\\xa9\\xc4 \\xa7\\ns\\xc1\\x00\\xdf2\\x83\\x9f\\xa0\\xe9j'"
            ]
          },
          "metadata": {},
          "execution_count": 90
        }
      ]
    },
    {
      "cell_type": "code",
      "source": [
        "# Decrypt the data\n",
        "myChacha.decrypt(chacha_nonce, myEncryptedChacha, aad)"
      ],
      "metadata": {
        "colab": {
          "base_uri": "https://localhost:8080/"
        },
        "id": "R6Z1ItjSTmot",
        "outputId": "eebb37cc-6770-462b-85f3-c72dd32e6da1"
      },
      "execution_count": 91,
      "outputs": [
        {
          "output_type": "execute_result",
          "data": {
            "text/plain": [
              "b'I have some secret data inside here'"
            ]
          },
          "metadata": {},
          "execution_count": 91
        }
      ]
    },
    {
      "cell_type": "code",
      "source": [
        "# Save the encrypted data to a file\n",
        "with open(\"test_encrypted_chacha.txt\", \"wb\") as encrypted_file:\n",
        "  encrypted_file.write(myEncryptedChacha)"
      ],
      "metadata": {
        "id": "-vFbbOp28sJ-"
      },
      "execution_count": 92,
      "outputs": []
    },
    {
      "cell_type": "code",
      "source": [
        "# Show data of our test ecrypted file\n",
        "myEncryptedFileChacha = open(\"test_encrypted_chacha.txt\", \"rb\")\n",
        "myEncryptedDataChacha = myEncryptedFileChacha.read()\n",
        "print(myEncryptedDataChacha)"
      ],
      "metadata": {
        "colab": {
          "base_uri": "https://localhost:8080/"
        },
        "outputId": "0e12cf0d-d47d-41c5-cc7e-1008aab33c64",
        "id": "02VSxWnp800m"
      },
      "execution_count": 93,
      "outputs": [
        {
          "output_type": "stream",
          "name": "stdout",
          "text": [
            "b'\\xb7\\x16\\x02\\x01y?{)\\xdc\\xbb\\xd3a\\xb0u\\xa1\\xcc\\xe6\\xb2\\x10\\x95\\t\\xfa*ks\\x867/\\x16\\x8f\\xf0E\\xb7\\xec\\xe6P\\xa9\\xc4 \\xa7\\ns\\xc1\\x00\\xdf2\\x83\\x9f\\xa0\\xe9j'\n"
          ]
        }
      ]
    },
    {
      "cell_type": "code",
      "source": [
        "# Decrypt the file data\n",
        "myChacha.decrypt(chacha_nonce, myEncryptedDataChacha, aad)"
      ],
      "metadata": {
        "colab": {
          "base_uri": "https://localhost:8080/"
        },
        "id": "Ls9zs2ne-rT0",
        "outputId": "5cd3a6ab-2816-4af6-8a23-9393161412c4"
      },
      "execution_count": 94,
      "outputs": [
        {
          "output_type": "execute_result",
          "data": {
            "text/plain": [
              "b'I have some secret data inside here'"
            ]
          },
          "metadata": {},
          "execution_count": 94
        }
      ]
    },
    {
      "cell_type": "markdown",
      "source": [
        "# a)1. AES-GCM\n",
        "Χρήση AES-GCM για το πρώτο ερώτημα.\n",
        "\n"
      ],
      "metadata": {
        "id": "mK6GQQ58T3Ul"
      }
    },
    {
      "cell_type": "code",
      "source": [
        "# Import AESGCM\n",
        "from cryptography.hazmat.primitives.ciphers.aead import AESGCM"
      ],
      "metadata": {
        "id": "Vs4aEr0aT-wX"
      },
      "execution_count": 95,
      "outputs": []
    },
    {
      "cell_type": "code",
      "source": [
        "# Generate and show key (only for exercise purposes)\n",
        "aesgcmKey = AESGCM.generate_key(bit_length=128)\n",
        "aesgcmKey"
      ],
      "metadata": {
        "id": "CuZrB0LpUFoh",
        "colab": {
          "base_uri": "https://localhost:8080/"
        },
        "outputId": "29d49ed4-3550-4d87-83b2-741ffd71c195"
      },
      "execution_count": 96,
      "outputs": [
        {
          "output_type": "execute_result",
          "data": {
            "text/plain": [
              "b'[,W\\xf4\\xae\\x11<x\\x90-?\\xd9hP\\x0e\\xcd'"
            ]
          },
          "metadata": {},
          "execution_count": 96
        }
      ]
    },
    {
      "cell_type": "code",
      "source": [
        "# Pass key to AESGCM\n",
        "myAesgcm = AESGCM(aesgcmKey)"
      ],
      "metadata": {
        "id": "UJxUZCrrUKe5"
      },
      "execution_count": 97,
      "outputs": []
    },
    {
      "cell_type": "code",
      "source": [
        "# Create a 12 byte value.\n",
        "aes_nonce = os.urandom(12)"
      ],
      "metadata": {
        "id": "NkG-_6FYUM2Z"
      },
      "execution_count": 98,
      "outputs": []
    },
    {
      "cell_type": "code",
      "source": [
        "# Encrypt the data\n",
        "start_time = time.time()\n",
        "myEncryptedAes = myAesgcm.encrypt(aes_nonce, myData, None)\n",
        "aesgcm_time = time.time() - start_time\n",
        "myEncryptedAes"
      ],
      "metadata": {
        "id": "Y1a2_hGeUP-q",
        "colab": {
          "base_uri": "https://localhost:8080/"
        },
        "outputId": "b428be7a-feb1-4d0c-bc07-e3d09a3eb336"
      },
      "execution_count": 99,
      "outputs": [
        {
          "output_type": "execute_result",
          "data": {
            "text/plain": [
              "b'\\x9d8\\x89^J\\x05\\xc8\\xfe]\\x8a\\xdb\\x04I\\tx\\x17\\xd5\\xeb\\x8f\\t0\\x06dVs\\xb6\\xcd\\x99\\x9a\\xecfa\\x16\\xe1Z\\x19\\xec~\\xbdcl\\x01\\xd0\\xdd%\\x95`\\xf5\\x1c\\xce\\xac'"
            ]
          },
          "metadata": {},
          "execution_count": 99
        }
      ]
    },
    {
      "cell_type": "code",
      "source": [
        "# Decrypt the data\n",
        "myAesgcm.decrypt(aes_nonce, myEncryptedAes, None)"
      ],
      "metadata": {
        "colab": {
          "base_uri": "https://localhost:8080/"
        },
        "id": "e-5OF25cUUgV",
        "outputId": "ad1e8d10-1afd-4650-febb-4a8e9591e5e7"
      },
      "execution_count": 100,
      "outputs": [
        {
          "output_type": "execute_result",
          "data": {
            "text/plain": [
              "b'I have some secret data inside here'"
            ]
          },
          "metadata": {},
          "execution_count": 100
        }
      ]
    },
    {
      "cell_type": "code",
      "source": [
        "# Save the encrypted data to a file\n",
        "with open(\"test_encrypted_aesgcm.txt\", \"wb\") as encrypted_file:\n",
        "  encrypted_file.write(myEncryptedAes)"
      ],
      "metadata": {
        "id": "g_sEibtzM1Kx"
      },
      "execution_count": 101,
      "outputs": []
    },
    {
      "cell_type": "code",
      "source": [
        "# Show data of our test ecrypted file\n",
        "myEncryptedFileAes = open(\"test_encrypted_aesgcm.txt\", \"rb\")\n",
        "myEncryptedDataAes = myEncryptedFileAes.read()\n",
        "print(myEncryptedDataAes)"
      ],
      "metadata": {
        "colab": {
          "base_uri": "https://localhost:8080/"
        },
        "id": "WMWTRN-qNLQB",
        "outputId": "187076f2-cde7-4e7c-8233-53b24a8c65b0"
      },
      "execution_count": 102,
      "outputs": [
        {
          "output_type": "stream",
          "name": "stdout",
          "text": [
            "b'\\x9d8\\x89^J\\x05\\xc8\\xfe]\\x8a\\xdb\\x04I\\tx\\x17\\xd5\\xeb\\x8f\\t0\\x06dVs\\xb6\\xcd\\x99\\x9a\\xecfa\\x16\\xe1Z\\x19\\xec~\\xbdcl\\x01\\xd0\\xdd%\\x95`\\xf5\\x1c\\xce\\xac'\n"
          ]
        }
      ]
    },
    {
      "cell_type": "code",
      "source": [
        "# Decrypt the file data\n",
        "myAesgcm.decrypt(aes_nonce, myEncryptedDataAes, None)"
      ],
      "metadata": {
        "colab": {
          "base_uri": "https://localhost:8080/"
        },
        "id": "qzY0jlQYNbKB",
        "outputId": "e558f04f-6bf9-4fe2-a3cc-5089f310b819"
      },
      "execution_count": 103,
      "outputs": [
        {
          "output_type": "execute_result",
          "data": {
            "text/plain": [
              "b'I have some secret data inside here'"
            ]
          },
          "metadata": {},
          "execution_count": 103
        }
      ]
    },
    {
      "cell_type": "markdown",
      "source": [
        "### Σύγκριση μεγεθών"
      ],
      "metadata": {
        "id": "1yvKbUw4QTEM"
      }
    },
    {
      "cell_type": "code",
      "source": [
        "print(\"myData length: \",len(myData))\n",
        "print(\"myEncryptedFernet length: \",len(myEncryptedFernet))\n",
        "print(\"myEncryptedChacha length: \",len(myEncryptedChacha))\n",
        "print(\"myEncryptedAes length: \",len(myEncryptedAes))\n",
        "print(\"--------------------------------------------------------\")\n",
        "print(\"Memory Size of myData: \", sys.getsizeof(myData))\n",
        "print(\"Memory Size of myEncryptedFernet: \",sys.getsizeof(myEncryptedFernet))\n",
        "print(\"Memory Size of myEncryptedChacha: \",sys.getsizeof(myEncryptedChacha))\n",
        "print(\"Memory Size of myEncryptedAes: \",sys.getsizeof(myEncryptedAes))\n",
        "print(\"--------------------------------------------------------\")\n",
        "print(\"Fernet time: \",fernet_time)\n",
        "print(\"ChaCha20Poly1305 time: \",chacha_time)\n",
        "print(\"AES-GCM time: \",aesgcm_time)"
      ],
      "metadata": {
        "colab": {
          "base_uri": "https://localhost:8080/"
        },
        "id": "R3ZJPf2mXJdN",
        "outputId": "590c95b8-9277-4b7d-e61c-f431c0323acd"
      },
      "execution_count": 104,
      "outputs": [
        {
          "output_type": "stream",
          "name": "stdout",
          "text": [
            "myData length:  35\n",
            "myEncryptedFernet length:  140\n",
            "myEncryptedChacha length:  51\n",
            "myEncryptedAes length:  51\n",
            "--------------------------------------------------------\n",
            "Memory Size of myData:  68\n",
            "Memory Size of myEncryptedFernet:  173\n",
            "Memory Size of myEncryptedChacha:  84\n",
            "Memory Size of myEncryptedAes:  84\n",
            "--------------------------------------------------------\n",
            "Fernet time:  0.0007605552673339844\n",
            "ChaCha20Poly1305 time:  0.0002455711364746094\n",
            "AES-GCM time:  0.0004076957702636719\n"
          ]
        }
      ]
    },
    {
      "cell_type": "markdown",
      "source": [
        "### Ανάλυση"
      ],
      "metadata": {
        "id": "n1B9gp8NQYSL"
      }
    },
    {
      "cell_type": "markdown",
      "source": [
        "Απο τη σύγκριση των μεγεθών των κωδικοποιημένων πληροφοριών παρατηρούμε ότι, η πληροφορία που κωδικοποιείται με τη χρήση Fernet είναι μεγαλύτερη λόγω της προσθήκης μεταδεδομένων (metadata) ενώ της ChaCha20Poly1305 και της AES-GCM είναι ίδια αφού και οι δύο προσθέτουν authentication tag μεγέθους 16-byte."
      ],
      "metadata": {
        "id": "kVmUi0t88pnN"
      }
    },
    {
      "cell_type": "markdown",
      "source": [
        "# Part a2"
      ],
      "metadata": {
        "id": "MdatNiNjBE1l"
      }
    },
    {
      "cell_type": "code",
      "source": [
        "# Create a second file for testing purposes, note the \"_\" at the end of the line\n",
        "with open(\"test2.txt\", \"w\") as test2_file:\n",
        "  test2_file.write(\"I have some secret data inside here_\")"
      ],
      "metadata": {
        "id": "83dc9w0phdcH"
      },
      "execution_count": 105,
      "outputs": []
    },
    {
      "cell_type": "code",
      "source": [
        "# Open and read the data of test2 file\n",
        "myFile2 = open(\"test2.txt\", \"rb\")\n",
        "myData2 = myFile2.read()"
      ],
      "metadata": {
        "id": "z8H7wOkyGK0N"
      },
      "execution_count": 106,
      "outputs": []
    },
    {
      "cell_type": "code",
      "source": [
        "# Import exception handling for our tests\n",
        "from cryptography.exceptions import InvalidSignature"
      ],
      "metadata": {
        "id": "iNvroBhnfT-i"
      },
      "execution_count": 107,
      "outputs": []
    },
    {
      "cell_type": "code",
      "source": [
        "# Create a key for all cases ONLY for exercise purposes\n",
        "key = os.urandom(32) # In real scenario each key must only be used once"
      ],
      "metadata": {
        "id": "weUsNsXOfoAp"
      },
      "execution_count": 108,
      "outputs": []
    },
    {
      "cell_type": "markdown",
      "source": [
        "## 2.CMAC\n",
        "Χρήση CMAC για το δεύτερο ερώτημα.\n"
      ],
      "metadata": {
        "id": "cxgNHKlyQ5jL"
      }
    },
    {
      "cell_type": "code",
      "source": [
        "# Import CMAC\n",
        "from cryptography.hazmat.primitives import cmac\n",
        "from cryptography.hazmat.primitives.ciphers import algorithms"
      ],
      "metadata": {
        "id": "mOc9mH6Y-cK3"
      },
      "execution_count": 109,
      "outputs": []
    },
    {
      "cell_type": "code",
      "source": [
        "# Initialize CMAC object with AES algorithm\n",
        "c1 = cmac.CMAC(algorithms.AES(key))\n",
        "# Update the CMAC object with the data we want to authenticate\n",
        "c1.update(myData)\n",
        "# Finalize the current context and get the CMAC tag\n",
        "myCmac_tag1 = c1.finalize()\n",
        "print(myCmac_tag1)"
      ],
      "metadata": {
        "id": "S0p5HB2dgK_j",
        "colab": {
          "base_uri": "https://localhost:8080/"
        },
        "outputId": "1f4be454-4605-48b2-e7b1-4c4a63ada83d"
      },
      "execution_count": 110,
      "outputs": [
        {
          "output_type": "stream",
          "name": "stdout",
          "text": [
            "b'\\x97\\xad\\x12T\\xb5L\\x9em*Z`\\x15\\x08\\x88}H'\n"
          ]
        }
      ]
    },
    {
      "cell_type": "code",
      "source": [
        "# Initialize another CMAC object for test purposes\n",
        "c2 = cmac.CMAC(algorithms.AES(key))\n",
        "# The data to hash\n",
        "c2.update(myData2)\n"
      ],
      "metadata": {
        "id": "BOO0Pa-mGAHn"
      },
      "execution_count": 111,
      "outputs": []
    },
    {
      "cell_type": "code",
      "source": [
        "# Verify data integrity\n",
        "try:\n",
        "  c2.verify(myCmac_tag1)\n",
        "  print(\"File has not changed\")\n",
        "except InvalidSignature:\n",
        "  print(\"File has changed\")"
      ],
      "metadata": {
        "id": "EnCDx4Cbh3rf",
        "colab": {
          "base_uri": "https://localhost:8080/"
        },
        "outputId": "78d6ad0a-b390-4d00-f609-fcaab5f454fd"
      },
      "execution_count": 112,
      "outputs": [
        {
          "output_type": "stream",
          "name": "stdout",
          "text": [
            "File has changed\n"
          ]
        }
      ]
    },
    {
      "cell_type": "code",
      "source": [
        "# Initialize CMAC object for test purposes\n",
        "c2 = cmac.CMAC(algorithms.AES(key))\n",
        "# The data to hash\n",
        "c2.update(myData)"
      ],
      "metadata": {
        "id": "XOhVGMyb71Al"
      },
      "execution_count": 113,
      "outputs": []
    },
    {
      "cell_type": "code",
      "source": [
        "# Verify data integrity\n",
        "try:\n",
        "  c2.verify(myCmac_tag1)\n",
        "  print(\"File has not changed\")\n",
        "except InvalidSignature:\n",
        "  print(\"File has changed\")"
      ],
      "metadata": {
        "colab": {
          "base_uri": "https://localhost:8080/"
        },
        "id": "oxIezfT07319",
        "outputId": "6d58a157-d4ac-48db-c8bb-53444837cc6c"
      },
      "execution_count": 114,
      "outputs": [
        {
          "output_type": "stream",
          "name": "stdout",
          "text": [
            "File has not changed\n"
          ]
        }
      ]
    },
    {
      "cell_type": "markdown",
      "source": [
        "## 2.HMAC\n",
        "Χρήση HMAC για το δεύτερο ερώτημα.\n"
      ],
      "metadata": {
        "id": "A29eObtcRCI2"
      }
    },
    {
      "cell_type": "code",
      "source": [
        "# Import HMAC\n",
        "from cryptography.hazmat.primitives import hashes, hmac"
      ],
      "metadata": {
        "id": "XTH6MjJ7h3bh"
      },
      "execution_count": 115,
      "outputs": []
    },
    {
      "cell_type": "code",
      "source": [
        "# Initialize HMAC object using SHA-256 algorithm\n",
        "h1 = hmac.HMAC(key, hashes.SHA256())\n",
        "# Update the HMAC object with the data we want to authenticate\n",
        "h1.update(myData)\n",
        "# Finalize the current context\n",
        "signature1 = h1.finalize()\n",
        "print(signature1)"
      ],
      "metadata": {
        "id": "lKxUjIZEHj9y",
        "colab": {
          "base_uri": "https://localhost:8080/"
        },
        "outputId": "299a30f2-e7b9-4334-f444-717673e20fdd"
      },
      "execution_count": 116,
      "outputs": [
        {
          "output_type": "stream",
          "name": "stdout",
          "text": [
            "b'\\x10_\\x13\\x0e6\\x12@\\xa4} *\\xfeV\\xbe\\x95\\x1c/\\xbf_\\xbd\\x9b\\xae\\x01}\\xcdf\\xf3\\x85\\xf4F\\x14\"'\n"
          ]
        }
      ]
    },
    {
      "cell_type": "code",
      "source": [
        "# Initialize another HMAC object for test purposes\n",
        "h2 = hmac.HMAC(key, hashes.SHA256())\n",
        "# The data to hash\n",
        "h2.update(myData2)\n"
      ],
      "metadata": {
        "id": "kNKQX8wuIUWq"
      },
      "execution_count": 117,
      "outputs": []
    },
    {
      "cell_type": "code",
      "source": [
        "# Verify data integrity\n",
        "try:\n",
        "  h2.verify(signature1)\n",
        "  print(\"File has not changed\")\n",
        "except InvalidSignature:\n",
        "  print(\"File has changed\")"
      ],
      "metadata": {
        "colab": {
          "base_uri": "https://localhost:8080/"
        },
        "id": "TWl9rqc2Bzna",
        "outputId": "7e3f39e7-c874-4e3d-ad93-b5e96ecc7414"
      },
      "execution_count": 118,
      "outputs": [
        {
          "output_type": "stream",
          "name": "stdout",
          "text": [
            "File has changed\n"
          ]
        }
      ]
    },
    {
      "cell_type": "markdown",
      "source": [
        "## 2.Poly1305\n",
        "Χρήση Poly1305 για το δεύτερο ερώτημα.\n"
      ],
      "metadata": {
        "id": "qGyKgqv9iQmo"
      }
    },
    {
      "cell_type": "code",
      "source": [
        "# Import poly1305\n",
        "from cryptography.hazmat.primitives import poly1305"
      ],
      "metadata": {
        "id": "zSEYSbEEGFr7"
      },
      "execution_count": 119,
      "outputs": []
    },
    {
      "cell_type": "code",
      "source": [
        "# Initialize Poly1305 object\n",
        "p1 = poly1305.Poly1305(key)\n",
        "# The data to hash\n",
        "p1.update(myData)\n",
        "# Finalize the current content\n",
        "p1_tag = p1.finalize()"
      ],
      "metadata": {
        "id": "OHEtDFhDLAQ_"
      },
      "execution_count": 120,
      "outputs": []
    },
    {
      "cell_type": "code",
      "source": [
        "# Initialize another poly object for test purposes\n",
        "p2 = poly1305.Poly1305(key)\n",
        "# The data to hash\n",
        "p2.update(myData2)"
      ],
      "metadata": {
        "id": "-aV7liMyLpEQ"
      },
      "execution_count": 121,
      "outputs": []
    },
    {
      "cell_type": "code",
      "source": [
        "# Verify data integrity\n",
        "try:\n",
        "  p2.verify(p1_tag)\n",
        "  print(\"File has not changed\")\n",
        "except InvalidSignature:\n",
        "  print(\"File has changed\")"
      ],
      "metadata": {
        "colab": {
          "base_uri": "https://localhost:8080/"
        },
        "id": "LGtXMLTbgUjK",
        "outputId": "fa514062-a35a-46fd-a98d-8f540f4b5ffa"
      },
      "execution_count": 122,
      "outputs": [
        {
          "output_type": "stream",
          "name": "stdout",
          "text": [
            "File has changed\n"
          ]
        }
      ]
    },
    {
      "cell_type": "code",
      "source": [
        "print(\"CMAC hex: \", myCmac_tag1.hex())\n",
        "print(\"HMAC hex: \", signature1.hex())\n",
        "print(\"Poly1305 hex: \",p1_tag.hex())\n",
        "print(\"--------------------------------------------------------\")\n",
        "print(\"CMAC length: \",len(myCmac_tag1))\n",
        "print(\"HMAC length: \",len(signature1))\n",
        "print(\"Poly1305 length: \",len(p1_tag))\n",
        "print(\"--------------------------------------------------------\")\n",
        "print(\"CMAC memory size: \",sys.getsizeof(myCmac_tag1))\n",
        "print(\"HMAC memory size: \",sys.getsizeof(signature1))\n",
        "print(\"Poly1305 memory size: \",sys.getsizeof(p1_tag))\n"
      ],
      "metadata": {
        "colab": {
          "base_uri": "https://localhost:8080/"
        },
        "id": "XJzUZylYgVCZ",
        "outputId": "83cfd17e-9b52-4346-9a4d-ebf4d7f3179e"
      },
      "execution_count": 123,
      "outputs": [
        {
          "output_type": "stream",
          "name": "stdout",
          "text": [
            "CMAC hex:  97ad1254b54c9e6d2a5a601508887d48\n",
            "HMAC hex:  105f130e361240a47d202afe56be951c2fbf5fbd9bae017dcd66f385f4461422\n",
            "Poly1305 hex:  5860d999ed9323eef9021ebc85b1a578\n",
            "--------------------------------------------------------\n",
            "CMAC length:  16\n",
            "HMAC length:  32\n",
            "Poly1305 length:  16\n",
            "--------------------------------------------------------\n",
            "CMAC memory size:  49\n",
            "HMAC memory size:  65\n",
            "Poly1305 memory size:  49\n"
          ]
        }
      ]
    },
    {
      "cell_type": "markdown",
      "source": [
        "## Ανάλυση"
      ],
      "metadata": {
        "id": "iYl9nNdxAy0p"
      }
    },
    {
      "cell_type": "markdown",
      "source": [
        "Η χρήση του αλγορίθμου AES στο CMAC δημιουργεί ένα tag μήκους 16 byte, το ίδιο και ο Poly1305. Αντίθετα ο αλγόριθμος HMAC χρησιμοποιεί το hash function SHA-256 επομένως προσθέτει 32 bytes tag."
      ],
      "metadata": {
        "id": "55CEdUwpIVcN"
      }
    },
    {
      "cell_type": "markdown",
      "source": [
        "# Part a3"
      ],
      "metadata": {
        "id": "lzNgDzQjBYbz"
      }
    },
    {
      "cell_type": "markdown",
      "source": [
        "## 3.DSA\n",
        "Χρήση DSA για το τρίτο ερώτημα."
      ],
      "metadata": {
        "id": "ukNBIKs6IxmT"
      }
    },
    {
      "cell_type": "code",
      "source": [
        "# Import hashes and dsa\n",
        "from cryptography.hazmat.primitives import hashes\n",
        "from cryptography.hazmat.primitives.asymmetric import dsa"
      ],
      "metadata": {
        "id": "bpAtzRq5JChZ"
      },
      "execution_count": 124,
      "outputs": []
    },
    {
      "cell_type": "code",
      "source": [
        "# Generate private key\n",
        "private_key_dsa = dsa.generate_private_key(\n",
        "    key_size=1024,\n",
        ")"
      ],
      "metadata": {
        "id": "4GlK2HTtJHEg"
      },
      "execution_count": 125,
      "outputs": []
    },
    {
      "cell_type": "code",
      "source": [
        "# Sign the data with the key\n",
        "signature_dsa = private_key_dsa.sign(\n",
        "    myData,\n",
        "    hashes.SHA256()\n",
        ")"
      ],
      "metadata": {
        "id": "AYF3pVStJJgH"
      },
      "execution_count": 126,
      "outputs": []
    },
    {
      "cell_type": "code",
      "source": [
        "# Show signature (only for execise purposes)\n",
        "print(signature_dsa)"
      ],
      "metadata": {
        "colab": {
          "base_uri": "https://localhost:8080/"
        },
        "id": "F-gLnr-IJ4Ul",
        "outputId": "8c78e119-47a5-46a7-d2a9-f057dcbf3bdd"
      },
      "execution_count": 127,
      "outputs": [
        {
          "output_type": "stream",
          "name": "stdout",
          "text": [
            "b'0-\\x02\\x14)\\xe8\\x9f\\xb6P\\xce\\xdd\\xdd1\\xa1\\x894?[\\xe0\\xb1\\x18\\x93\\xba\\x7f\\x02\\x15\\x00\\xa2\\x83\\x9e\\x80\\xa3\\xb2\\xd5l\\xf5\\xeaD8\\xe0\"\\xb8\\xc3\\xa1\\xdc\\x0cH'\n"
          ]
        }
      ]
    },
    {
      "cell_type": "code",
      "source": [
        "# Generate public key\n",
        "public_key_dsa = private_key_dsa.public_key()"
      ],
      "metadata": {
        "id": "DZi9gtw-Jc61"
      },
      "execution_count": 128,
      "outputs": []
    },
    {
      "cell_type": "code",
      "source": [
        "# Verify sign with the public key\n",
        "public_key_dsa.verify(\n",
        "    signature_dsa,\n",
        "    myData,\n",
        "    hashes.SHA256()\n",
        ")"
      ],
      "metadata": {
        "id": "NnzcfLlLJiyQ"
      },
      "execution_count": 129,
      "outputs": []
    },
    {
      "cell_type": "markdown",
      "source": [
        "## 3.RSA\n",
        "Χρήση RSA για το τρίτο ερώτημα."
      ],
      "metadata": {
        "id": "itW8vIrII2AW"
      }
    },
    {
      "cell_type": "code",
      "source": [
        "# import rsa and padding\n",
        "from cryptography.hazmat.primitives.asymmetric import rsa\n",
        "from cryptography.hazmat.primitives.asymmetric import padding"
      ],
      "metadata": {
        "id": "A7TktaTuLkh_"
      },
      "execution_count": 130,
      "outputs": []
    },
    {
      "cell_type": "code",
      "source": [
        "# Generate private key\n",
        "private_key_rsa = rsa.generate_private_key(\n",
        "    public_exponent=65537,\n",
        "    key_size=2048,\n",
        ")"
      ],
      "metadata": {
        "id": "EtZOJdB0L0sd"
      },
      "execution_count": 131,
      "outputs": []
    },
    {
      "cell_type": "code",
      "source": [
        "# Sign the data with the key\n",
        "signature_rsa = private_key_rsa.sign(\n",
        "    myData,\n",
        "    padding.PSS(\n",
        "        mgf=padding.MGF1(hashes.SHA256()),\n",
        "        salt_length=padding.PSS.MAX_LENGTH\n",
        "    ),\n",
        "    hashes.SHA256()\n",
        ")"
      ],
      "metadata": {
        "id": "EKJzQ5sbMGeu"
      },
      "execution_count": 132,
      "outputs": []
    },
    {
      "cell_type": "code",
      "source": [
        "# Generate public key\n",
        "public_key_rsa = private_key_rsa.public_key()"
      ],
      "metadata": {
        "id": "GSUooBqvMgSy"
      },
      "execution_count": 133,
      "outputs": []
    },
    {
      "cell_type": "code",
      "source": [
        "# Verify sign with the public key\n",
        "public_key_rsa.verify(\n",
        "    signature_rsa,\n",
        "    myData,\n",
        "    padding.PSS(\n",
        "        mgf=padding.MGF1(hashes.SHA256()),\n",
        "        salt_length=padding.PSS.MAX_LENGTH\n",
        "    ),\n",
        "    hashes.SHA256()\n",
        ")"
      ],
      "metadata": {
        "id": "vkZXJahaMmme"
      },
      "execution_count": 134,
      "outputs": []
    },
    {
      "cell_type": "markdown",
      "source": [
        "## 3.Ed25519\n",
        "Χρήση Ed25519 για το τρίτο ερώτημα."
      ],
      "metadata": {
        "id": "A3WVeHupI6IU"
      }
    },
    {
      "cell_type": "code",
      "source": [
        "# Import ed25519\n",
        "from cryptography.hazmat.primitives.asymmetric.ed25519 import Ed25519PrivateKey"
      ],
      "metadata": {
        "id": "zRBXOEpFM82u"
      },
      "execution_count": 135,
      "outputs": []
    },
    {
      "cell_type": "code",
      "source": [
        "# Generate key\n",
        "private_key_ed = Ed25519PrivateKey.generate()"
      ],
      "metadata": {
        "id": "94kGoncZNA0j"
      },
      "execution_count": 136,
      "outputs": []
    },
    {
      "cell_type": "code",
      "source": [
        "# Sign data\n",
        "signature_ed = private_key_ed.sign(myData)"
      ],
      "metadata": {
        "id": "SomO5GsXNI3U"
      },
      "execution_count": 137,
      "outputs": []
    },
    {
      "cell_type": "code",
      "source": [
        "# Generate public key\n",
        "public_key_ed = private_key_ed.public_key()"
      ],
      "metadata": {
        "id": "3UMRKET0NnHC"
      },
      "execution_count": 138,
      "outputs": []
    },
    {
      "cell_type": "code",
      "source": [
        "# Verify sign with the public key\n",
        "public_key_ed.verify(signature_ed, myData)"
      ],
      "metadata": {
        "id": "k49oZxM_Nuqb"
      },
      "execution_count": 139,
      "outputs": []
    }
  ]
}